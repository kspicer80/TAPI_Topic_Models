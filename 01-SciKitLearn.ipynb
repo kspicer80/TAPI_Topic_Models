{
 "cells": [
  {
   "cell_type": "markdown",
   "metadata": {},
   "source": [
    "# Topic Modeling with SciKit Learn\n",
    "\n",
    "In this notebook we create a topic model from our corpus  using SciKit Learn's library. We'll save our results and then use another notebook to explore the results."
   ]
  },
  {
   "cell_type": "markdown",
   "metadata": {},
   "source": [
    "# Set Up"
   ]
  },
  {
   "cell_type": "markdown",
   "metadata": {},
   "source": [
    "## Imports"
   ]
  },
  {
   "cell_type": "code",
   "execution_count": 1,
   "metadata": {},
   "outputs": [],
   "source": [
    "import pandas as pd\n",
    "import numpy as np\n",
    "from lib import tapi"
   ]
  },
  {
   "cell_type": "markdown",
   "metadata": {},
   "source": [
    "## Configuration"
   ]
  },
  {
   "cell_type": "code",
   "execution_count": 2,
   "metadata": {
    "scrolled": true
   },
   "outputs": [
    {
     "data": {
      "text/plain": [
       "['airbnb',\n",
       " 'anphoblacht',\n",
       " 'arxiv',\n",
       " 'covid19',\n",
       " 'jstor_hyperparameter',\n",
       " 'novels',\n",
       " 'okcupid',\n",
       " 'tamilnet',\n",
       " 'winereviews',\n",
       " 'yelp',\n",
       " 'zuboff']"
      ]
     },
     "execution_count": 2,
     "metadata": {},
     "output_type": "execute_result"
    }
   ],
   "source": [
    "tapi.list_corpora()"
   ]
  },
  {
   "cell_type": "code",
   "execution_count": 3,
   "metadata": {},
   "outputs": [],
   "source": [
    "# data_prefix = 'winereviews'\n",
    "data_prefix = 'tamilnet'"
   ]
  },
  {
   "cell_type": "code",
   "execution_count": 4,
   "metadata": {},
   "outputs": [],
   "source": [
    "db = tapi.Edition(data_prefix)"
   ]
  },
  {
   "cell_type": "markdown",
   "metadata": {},
   "source": [
    "## Parameters"
   ]
  },
  {
   "cell_type": "code",
   "execution_count": 5,
   "metadata": {},
   "outputs": [],
   "source": [
    "n_terms = 4000 # Vocabulary size\n",
    "ngram_range = (1,4) # ngram min and max lengths\n",
    "n_topics = 20 # Number of topics\n",
    "max_iter = 5 # Number of iterations for topic model"
   ]
  },
  {
   "cell_type": "code",
   "execution_count": 6,
   "metadata": {},
   "outputs": [],
   "source": [
    "topic_cols = [t for t in range(n_topics)]"
   ]
  },
  {
   "cell_type": "markdown",
   "metadata": {},
   "source": [
    "## Create Tables Object\n",
    "\n",
    "These tables constitute a \"digital critical edition.\""
   ]
  },
  {
   "cell_type": "markdown",
   "metadata": {},
   "source": [
    "# Import Corpus Data\n",
    "\n",
    "We import a corpus in our standard format"
   ]
  },
  {
   "cell_type": "code",
   "execution_count": 7,
   "metadata": {},
   "outputs": [],
   "source": [
    "corpus = db.get_corpus()"
   ]
  },
  {
   "cell_type": "markdown",
   "metadata": {},
   "source": [
    "## Inspect contents"
   ]
  },
  {
   "cell_type": "code",
   "execution_count": 8,
   "metadata": {},
   "outputs": [
    {
     "data": {
      "text/html": [
       "<div>\n",
       "<style scoped>\n",
       "    .dataframe tbody tr th:only-of-type {\n",
       "        vertical-align: middle;\n",
       "    }\n",
       "\n",
       "    .dataframe tbody tr th {\n",
       "        vertical-align: top;\n",
       "    }\n",
       "\n",
       "    .dataframe thead th {\n",
       "        text-align: right;\n",
       "    }\n",
       "</style>\n",
       "<table border=\"1\" class=\"dataframe\">\n",
       "  <thead>\n",
       "    <tr style=\"text-align: right;\">\n",
       "      <th></th>\n",
       "      <th>doc_key</th>\n",
       "      <th>doc_title</th>\n",
       "      <th>doc_uri</th>\n",
       "      <th>doc_label</th>\n",
       "      <th>doc_ord</th>\n",
       "      <th>doc_content</th>\n",
       "      <th>doc_original</th>\n",
       "      <th>doc_year</th>\n",
       "      <th>doc_date</th>\n",
       "      <th>doc_citation</th>\n",
       "    </tr>\n",
       "    <tr>\n",
       "      <th>doc_id</th>\n",
       "      <th></th>\n",
       "      <th></th>\n",
       "      <th></th>\n",
       "      <th></th>\n",
       "      <th></th>\n",
       "      <th></th>\n",
       "      <th></th>\n",
       "      <th></th>\n",
       "      <th></th>\n",
       "      <th></th>\n",
       "    </tr>\n",
       "  </thead>\n",
       "  <tbody>\n",
       "    <tr>\n",
       "      <th>0</th>\n",
       "      <td>19631</td>\n",
       "      <td>Speaker urged to ensure protection to parliame...</td>\n",
       "      <td>https://www.tamilnet.com/art.html?catid=13&amp;art...</td>\n",
       "      <td>2007</td>\n",
       "      <td>2007</td>\n",
       "      <td>anura bandaranaike minister for national heri...</td>\n",
       "      <td>&lt;h1&gt;Speaker urged to ensure protection to parl...</td>\n",
       "      <td>NaN</td>\n",
       "      <td>NaN</td>\n",
       "      <td>NaN</td>\n",
       "    </tr>\n",
       "    <tr>\n",
       "      <th>1</th>\n",
       "      <td>16455</td>\n",
       "      <td>Youth shot at Valaichenai Church</td>\n",
       "      <td>https://www.tamilnet.com/art.html?catid=13&amp;art...</td>\n",
       "      <td>2006</td>\n",
       "      <td>2006</td>\n",
       "      <td>two motorbike riding gunmen shot and wounded ...</td>\n",
       "      <td>&lt;h1&gt;Youth shot at Valaichenai Church &lt;/h1&gt; [Ta...</td>\n",
       "      <td>NaN</td>\n",
       "      <td>NaN</td>\n",
       "      <td>NaN</td>\n",
       "    </tr>\n",
       "    <tr>\n",
       "      <th>2</th>\n",
       "      <td>13890</td>\n",
       "      <td>Token fast held in Trinco in support of aid deal</td>\n",
       "      <td>https://www.tamilnet.com/art.html?catid=13&amp;art...</td>\n",
       "      <td>2005</td>\n",
       "      <td>2005</td>\n",
       "      <td>one-day token fast was held in trincomalee to...</td>\n",
       "      <td>&lt;h1&gt;Token fast held in Trinco in support of ai...</td>\n",
       "      <td>NaN</td>\n",
       "      <td>NaN</td>\n",
       "      <td>NaN</td>\n",
       "    </tr>\n",
       "    <tr>\n",
       "      <th>3</th>\n",
       "      <td>15106</td>\n",
       "      <td>World concerned over escalation of violence, S...</td>\n",
       "      <td>https://www.tamilnet.com/art.html?catid=13&amp;art...</td>\n",
       "      <td>2005</td>\n",
       "      <td>2005</td>\n",
       "      <td>the global community is gravely concerned ove...</td>\n",
       "      <td>&lt;h1&gt;World concerned over escalation of violenc...</td>\n",
       "      <td>NaN</td>\n",
       "      <td>NaN</td>\n",
       "      <td>NaN</td>\n",
       "    </tr>\n",
       "    <tr>\n",
       "      <th>4</th>\n",
       "      <td>26524</td>\n",
       "      <td>United Sri Lanka is the steadfast aim of UNP ...</td>\n",
       "      <td>https://www.tamilnet.com/art.html?catid=13&amp;art...</td>\n",
       "      <td>2009</td>\n",
       "      <td>2009</td>\n",
       "      <td>general secretary of united national party un...</td>\n",
       "      <td>&lt;h1&gt;United Sri Lanka is the steadfast aim of U...</td>\n",
       "      <td>NaN</td>\n",
       "      <td>NaN</td>\n",
       "      <td>NaN</td>\n",
       "    </tr>\n",
       "    <tr>\n",
       "      <th>5</th>\n",
       "      <td>1428</td>\n",
       "      <td>UN official calls for end to war</td>\n",
       "      <td>https://www.tamilnet.com/art.html?catid=13&amp;art...</td>\n",
       "      <td>1998</td>\n",
       "      <td>1998</td>\n",
       "      <td>the un special representative on children in ...</td>\n",
       "      <td>&lt;h1&gt;UN official calls for end to war &lt;/h1&gt; [Ta...</td>\n",
       "      <td>NaN</td>\n",
       "      <td>NaN</td>\n",
       "      <td>NaN</td>\n",
       "    </tr>\n",
       "    <tr>\n",
       "      <th>6</th>\n",
       "      <td>14822</td>\n",
       "      <td>Paramilitary cadres abduct 3 youths in Batticaloa</td>\n",
       "      <td>https://www.tamilnet.com/art.html?catid=13&amp;art...</td>\n",
       "      <td>2005</td>\n",
       "      <td>2005</td>\n",
       "      <td>armed men believed to be the cadres of the pa...</td>\n",
       "      <td>&lt;h1&gt;Paramilitary cadres abduct 3 youths in Bat...</td>\n",
       "      <td>NaN</td>\n",
       "      <td>NaN</td>\n",
       "      <td>NaN</td>\n",
       "    </tr>\n",
       "    <tr>\n",
       "      <th>7</th>\n",
       "      <td>4198</td>\n",
       "      <td>Soldier killed in firefight</td>\n",
       "      <td>https://www.tamilnet.com/art.html?catid=13&amp;art...</td>\n",
       "      <td>1999</td>\n",
       "      <td>1999</td>\n",
       "      <td>a soldiers was killed when members of the lib...</td>\n",
       "      <td>&lt;h1&gt;Soldier killed in firefight &lt;/h1&gt; [TamilNe...</td>\n",
       "      <td>NaN</td>\n",
       "      <td>NaN</td>\n",
       "      <td>NaN</td>\n",
       "    </tr>\n",
       "    <tr>\n",
       "      <th>8</th>\n",
       "      <td>31955</td>\n",
       "      <td>Badurdeen squad threatens Tamil newspaper edit...</td>\n",
       "      <td>https://www.tamilnet.com/art.html?catid=13&amp;art...</td>\n",
       "      <td>2014</td>\n",
       "      <td>2014</td>\n",
       "      <td>a squad led by upfa provincial councillor fro...</td>\n",
       "      <td>&lt;h1&gt;Badurdeen squad threatens Tamil newspaper ...</td>\n",
       "      <td>NaN</td>\n",
       "      <td>NaN</td>\n",
       "      <td>NaN</td>\n",
       "    </tr>\n",
       "    <tr>\n",
       "      <th>9</th>\n",
       "      <td>8432</td>\n",
       "      <td>Tamil villages without post boxes</td>\n",
       "      <td>https://www.tamilnet.com/art.html?catid=13&amp;art...</td>\n",
       "      <td>2003</td>\n",
       "      <td>2003</td>\n",
       "      <td>several tamil villages in the trincomalee dis...</td>\n",
       "      <td>&lt;h1&gt;Tamil villages without post boxes &lt;/h1&gt; [T...</td>\n",
       "      <td>NaN</td>\n",
       "      <td>NaN</td>\n",
       "      <td>NaN</td>\n",
       "    </tr>\n",
       "  </tbody>\n",
       "</table>\n",
       "</div>"
      ],
      "text/plain": [
       "        doc_key                                          doc_title  \\\n",
       "doc_id                                                               \n",
       "0         19631  Speaker urged to ensure protection to parliame...   \n",
       "1         16455                   Youth shot at Valaichenai Church   \n",
       "2         13890   Token fast held in Trinco in support of aid deal   \n",
       "3         15106  World concerned over escalation of violence, S...   \n",
       "4         26524  United Sri Lanka is the steadfast aim of UNP ...   \n",
       "5          1428                   UN official calls for end to war   \n",
       "6         14822  Paramilitary cadres abduct 3 youths in Batticaloa   \n",
       "7          4198                        Soldier killed in firefight   \n",
       "8         31955  Badurdeen squad threatens Tamil newspaper edit...   \n",
       "9          8432                  Tamil villages without post boxes   \n",
       "\n",
       "                                                  doc_uri  doc_label  doc_ord  \\\n",
       "doc_id                                                                          \n",
       "0       https://www.tamilnet.com/art.html?catid=13&art...       2007     2007   \n",
       "1       https://www.tamilnet.com/art.html?catid=13&art...       2006     2006   \n",
       "2       https://www.tamilnet.com/art.html?catid=13&art...       2005     2005   \n",
       "3       https://www.tamilnet.com/art.html?catid=13&art...       2005     2005   \n",
       "4       https://www.tamilnet.com/art.html?catid=13&art...       2009     2009   \n",
       "5       https://www.tamilnet.com/art.html?catid=13&art...       1998     1998   \n",
       "6       https://www.tamilnet.com/art.html?catid=13&art...       2005     2005   \n",
       "7       https://www.tamilnet.com/art.html?catid=13&art...       1999     1999   \n",
       "8       https://www.tamilnet.com/art.html?catid=13&art...       2014     2014   \n",
       "9       https://www.tamilnet.com/art.html?catid=13&art...       2003     2003   \n",
       "\n",
       "                                              doc_content  \\\n",
       "doc_id                                                      \n",
       "0        anura bandaranaike minister for national heri...   \n",
       "1        two motorbike riding gunmen shot and wounded ...   \n",
       "2        one-day token fast was held in trincomalee to...   \n",
       "3        the global community is gravely concerned ove...   \n",
       "4        general secretary of united national party un...   \n",
       "5        the un special representative on children in ...   \n",
       "6        armed men believed to be the cadres of the pa...   \n",
       "7        a soldiers was killed when members of the lib...   \n",
       "8        a squad led by upfa provincial councillor fro...   \n",
       "9        several tamil villages in the trincomalee dis...   \n",
       "\n",
       "                                             doc_original  doc_year  doc_date  \\\n",
       "doc_id                                                                          \n",
       "0       <h1>Speaker urged to ensure protection to parl...       NaN       NaN   \n",
       "1       <h1>Youth shot at Valaichenai Church </h1> [Ta...       NaN       NaN   \n",
       "2       <h1>Token fast held in Trinco in support of ai...       NaN       NaN   \n",
       "3       <h1>World concerned over escalation of violenc...       NaN       NaN   \n",
       "4       <h1>United Sri Lanka is the steadfast aim of U...       NaN       NaN   \n",
       "5       <h1>UN official calls for end to war </h1> [Ta...       NaN       NaN   \n",
       "6       <h1>Paramilitary cadres abduct 3 youths in Bat...       NaN       NaN   \n",
       "7       <h1>Soldier killed in firefight </h1> [TamilNe...       NaN       NaN   \n",
       "8       <h1>Badurdeen squad threatens Tamil newspaper ...       NaN       NaN   \n",
       "9       <h1>Tamil villages without post boxes </h1> [T...       NaN       NaN   \n",
       "\n",
       "        doc_citation  \n",
       "doc_id                \n",
       "0                NaN  \n",
       "1                NaN  \n",
       "2                NaN  \n",
       "3                NaN  \n",
       "4                NaN  \n",
       "5                NaN  \n",
       "6                NaN  \n",
       "7                NaN  \n",
       "8                NaN  \n",
       "9                NaN  "
      ]
     },
     "execution_count": 8,
     "metadata": {},
     "output_type": "execute_result"
    }
   ],
   "source": [
    "corpus.head(10)"
   ]
  },
  {
   "cell_type": "code",
   "execution_count": 9,
   "metadata": {},
   "outputs": [
    {
     "data": {
      "text/plain": [
       "(10000, 10)"
      ]
     },
     "execution_count": 9,
     "metadata": {},
     "output_type": "execute_result"
    }
   ],
   "source": [
    "corpus.shape"
   ]
  },
  {
   "cell_type": "code",
   "execution_count": 10,
   "metadata": {},
   "outputs": [
    {
     "name": "stdout",
     "output_type": "stream",
     "text": [
      "<class 'pandas.core.frame.DataFrame'>\n",
      "RangeIndex: 10000 entries, 0 to 9999\n",
      "Data columns (total 10 columns):\n",
      " #   Column        Non-Null Count  Dtype  \n",
      "---  ------        --------------  -----  \n",
      " 0   doc_key       10000 non-null  int64  \n",
      " 1   doc_title     10000 non-null  object \n",
      " 2   doc_uri       10000 non-null  object \n",
      " 3   doc_label     10000 non-null  int64  \n",
      " 4   doc_ord       10000 non-null  int64  \n",
      " 5   doc_content   10000 non-null  object \n",
      " 6   doc_original  10000 non-null  object \n",
      " 7   doc_year      0 non-null      float64\n",
      " 8   doc_date      0 non-null      float64\n",
      " 9   doc_citation  0 non-null      float64\n",
      "dtypes: float64(3), int64(3), object(4)\n",
      "memory usage: 781.4+ KB\n"
     ]
    }
   ],
   "source": [
    "corpus.info()"
   ]
  },
  {
   "cell_type": "markdown",
   "metadata": {},
   "source": [
    "# Create Bag-of-Words \n",
    "\n",
    "ie. a __Count Vector Space__\n",
    "\n",
    "We use Scikit Learn's CountVectorizer to convert our F1 corpus of paragraphs into a document-term vector space of word counts."
   ]
  },
  {
   "cell_type": "code",
   "execution_count": 11,
   "metadata": {},
   "outputs": [],
   "source": [
    "from sklearn.feature_extraction.text import CountVectorizer, TfidfTransformer"
   ]
  },
  {
   "cell_type": "code",
   "execution_count": null,
   "metadata": {},
   "outputs": [],
   "source": [
    "count_engine = CountVectorizer(max_features=n_terms, stop_words='english', ngram_range=ngram_range)\n",
    "count_model = count_engine.fit_transform(corpus.doc_content)"
   ]
  },
  {
   "cell_type": "code",
   "execution_count": null,
   "metadata": {},
   "outputs": [],
   "source": [
    "# corpus.doc_content"
   ]
  },
  {
   "cell_type": "markdown",
   "metadata": {},
   "source": [
    "## Get Generated VOCAB"
   ]
  },
  {
   "cell_type": "code",
   "execution_count": null,
   "metadata": {},
   "outputs": [],
   "source": [
    "db.VOCAB = pd.DataFrame(count_engine.get_feature_names(), columns=['term_str'])\n",
    "db.VOCAB = db.VOCAB.set_index('term_str')\n",
    "db.VOCAB['ngram_len'] = None # To be added later\n",
    "# VOCAB.index.name = 'term_id' # For convenience, we'll use strings for IDs"
   ]
  },
  {
   "cell_type": "code",
   "execution_count": null,
   "metadata": {},
   "outputs": [],
   "source": [
    "db.VOCAB.sample(10)"
   ]
  },
  {
   "cell_type": "markdown",
   "metadata": {},
   "source": [
    "## Get Generated BOW\n",
    "\n",
    "We do this just to show what the counter vectorizer produced. `DTM` stands for documet-term matrix. We convert this sparse matrix into a \"thin\" dataframe that keeps only terms with counts for each document. "
   ]
  },
  {
   "cell_type": "code",
   "execution_count": null,
   "metadata": {},
   "outputs": [],
   "source": [
    "db.DTM = pd.DataFrame(count_model.toarray(), index=corpus.index, columns=db.VOCAB.index)\n",
    "db.BOW = db.DTM.stack().to_frame('n')\n",
    "db.BOW = db.BOW[~(db.BOW.n == 0)]"
   ]
  },
  {
   "cell_type": "code",
   "execution_count": null,
   "metadata": {},
   "outputs": [],
   "source": [
    "# db.BOW.head(10)"
   ]
  },
  {
   "cell_type": "code",
   "execution_count": null,
   "metadata": {},
   "outputs": [],
   "source": [
    "db.DTM.info(verbose=False)"
   ]
  },
  {
   "cell_type": "code",
   "execution_count": null,
   "metadata": {},
   "outputs": [],
   "source": [
    "db.BOW.info(verbose=False)"
   ]
  },
  {
   "cell_type": "markdown",
   "metadata": {},
   "source": [
    "## Compute TF-IDF"
   ]
  },
  {
   "cell_type": "code",
   "execution_count": null,
   "metadata": {},
   "outputs": [],
   "source": [
    "tfidf_engine = TfidfTransformer()\n",
    "tfidf_model = tfidf_engine.fit_transform(count_model)"
   ]
  },
  {
   "cell_type": "code",
   "execution_count": null,
   "metadata": {},
   "outputs": [],
   "source": [
    "db.TFIDF = pd.DataFrame(tfidf_model.toarray(), index=corpus.index, columns=db.VOCAB.index)"
   ]
  },
  {
   "cell_type": "code",
   "execution_count": null,
   "metadata": {},
   "outputs": [],
   "source": [
    "db.BOW['tfidf'] = db.TFIDF.stack()"
   ]
  },
  {
   "cell_type": "code",
   "execution_count": null,
   "metadata": {},
   "outputs": [],
   "source": [
    "db.BOW"
   ]
  },
  {
   "cell_type": "markdown",
   "metadata": {},
   "source": [
    "## Add Features to VOCAB"
   ]
  },
  {
   "cell_type": "code",
   "execution_count": null,
   "metadata": {},
   "outputs": [],
   "source": [
    "db.VOCAB['ngram_len'] = db.VOCAB.apply(lambda x: len(x.name.split()), 1)\n",
    "db.VOCAB['n'] = db.DTM.sum()\n",
    "db.VOCAB['tfidf_mean'] = db.TFIDF.mean()"
   ]
  },
  {
   "cell_type": "code",
   "execution_count": null,
   "metadata": {},
   "outputs": [],
   "source": [
    "db.VOCAB"
   ]
  },
  {
   "cell_type": "code",
   "execution_count": null,
   "metadata": {},
   "outputs": [],
   "source": [
    "db.VOCAB.ngram_len.value_counts().plot.bar()"
   ]
  },
  {
   "cell_type": "markdown",
   "metadata": {
    "toc-hr-collapsed": false
   },
   "source": [
    "# Generate Topic Models\n",
    "\n",
    "We run Scikit Learn's [LatentDirichletAllocation algorithm](https://scikit-learn.org/stable/modules/generated/sklearn.decomposition.LatentDirichletAllocation.html#sklearn.decomposition.LatentDirichletAllocation) and extract the THETA and PHI tables."
   ]
  },
  {
   "cell_type": "code",
   "execution_count": null,
   "metadata": {},
   "outputs": [],
   "source": [
    "from sklearn.decomposition import LatentDirichletAllocation as LDA, NMF"
   ]
  },
  {
   "cell_type": "markdown",
   "metadata": {},
   "source": [
    "## Using LDA"
   ]
  },
  {
   "cell_type": "code",
   "execution_count": null,
   "metadata": {},
   "outputs": [],
   "source": [
    "lda_engine = LDA(n_components=n_topics, max_iter=max_iter, learning_offset=50., random_state=0)"
   ]
  },
  {
   "cell_type": "markdown",
   "metadata": {},
   "source": [
    "### THETA"
   ]
  },
  {
   "cell_type": "code",
   "execution_count": null,
   "metadata": {},
   "outputs": [],
   "source": [
    "db.THETA = pd.DataFrame(lda_engine.fit_transform(count_model), index=corpus.index)\n",
    "db.THETA.index.name = 'doc_id'\n",
    "db.THETA.columns.name = 'topic_id'"
   ]
  },
  {
   "cell_type": "code",
   "execution_count": null,
   "metadata": {},
   "outputs": [],
   "source": [
    "db.THETA.sample(20).T.style.background_gradient()"
   ]
  },
  {
   "cell_type": "markdown",
   "metadata": {},
   "source": [
    "### PHI"
   ]
  },
  {
   "cell_type": "code",
   "execution_count": null,
   "metadata": {},
   "outputs": [],
   "source": [
    "db.PHI = pd.DataFrame(lda_engine.components_, columns=db.VOCAB.index)\n",
    "db.PHI.index.name = 'topic_id'\n",
    "db.PHI.columns.name  = 'term_str'"
   ]
  },
  {
   "cell_type": "code",
   "execution_count": null,
   "metadata": {
    "scrolled": true
   },
   "outputs": [],
   "source": [
    "db.PHI.T.head().style.background_gradient()"
   ]
  },
  {
   "cell_type": "markdown",
   "metadata": {},
   "source": [
    "### Create Topic Glosses"
   ]
  },
  {
   "cell_type": "code",
   "execution_count": null,
   "metadata": {},
   "outputs": [],
   "source": [
    "n_top_words = 7"
   ]
  },
  {
   "cell_type": "code",
   "execution_count": null,
   "metadata": {},
   "outputs": [],
   "source": [
    "db.TOPICS = db.PHI.stack()\\\n",
    "    .to_frame('weight')\\\n",
    "    .groupby('topic_id')\\\n",
    "    .apply(lambda x: x.weight.sort_values(ascending=False)\\\n",
    "               .head(n_top_words)\\\n",
    "               .reset_index()\\\n",
    "               .drop('topic_id',1)\\\n",
    "               .term_str)"
   ]
  },
  {
   "cell_type": "code",
   "execution_count": null,
   "metadata": {},
   "outputs": [],
   "source": [
    "db.TOPICS"
   ]
  },
  {
   "cell_type": "code",
   "execution_count": null,
   "metadata": {},
   "outputs": [],
   "source": [
    "db.TOPICS['topwords'] = db.TOPICS.apply(lambda x: str(x.name) + ' ' + ', '.join(x), 1)"
   ]
  },
  {
   "cell_type": "code",
   "execution_count": null,
   "metadata": {},
   "outputs": [],
   "source": [
    "db.TOPICS"
   ]
  },
  {
   "cell_type": "markdown",
   "metadata": {},
   "source": [
    "### Add Doc Weights"
   ]
  },
  {
   "cell_type": "code",
   "execution_count": null,
   "metadata": {},
   "outputs": [],
   "source": [
    "db.TOPICS['doc_weight_sum'] = db.THETA.sum()"
   ]
  },
  {
   "cell_type": "code",
   "execution_count": null,
   "metadata": {},
   "outputs": [],
   "source": [
    "db.TOPICS.iloc[:, 7:].sort_values('doc_weight_sum', ascending=False).style.bar()"
   ]
  },
  {
   "cell_type": "markdown",
   "metadata": {},
   "source": [
    "## Using NMF"
   ]
  },
  {
   "cell_type": "code",
   "execution_count": null,
   "metadata": {},
   "outputs": [],
   "source": [
    "nmf_engine = NMF(n_components=n_topics, init='nndsvd', random_state=1, alpha=.1, l1_ratio=.5)"
   ]
  },
  {
   "cell_type": "markdown",
   "metadata": {},
   "source": [
    "### THETA"
   ]
  },
  {
   "cell_type": "code",
   "execution_count": null,
   "metadata": {},
   "outputs": [],
   "source": [
    "db.THETA_NMF = pd.DataFrame(nmf_engine.fit_transform(tfidf_model), index=corpus.index)\n",
    "db.THETA_NMF.columns.name = 'topic_id'"
   ]
  },
  {
   "cell_type": "code",
   "execution_count": null,
   "metadata": {},
   "outputs": [],
   "source": [
    "db.THETA_NMF.sample(20).style.background_gradient()"
   ]
  },
  {
   "cell_type": "markdown",
   "metadata": {},
   "source": [
    "### PHI"
   ]
  },
  {
   "cell_type": "code",
   "execution_count": null,
   "metadata": {},
   "outputs": [],
   "source": [
    "db.PHI_NMF = pd.DataFrame(nmf_engine.components_, columns=db.VOCAB.index)"
   ]
  },
  {
   "cell_type": "code",
   "execution_count": null,
   "metadata": {},
   "outputs": [],
   "source": [
    "db.PHI_NMF.index.name = 'topic_id'\n",
    "db.PHI_NMF.columns.name = 'term_str'"
   ]
  },
  {
   "cell_type": "code",
   "execution_count": null,
   "metadata": {},
   "outputs": [],
   "source": [
    "db.PHI_NMF.T.head().style.background_gradient()"
   ]
  },
  {
   "cell_type": "markdown",
   "metadata": {},
   "source": [
    "### Topics"
   ]
  },
  {
   "cell_type": "code",
   "execution_count": null,
   "metadata": {},
   "outputs": [],
   "source": [
    "db.TOPICS_NMF = db.PHI_NMF.stack()\\\n",
    "    .to_frame('weight')\\\n",
    "    .groupby('topic_id')\\\n",
    "    .apply(lambda x: \n",
    "           x.weight.sort_values(ascending=False)\\\n",
    "               .head(n_top_words)\\\n",
    "               .reset_index()\\\n",
    "               .drop('topic_id',1)\\\n",
    "               .term_str)"
   ]
  },
  {
   "cell_type": "code",
   "execution_count": null,
   "metadata": {},
   "outputs": [],
   "source": [
    "db.TOPICS_NMF"
   ]
  },
  {
   "cell_type": "code",
   "execution_count": null,
   "metadata": {},
   "outputs": [],
   "source": [
    "db.TOPICS_NMF['topwords'] = db.TOPICS_NMF.apply(lambda x: str(x.name) + ' ' + ', '.join(x), 1)"
   ]
  },
  {
   "cell_type": "markdown",
   "metadata": {},
   "source": [
    "### Add Doc Weights"
   ]
  },
  {
   "cell_type": "code",
   "execution_count": null,
   "metadata": {},
   "outputs": [],
   "source": [
    "db.TOPICS_NMF['doc_weight_sum'] = db.THETA_NMF.sum()"
   ]
  },
  {
   "cell_type": "code",
   "execution_count": null,
   "metadata": {
    "scrolled": false
   },
   "outputs": [],
   "source": [
    "db.TOPICS_NMF.iloc[:, 7:].sort_values('doc_weight_sum', ascending=False).style.bar()"
   ]
  },
  {
   "cell_type": "markdown",
   "metadata": {},
   "source": [
    "# Save the Model"
   ]
  },
  {
   "cell_type": "markdown",
   "metadata": {},
   "source": [
    "## Keep Corpus Label Info\n",
    "\n",
    "This is effectively the LIB table."
   ]
  },
  {
   "cell_type": "code",
   "execution_count": null,
   "metadata": {},
   "outputs": [],
   "source": [
    "db.LABELS = corpus[set(corpus.columns.tolist()) - set(['doc_key', 'doc_content', 'doc_original'])]"
   ]
  },
  {
   "cell_type": "markdown",
   "metadata": {},
   "source": [
    "## Save Tables"
   ]
  },
  {
   "cell_type": "code",
   "execution_count": null,
   "metadata": {
    "scrolled": true
   },
   "outputs": [],
   "source": [
    "db.save_tables()"
   ]
  },
  {
   "cell_type": "code",
   "execution_count": null,
   "metadata": {},
   "outputs": [],
   "source": [
    "# See if it worked ...\n",
    "\n",
    "!ls -l ./db/{data_prefix}*.csv"
   ]
  },
  {
   "cell_type": "markdown",
   "metadata": {},
   "source": [
    "# Visualize with LDAViz"
   ]
  },
  {
   "cell_type": "code",
   "execution_count": null,
   "metadata": {},
   "outputs": [],
   "source": [
    "db.pyldaviz()"
   ]
  },
  {
   "cell_type": "code",
   "execution_count": null,
   "metadata": {},
   "outputs": [],
   "source": []
  }
 ],
 "metadata": {
  "kernelspec": {
   "display_name": "Python 3",
   "language": "python",
   "name": "python3"
  },
  "language_info": {
   "codemirror_mode": {
    "name": "ipython",
    "version": 3
   },
   "file_extension": ".py",
   "mimetype": "text/x-python",
   "name": "python",
   "nbconvert_exporter": "python",
   "pygments_lexer": "ipython3",
   "version": "3.8.8"
  },
  "latex_envs": {
   "LaTeX_envs_menu_present": true,
   "autoclose": false,
   "autocomplete": true,
   "bibliofile": "biblio.bib",
   "cite_by": "apalike",
   "current_citInitial": 1,
   "eqLabelWithNumbers": true,
   "eqNumInitial": 1,
   "hotkeys": {
    "equation": "Ctrl-E",
    "itemize": "Ctrl-I"
   },
   "labels_anchors": false,
   "latex_user_defs": false,
   "report_style_numbering": false,
   "user_envs_cfg": false
  },
  "toc": {
   "base_numbering": 1,
   "nav_menu": {},
   "number_sections": true,
   "sideBar": true,
   "skip_h1_title": false,
   "title_cell": "Table of Contents",
   "title_sidebar": "Contents",
   "toc_cell": false,
   "toc_position": {
    "height": "calc(100% - 180px)",
    "left": "10px",
    "top": "150px",
    "width": "165px"
   },
   "toc_section_display": true,
   "toc_window_display": false
  },
  "varInspector": {
   "cols": {
    "lenName": 16,
    "lenType": 16,
    "lenVar": 40
   },
   "kernels_config": {
    "python": {
     "delete_cmd_postfix": "",
     "delete_cmd_prefix": "del ",
     "library": "var_list.py",
     "varRefreshCmd": "print(var_dic_list())"
    },
    "r": {
     "delete_cmd_postfix": ") ",
     "delete_cmd_prefix": "rm(",
     "library": "var_list.r",
     "varRefreshCmd": "cat(var_dic_list()) "
    }
   },
   "types_to_exclude": [
    "module",
    "function",
    "builtin_function_or_method",
    "instance",
    "_Feature"
   ],
   "window_display": false
  },
  "widgets": {
   "application/vnd.jupyter.widget-state+json": {
    "state": {},
    "version_major": 2,
    "version_minor": 0
   }
  }
 },
 "nbformat": 4,
 "nbformat_minor": 4
}
