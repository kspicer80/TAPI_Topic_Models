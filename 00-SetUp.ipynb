{
 "cells": [
  {
   "cell_type": "markdown",
   "id": "f06d490a-5398-4f25-8113-4786b1966720",
   "metadata": {},
   "source": [
    "# Setting Up"
   ]
  },
  {
   "cell_type": "markdown",
   "id": "63e2f582",
   "metadata": {},
   "source": [
    "# Get Corpus Data\n",
    "\n",
    "Corpus data files are `CSV` files in a specific format (__machine learning corpus format__). A collection of them have been prepared for this workshop. Download them and then upload them to the `./corpora` folder in your Binder repository. Sorry that the process is not more direct!\n",
    "\n",
    "Corpus data may be downloaded from the following shared Dropbox link:\n",
    "\n",
    "* [TAPI Corpora Directory](https://www.dropbox.com/sh/t6im8ni921gxinr/AADL_-VPetjmDIMO3vYAFvNRa?dl=0)  \n",
    "\n",
    "Additionally, these files may be downloaded individually:\n",
    "\n",
    "* [Wine Reviews](https://www.dropbox.com/s/0rszsd6t30c0n3y/winereviews-tapi.csv?dl=0) &mdash; A collection of terse wine reviews.\n",
    "* [JSTOR Hyperparameter](https://www.dropbox.com/s/uoa8191px405fj0/jstor_hyperparameter-tapi.csv?dl=0) &mdash; Abstracts from a JSTOR search for \"hyperparameter.\" \n",
    "* [Tamilnet](https://www.dropbox.com/s/dtqnzcbkcp07u5e/tamilnet-tapi.csv?dl=0) &mdash; A sample of news stories from the website Tamilnet.\n",
    "* [Anphoblach](https://www.dropbox.com/s/lrmt92q59npx0x5/anphoblacht-tapi.csv?dl=0) &mdash; A sample of news stories from the website Anphoblacht.\n",
    "\n",
    "\n",
    "Each link goes to a Dropbox item that has a download link. Download the file to your desktop and then upload to the appropriate directory.\n",
    "\n",
    "\n",
    "\n",
    "\n",
    "# Get Sample Output Data\n",
    "\n",
    "The notebooks in this workshop will generate a __digital analytical edition__ from a given source corpus file. The results of the various analytical processes will be put in the `./db` directory. A demonstration edition is provided for one of the notebooks. To get the demo data, download then upload the files with the prefix `jstor_hyperparameter_demo` into to your `./db` directory.\n",
    "\n",
    "* [TAPI Editions Directory](https://www.dropbox.com/sh/51viylnaqlrcsy9/AAAfW8KcVu-PlU_APGXhDd-Va?dl=0)\n",
    "\n",
    "\n"
   ]
  }
 ],
 "metadata": {
  "kernelspec": {
   "display_name": "Python 3",
   "language": "python",
   "name": "python3"
  },
  "language_info": {
   "codemirror_mode": {
    "name": "ipython",
    "version": 3
   },
   "file_extension": ".py",
   "mimetype": "text/x-python",
   "name": "python",
   "nbconvert_exporter": "python",
   "pygments_lexer": "ipython3",
   "version": "3.8.3"
  },
  "latex_envs": {
   "LaTeX_envs_menu_present": true,
   "autoclose": false,
   "autocomplete": true,
   "bibliofile": "biblio.bib",
   "cite_by": "apalike",
   "current_citInitial": 1,
   "eqLabelWithNumbers": true,
   "eqNumInitial": 1,
   "hotkeys": {
    "equation": "Ctrl-E",
    "itemize": "Ctrl-I"
   },
   "labels_anchors": false,
   "latex_user_defs": false,
   "report_style_numbering": false,
   "user_envs_cfg": false
  },
  "toc": {
   "base_numbering": 1,
   "nav_menu": {},
   "number_sections": true,
   "sideBar": true,
   "skip_h1_title": false,
   "title_cell": "Table of Contents",
   "title_sidebar": "Contents",
   "toc_cell": false,
   "toc_position": {},
   "toc_section_display": true,
   "toc_window_display": false
  },
  "varInspector": {
   "cols": {
    "lenName": 16,
    "lenType": 16,
    "lenVar": 40
   },
   "kernels_config": {
    "python": {
     "delete_cmd_postfix": "",
     "delete_cmd_prefix": "del ",
     "library": "var_list.py",
     "varRefreshCmd": "print(var_dic_list())"
    },
    "r": {
     "delete_cmd_postfix": ") ",
     "delete_cmd_prefix": "rm(",
     "library": "var_list.r",
     "varRefreshCmd": "cat(var_dic_list()) "
    }
   },
   "types_to_exclude": [
    "module",
    "function",
    "builtin_function_or_method",
    "instance",
    "_Feature"
   ],
   "window_display": false
  },
  "widgets": {
   "application/vnd.jupyter.widget-state+json": {
    "state": {},
    "version_major": 2,
    "version_minor": 0
   }
  }
 },
 "nbformat": 4,
 "nbformat_minor": 5
}
