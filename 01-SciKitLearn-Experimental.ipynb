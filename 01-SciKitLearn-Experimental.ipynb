{
 "cells": [
  {
   "cell_type": "markdown",
   "metadata": {},
   "source": [
    "<b class=\"page-title\" style=\"font-size:200%;\">Topic Modeling with SciKit Learn &mdash; Experimental</b>\n",
    "\n",
    "In this notebook we create a topic model from our corpus  using SciKit Learn's library. We'll save our results and then use another notebook to explore the results.\n",
    "\n",
    "Experimental = developing a low code interface to working with SciKit Learn, etc."
   ]
  },
  {
   "cell_type": "code",
   "execution_count": 1,
   "metadata": {},
   "outputs": [],
   "source": [
    "import pandas as pd\n",
    "import numpy as np\n",
    "from lib import tapi, etal"
   ]
  },
  {
   "cell_type": "markdown",
   "metadata": {},
   "source": [
    "# Select Corpus"
   ]
  },
  {
   "cell_type": "code",
   "execution_count": 2,
   "metadata": {
    "tags": []
   },
   "outputs": [
    {
     "name": "stdout",
     "output_type": "stream",
     "text": [
      "/Users/rca2t1/Dropbox/Courses/NEH/TAPI_Topic_Models\n"
     ]
    },
    {
     "data": {
      "text/plain": [
       "['jstor_hyperparameter',\n",
       " 'okcupid',\n",
       " 'pitchfork',\n",
       " 'poliblogs2008',\n",
       " 'tamilnet',\n",
       " 'winereviews']"
      ]
     },
     "execution_count": 2,
     "metadata": {},
     "output_type": "execute_result"
    }
   ],
   "source": [
    "tapi.list_corpora()"
   ]
  },
  {
   "cell_type": "code",
   "execution_count": 3,
   "metadata": {},
   "outputs": [],
   "source": [
    "# data_prefix = 'winereviews'\n",
    "data_prefix = 'pitchfork'"
   ]
  },
  {
   "cell_type": "markdown",
   "metadata": {},
   "source": [
    "# Create Object\n",
    "\n",
    "This object stores the tables that constitute a \"digital critical edition,\" and the algorithms to generate them."
   ]
  },
  {
   "cell_type": "code",
   "execution_count": 7,
   "metadata": {},
   "outputs": [],
   "source": [
    "db = tapi.Edition(data_prefix)"
   ]
  },
  {
   "cell_type": "markdown",
   "metadata": {},
   "source": [
    "# Set Parameters"
   ]
  },
  {
   "cell_type": "code",
   "execution_count": 8,
   "metadata": {},
   "outputs": [],
   "source": [
    "db.n_terms = 4000        # Vocabulary size\n",
    "db.ngram_range = (2, 4)  # ngram min and max lengths\n",
    "db.n_topics = 20         # Number of topics\n",
    "db.max_iter = 5          # Number of iterations for topic model"
   ]
  },
  {
   "cell_type": "markdown",
   "metadata": {},
   "source": [
    "# Create Models"
   ]
  },
  {
   "cell_type": "code",
   "execution_count": 10,
   "metadata": {},
   "outputs": [
    {
     "name": "stdout",
     "output_type": "stream",
     "text": [
      "Initializing Count Engine.\n",
      "Generating Count Model.\n",
      "Initializing TFIDF Engine.\n",
      "Generating TFIDF Model.\n",
      "Extracting VOCABulary.\n",
      "Creating Bag of Words table.\n",
      "Applying stats to VOCAB.\n",
      "Initializing LDA Engine.\n",
      "Generating LDA Model.\n",
      "Extracting LDA Doc-Topic Matrix.\n",
      "Extracting LDA Term-Topic Matrix.\n",
      "Extracting LDA Topics.\n",
      "Initializing NMF Engine.\n",
      "Generating NMF Model.\n",
      "Extracting NMF Doc-Topic Matrix.\n",
      "Extracting NMF Term-Topic Matrix.\n",
      "Extracting NMF Topics.\n"
     ]
    },
    {
     "data": {
      "text/plain": [
       "<lib.tapi.Edition at 0x7f96648e79a0>"
      ]
     },
     "execution_count": 10,
     "metadata": {},
     "output_type": "execute_result"
    }
   ],
   "source": [
    "db.import_corpus()\\\n",
    "    .create_bow()\\\n",
    "    .create_lda()\\\n",
    "    .create_nmf()"
   ]
  },
  {
   "cell_type": "markdown",
   "metadata": {},
   "source": [
    "# View Results"
   ]
  },
  {
   "cell_type": "markdown",
   "metadata": {},
   "source": [
    "## LDA Topics"
   ]
  },
  {
   "cell_type": "code",
   "execution_count": 11,
   "metadata": {},
   "outputs": [
    {
     "data": {
      "text/html": [
       "<style  type=\"text/css\" >\n",
       "#T_0a6db_row0_col0{\n",
       "            width:  10em;\n",
       "             height:  80%;\n",
       "            background:  linear-gradient(90deg,#d65f5f 100.0%, transparent 100.0%);\n",
       "        }#T_0a6db_row1_col0{\n",
       "            width:  10em;\n",
       "             height:  80%;\n",
       "            background:  linear-gradient(90deg,#d65f5f 74.7%, transparent 74.7%);\n",
       "        }#T_0a6db_row2_col0{\n",
       "            width:  10em;\n",
       "             height:  80%;\n",
       "            background:  linear-gradient(90deg,#d65f5f 62.6%, transparent 62.6%);\n",
       "        }#T_0a6db_row3_col0{\n",
       "            width:  10em;\n",
       "             height:  80%;\n",
       "            background:  linear-gradient(90deg,#d65f5f 61.6%, transparent 61.6%);\n",
       "        }#T_0a6db_row4_col0{\n",
       "            width:  10em;\n",
       "             height:  80%;\n",
       "            background:  linear-gradient(90deg,#d65f5f 55.5%, transparent 55.5%);\n",
       "        }#T_0a6db_row5_col0{\n",
       "            width:  10em;\n",
       "             height:  80%;\n",
       "            background:  linear-gradient(90deg,#d65f5f 29.0%, transparent 29.0%);\n",
       "        }#T_0a6db_row6_col0{\n",
       "            width:  10em;\n",
       "             height:  80%;\n",
       "            background:  linear-gradient(90deg,#d65f5f 27.3%, transparent 27.3%);\n",
       "        }#T_0a6db_row7_col0{\n",
       "            width:  10em;\n",
       "             height:  80%;\n",
       "            background:  linear-gradient(90deg,#d65f5f 17.8%, transparent 17.8%);\n",
       "        }#T_0a6db_row8_col0{\n",
       "            width:  10em;\n",
       "             height:  80%;\n",
       "            background:  linear-gradient(90deg,#d65f5f 16.5%, transparent 16.5%);\n",
       "        }#T_0a6db_row9_col0{\n",
       "            width:  10em;\n",
       "             height:  80%;\n",
       "            background:  linear-gradient(90deg,#d65f5f 16.1%, transparent 16.1%);\n",
       "        }#T_0a6db_row10_col0{\n",
       "            width:  10em;\n",
       "             height:  80%;\n",
       "            background:  linear-gradient(90deg,#d65f5f 15.8%, transparent 15.8%);\n",
       "        }#T_0a6db_row11_col0{\n",
       "            width:  10em;\n",
       "             height:  80%;\n",
       "            background:  linear-gradient(90deg,#d65f5f 14.1%, transparent 14.1%);\n",
       "        }#T_0a6db_row12_col0{\n",
       "            width:  10em;\n",
       "             height:  80%;\n",
       "            background:  linear-gradient(90deg,#d65f5f 13.9%, transparent 13.9%);\n",
       "        }#T_0a6db_row13_col0{\n",
       "            width:  10em;\n",
       "             height:  80%;\n",
       "            background:  linear-gradient(90deg,#d65f5f 12.9%, transparent 12.9%);\n",
       "        }#T_0a6db_row14_col0{\n",
       "            width:  10em;\n",
       "             height:  80%;\n",
       "            background:  linear-gradient(90deg,#d65f5f 12.0%, transparent 12.0%);\n",
       "        }#T_0a6db_row15_col0{\n",
       "            width:  10em;\n",
       "             height:  80%;\n",
       "            background:  linear-gradient(90deg,#d65f5f 11.9%, transparent 11.9%);\n",
       "        }#T_0a6db_row16_col0{\n",
       "            width:  10em;\n",
       "             height:  80%;\n",
       "            background:  linear-gradient(90deg,#d65f5f 9.4%, transparent 9.4%);\n",
       "        }#T_0a6db_row17_col0{\n",
       "            width:  10em;\n",
       "             height:  80%;\n",
       "            background:  linear-gradient(90deg,#d65f5f 6.6%, transparent 6.6%);\n",
       "        }#T_0a6db_row18_col0{\n",
       "            width:  10em;\n",
       "             height:  80%;\n",
       "            background:  linear-gradient(90deg,#d65f5f 5.7%, transparent 5.7%);\n",
       "        }#T_0a6db_row19_col0{\n",
       "            width:  10em;\n",
       "             height:  80%;\n",
       "        }</style><table id=\"T_0a6db_\" ><thead>    <tr>        <th class=\"blank level0\" ></th>        <th class=\"col_heading level0 col0\" >preponderance</th>        <th class=\"col_heading level0 col1\" >label</th>    </tr>    <tr>        <th class=\"index_name level0\" >topic_id</th>        <th class=\"blank\" ></th>        <th class=\"blank\" ></th>    </tr></thead><tbody>\n",
       "                <tr>\n",
       "                        <th id=\"T_0a6db_level0_row0\" class=\"row_heading level0 row0\" >18</th>\n",
       "                        <td id=\"T_0a6db_row0_col0\" class=\"data row0 col0\" >2007.726833</td>\n",
       "                        <td id=\"T_0a6db_row0_col1\" class=\"data row0 col1\" >18: sounds like, sound like, feel like, post rock, indie rock, songs like, rock band</td>\n",
       "            </tr>\n",
       "            <tr>\n",
       "                        <th id=\"T_0a6db_level0_row1\" class=\"row_heading level0 row1\" >2</th>\n",
       "                        <td id=\"T_0a6db_row1_col0\" class=\"data row1 col0\" >1544.766030</td>\n",
       "                        <td id=\"T_0a6db_row1_col1\" class=\"data row1 col1\" >2: feels like, post punk, sounds like, sound like, songs sound, joy division, don want</td>\n",
       "            </tr>\n",
       "            <tr>\n",
       "                        <th id=\"T_0a6db_level0_row2\" class=\"row_heading level0 row2\" >8</th>\n",
       "                        <td id=\"T_0a6db_row2_col0\" class=\"data row2 col0\" >1323.654567</td>\n",
       "                        <td id=\"T_0a6db_row2_col1\" class=\"data row2 col1\" >8: hip hop, feels like, sounds like, drum bass, old school, tracks like, feel like</td>\n",
       "            </tr>\n",
       "            <tr>\n",
       "                        <th id=\"T_0a6db_level0_row3\" class=\"row_heading level0 row3\" >10</th>\n",
       "                        <td id=\"T_0a6db_row3_col0\" class=\"data row3 col0\" >1306.286648</td>\n",
       "                        <td id=\"T_0a6db_row3_col1\" class=\"data row3 col1\" >10: new wave, ve got, songs like, punk rock, synth pop, title track, rock roll</td>\n",
       "            </tr>\n",
       "            <tr>\n",
       "                        <th id=\"T_0a6db_level0_row4\" class=\"row_heading level0 row4\" >17</th>\n",
       "                        <td id=\"T_0a6db_row4_col0\" class=\"data row4 col0\" >1193.975732</td>\n",
       "                        <td id=\"T_0a6db_row4_col1\" class=\"data row4 col1\" >17: rock roll, title track, indie rock, lot like, liner notes, greatest hits, box set</td>\n",
       "            </tr>\n",
       "            <tr>\n",
       "                        <th id=\"T_0a6db_level0_row5\" class=\"row_heading level0 row5\" >4</th>\n",
       "                        <td id=\"T_0a6db_row5_col0\" class=\"data row5 col0\" >710.373603</td>\n",
       "                        <td id=\"T_0a6db_row5_col1\" class=\"data row5 col1\" >4: dance music, title track, sounds like, album cover, house music, second half, electro pop</td>\n",
       "            </tr>\n",
       "            <tr>\n",
       "                        <th id=\"T_0a6db_level0_row6\" class=\"row_heading level0 row6\" >13</th>\n",
       "                        <td id=\"T_0a6db_row6_col0\" class=\"data row6 col0\" >677.657002</td>\n",
       "                        <td id=\"T_0a6db_row6_col1\" class=\"data row6 col1\" >13: feels like, sounds like, beach boys, free jazz, acoustic guitar, folk music, couple years</td>\n",
       "            </tr>\n",
       "            <tr>\n",
       "                        <th id=\"T_0a6db_level0_row7\" class=\"row_heading level0 row7\" >14</th>\n",
       "                        <td id=\"T_0a6db_row7_col0\" class=\"data row7 col0\" >504.054714</td>\n",
       "                        <td id=\"T_0a6db_row7_col1\" class=\"data row7 col1\" >14: electronic music, making music, field recordings, bit like, boards canada, seven minutes, title track</td>\n",
       "            </tr>\n",
       "            <tr>\n",
       "                        <th id=\"T_0a6db_level0_row8\" class=\"row_heading level0 row8\" >7</th>\n",
       "                        <td id=\"T_0a6db_row8_col0\" class=\"data row8 col0\" >481.494866</td>\n",
       "                        <td id=\"T_0a6db_row8_col1\" class=\"data row8 col1\" >7: indie pop, power pop, big star, pop songs, singer songwriter, acoustic guitar, dirty projectors</td>\n",
       "            </tr>\n",
       "            <tr>\n",
       "                        <th id=\"T_0a6db_level0_row9\" class=\"row_heading level0 row9\" >1</th>\n",
       "                        <td id=\"T_0a6db_row9_col0\" class=\"data row9 col0\" >473.054137</td>\n",
       "                        <td id=\"T_0a6db_row9_col1\" class=\"data row9 col1\" >1: opening track, early 90s, album best, death metal, solo album, new york, multi tracked</td>\n",
       "            </tr>\n",
       "            <tr>\n",
       "                        <th id=\"T_0a6db_level0_row10\" class=\"row_heading level0 row10\" >6</th>\n",
       "                        <td id=\"T_0a6db_row10_col0\" class=\"data row10 col0\" >467.899530</td>\n",
       "                        <td id=\"T_0a6db_row10_col1\" class=\"data row10 col1\" >6: new york, brian eno, new york city, york city, new age, lou reed, ambient music</td>\n",
       "            </tr>\n",
       "            <tr>\n",
       "                        <th id=\"T_0a6db_level0_row11\" class=\"row_heading level0 row11\" >16</th>\n",
       "                        <td id=\"T_0a6db_row11_col0\" class=\"data row11 col0\" >437.774575</td>\n",
       "                        <td id=\"T_0a6db_row11_col1\" class=\"data row11 col1\" >16: xiu xiu, wah wah, electric guitar, song titles, piano chords, titles like, doesn need</td>\n",
       "            </tr>\n",
       "            <tr>\n",
       "                        <th id=\"T_0a6db_level0_row12\" class=\"row_heading level0 row12\" >5</th>\n",
       "                        <td id=\"T_0a6db_row12_col0\" class=\"data row12 col0\" >432.940108</td>\n",
       "                        <td id=\"T_0a6db_row12_col1\" class=\"data row12 col1\" >5: neil young, pedal steel, alt country, folk rock, acoustic guitar, singer songwriter, electric guitar</td>\n",
       "            </tr>\n",
       "            <tr>\n",
       "                        <th id=\"T_0a6db_level0_row13\" class=\"row_heading level0 row13\" >11</th>\n",
       "                        <td id=\"T_0a6db_row13_col0\" class=\"data row13 col0\" >415.653696</td>\n",
       "                        <td id=\"T_0a6db_row13_col1\" class=\"data row13 col1\" >11: self titled, titled debut, self titled debut, 20 years, sounds like, lo fi, ariel pink</td>\n",
       "            </tr>\n",
       "            <tr>\n",
       "                        <th id=\"T_0a6db_level0_row14\" class=\"row_heading level0 row14\" >9</th>\n",
       "                        <td id=\"T_0a6db_row14_col0\" class=\"data row14 col0\" >398.455271</td>\n",
       "                        <td id=\"T_0a6db_row14_col1\" class=\"data row14 col1\" >9: lo fi, sigur rós, feel like, san francisco, milk hotel, neutral milk hotel, neutral milk</td>\n",
       "            </tr>\n",
       "            <tr>\n",
       "                        <th id=\"T_0a6db_level0_row15\" class=\"row_heading level0 row15\" >0</th>\n",
       "                        <td id=\"T_0a6db_row15_col0\" class=\"data row15 col0\" >395.898493</td>\n",
       "                        <td id=\"T_0a6db_row15_col1\" class=\"data row15 col1\" >0: lo fi, new songs, drag city, best moments, joanna newsom, pop record, devendra banhart</td>\n",
       "            </tr>\n",
       "            <tr>\n",
       "                        <th id=\"T_0a6db_level0_row16\" class=\"row_heading level0 row16\" >15</th>\n",
       "                        <td id=\"T_0a6db_row16_col0\" class=\"data row16 col0\" >351.244856</td>\n",
       "                        <td id=\"T_0a6db_row16_col1\" class=\"data row16 col1\" >15: black metal, guided voices, new music, love love, solo career, broken social, nick cave</td>\n",
       "            </tr>\n",
       "            <tr>\n",
       "                        <th id=\"T_0a6db_level0_row17\" class=\"row_heading level0 row17\" >3</th>\n",
       "                        <td id=\"T_0a6db_row17_col0\" class=\"data row17 col0\" >299.277985</td>\n",
       "                        <td id=\"T_0a6db_row17_col1\" class=\"data row17 col1\" >3: sonic youth, love songs, bass drums, modest mouse, guitar bass, death cab, indie rock</td>\n",
       "            </tr>\n",
       "            <tr>\n",
       "                        <th id=\"T_0a6db_level0_row18\" class=\"row_heading level0 row18\" >12</th>\n",
       "                        <td id=\"T_0a6db_row18_col0\" class=\"data row18 col0\" >283.618985</td>\n",
       "                        <td id=\"T_0a6db_row18_col1\" class=\"data row18 col1\" >12: animal collective, grizzly bear, sufjan stevens, black dice, psych pop, old time, just little</td>\n",
       "            </tr>\n",
       "            <tr>\n",
       "                        <th id=\"T_0a6db_level0_row19\" class=\"row_heading level0 row19\" >19</th>\n",
       "                        <td id=\"T_0a6db_row19_col0\" class=\"data row19 col0\" >179.192368</td>\n",
       "                        <td id=\"T_0a6db_row19_col1\" class=\"data row19 col1\" >19: 10 years, lil wayne, comfort zone, rick ross, song sounds, odd future, major label</td>\n",
       "            </tr>\n",
       "    </tbody></table>"
      ],
      "text/plain": [
       "<pandas.io.formats.style.Styler at 0x7f966498e190>"
      ]
     },
     "execution_count": 11,
     "metadata": {},
     "output_type": "execute_result"
    }
   ],
   "source": [
    "db.TOPICS.sort_values('preponderance', ascending=False).style.bar()"
   ]
  },
  {
   "cell_type": "markdown",
   "metadata": {},
   "source": [
    "## NMF Topics"
   ]
  },
  {
   "cell_type": "code",
   "execution_count": 13,
   "metadata": {},
   "outputs": [
    {
     "data": {
      "text/html": [
       "<style  type=\"text/css\" >\n",
       "#T_d7450_row0_col0{\n",
       "            width:  10em;\n",
       "             height:  80%;\n",
       "            background:  linear-gradient(90deg,#d65f5f 100.0%, transparent 100.0%);\n",
       "        }#T_d7450_row1_col0{\n",
       "            width:  10em;\n",
       "             height:  80%;\n",
       "            background:  linear-gradient(90deg,#d65f5f 20.2%, transparent 20.2%);\n",
       "        }#T_d7450_row2_col0{\n",
       "            width:  10em;\n",
       "             height:  80%;\n",
       "            background:  linear-gradient(90deg,#d65f5f 17.4%, transparent 17.4%);\n",
       "        }#T_d7450_row3_col0{\n",
       "            width:  10em;\n",
       "             height:  80%;\n",
       "            background:  linear-gradient(90deg,#d65f5f 13.8%, transparent 13.8%);\n",
       "        }#T_d7450_row4_col0{\n",
       "            width:  10em;\n",
       "             height:  80%;\n",
       "            background:  linear-gradient(90deg,#d65f5f 11.0%, transparent 11.0%);\n",
       "        }#T_d7450_row5_col0{\n",
       "            width:  10em;\n",
       "             height:  80%;\n",
       "            background:  linear-gradient(90deg,#d65f5f 9.9%, transparent 9.9%);\n",
       "        }#T_d7450_row6_col0{\n",
       "            width:  10em;\n",
       "             height:  80%;\n",
       "            background:  linear-gradient(90deg,#d65f5f 9.2%, transparent 9.2%);\n",
       "        }#T_d7450_row7_col0{\n",
       "            width:  10em;\n",
       "             height:  80%;\n",
       "            background:  linear-gradient(90deg,#d65f5f 9.1%, transparent 9.1%);\n",
       "        }#T_d7450_row8_col0{\n",
       "            width:  10em;\n",
       "             height:  80%;\n",
       "            background:  linear-gradient(90deg,#d65f5f 9.0%, transparent 9.0%);\n",
       "        }#T_d7450_row9_col0{\n",
       "            width:  10em;\n",
       "             height:  80%;\n",
       "            background:  linear-gradient(90deg,#d65f5f 7.7%, transparent 7.7%);\n",
       "        }#T_d7450_row10_col0{\n",
       "            width:  10em;\n",
       "             height:  80%;\n",
       "            background:  linear-gradient(90deg,#d65f5f 7.1%, transparent 7.1%);\n",
       "        }#T_d7450_row11_col0{\n",
       "            width:  10em;\n",
       "             height:  80%;\n",
       "            background:  linear-gradient(90deg,#d65f5f 6.7%, transparent 6.7%);\n",
       "        }#T_d7450_row12_col0{\n",
       "            width:  10em;\n",
       "             height:  80%;\n",
       "            background:  linear-gradient(90deg,#d65f5f 6.5%, transparent 6.5%);\n",
       "        }#T_d7450_row13_col0{\n",
       "            width:  10em;\n",
       "             height:  80%;\n",
       "            background:  linear-gradient(90deg,#d65f5f 5.8%, transparent 5.8%);\n",
       "        }#T_d7450_row14_col0{\n",
       "            width:  10em;\n",
       "             height:  80%;\n",
       "            background:  linear-gradient(90deg,#d65f5f 5.4%, transparent 5.4%);\n",
       "        }#T_d7450_row15_col0{\n",
       "            width:  10em;\n",
       "             height:  80%;\n",
       "            background:  linear-gradient(90deg,#d65f5f 5.3%, transparent 5.3%);\n",
       "        }#T_d7450_row16_col0{\n",
       "            width:  10em;\n",
       "             height:  80%;\n",
       "            background:  linear-gradient(90deg,#d65f5f 4.6%, transparent 4.6%);\n",
       "        }#T_d7450_row17_col0{\n",
       "            width:  10em;\n",
       "             height:  80%;\n",
       "            background:  linear-gradient(90deg,#d65f5f 2.5%, transparent 2.5%);\n",
       "        }#T_d7450_row18_col0{\n",
       "            width:  10em;\n",
       "             height:  80%;\n",
       "            background:  linear-gradient(90deg,#d65f5f 1.4%, transparent 1.4%);\n",
       "        }#T_d7450_row19_col0{\n",
       "            width:  10em;\n",
       "             height:  80%;\n",
       "        }</style><table id=\"T_d7450_\" ><thead>    <tr>        <th class=\"blank level0\" ></th>        <th class=\"col_heading level0 col0\" >preponderance</th>        <th class=\"col_heading level0 col1\" >label</th>    </tr>    <tr>        <th class=\"index_name level0\" >topic_id</th>        <th class=\"blank\" ></th>        <th class=\"blank\" ></th>    </tr></thead><tbody>\n",
       "                <tr>\n",
       "                        <th id=\"T_d7450_level0_row0\" class=\"row_heading level0 row0\" >0</th>\n",
       "                        <td id=\"T_d7450_row0_col0\" class=\"data row0 col0\" >195.563208</td>\n",
       "                        <td id=\"T_d7450_row0_col1\" class=\"data row0 col1\" >0: acoustic guitar, songs like, feel like, ve got, years ago, singer songwriter, liner notes</td>\n",
       "            </tr>\n",
       "            <tr>\n",
       "                        <th id=\"T_d7450_level0_row1\" class=\"row_heading level0 row1\" >1</th>\n",
       "                        <td id=\"T_d7450_row1_col0\" class=\"data row1 col0\" >50.581640</td>\n",
       "                        <td id=\"T_d7450_row1_col1\" class=\"data row1 col1\" >1: hip hop, underground hip hop, underground hip, old school, stones throw, def jux, boom bap</td>\n",
       "            </tr>\n",
       "            <tr>\n",
       "                        <th id=\"T_d7450_level0_row2\" class=\"row_heading level0 row2\" >5</th>\n",
       "                        <td id=\"T_d7450_row2_col0\" class=\"data row2 col0\" >45.519602</td>\n",
       "                        <td id=\"T_d7450_row2_col1\" class=\"data row2 col1\" >5: sounds like, album sounds, album sounds like, track sounds like, track sounds, sounds like work, music sounds like</td>\n",
       "            </tr>\n",
       "            <tr>\n",
       "                        <th id=\"T_d7450_level0_row3\" class=\"row_heading level0 row3\" >10</th>\n",
       "                        <td id=\"T_d7450_row3_col0\" class=\"data row3 col0\" >38.894601</td>\n",
       "                        <td id=\"T_d7450_row3_col1\" class=\"data row3 col1\" >10: sound like, doesn sound, doesn sound like, songs sound, don sound, don sound like, songs sound like</td>\n",
       "            </tr>\n",
       "            <tr>\n",
       "                        <th id=\"T_d7450_level0_row4\" class=\"row_heading level0 row4\" >13</th>\n",
       "                        <td id=\"T_d7450_row4_col0\" class=\"data row4 col0\" >33.809199</td>\n",
       "                        <td id=\"T_d7450_row4_col1\" class=\"data row4 col1\" >13: title track, opening title, opening title track, album title track, closing title, closing title track, album title</td>\n",
       "            </tr>\n",
       "            <tr>\n",
       "                        <th id=\"T_d7450_level0_row5\" class=\"row_heading level0 row5\" >11</th>\n",
       "                        <td id=\"T_d7450_row5_col0\" class=\"data row5 col0\" >31.874498</td>\n",
       "                        <td id=\"T_d7450_row5_col1\" class=\"data row5 col1\" >11: feels like, feel like, album feels like, album feels, record feels, felt like, music feels</td>\n",
       "            </tr>\n",
       "            <tr>\n",
       "                        <th id=\"T_d7450_level0_row6\" class=\"row_heading level0 row6\" >9</th>\n",
       "                        <td id=\"T_d7450_row6_col0\" class=\"data row6 col0\" >30.553077</td>\n",
       "                        <td id=\"T_d7450_row6_col1\" class=\"data row6 col1\" >9: indie rock, broken social, broken social scene, social scene, indie rock band, rock band, modest mouse</td>\n",
       "            </tr>\n",
       "            <tr>\n",
       "                        <th id=\"T_d7450_level0_row7\" class=\"row_heading level0 row7\" >4</th>\n",
       "                        <td id=\"T_d7450_row7_col0\" class=\"data row7 col0\" >30.450185</td>\n",
       "                        <td id=\"T_d7450_row7_col1\" class=\"data row7 col1\" >4: new york, new york city, york city, new york times, york times, arthur russell, avant garde</td>\n",
       "            </tr>\n",
       "            <tr>\n",
       "                        <th id=\"T_d7450_level0_row8\" class=\"row_heading level0 row8\" >3</th>\n",
       "                        <td id=\"T_d7450_row8_col0\" class=\"data row8 col0\" >30.291418</td>\n",
       "                        <td id=\"T_d7450_row8_col1\" class=\"data row8 col1\" >3: dance music, house music, deep house, house techno, daft punk, acid house, electronic dance</td>\n",
       "            </tr>\n",
       "            <tr>\n",
       "                        <th id=\"T_d7450_level0_row9\" class=\"row_heading level0 row9\" >6</th>\n",
       "                        <td id=\"T_d7450_row9_col0\" class=\"data row9 col0\" >27.823234</td>\n",
       "                        <td id=\"T_d7450_row9_col1\" class=\"data row9 col1\" >6: post punk, new wave, joy division, bloc party, early 80s, franz ferdinand, punk band</td>\n",
       "            </tr>\n",
       "            <tr>\n",
       "                        <th id=\"T_d7450_level0_row10\" class=\"row_heading level0 row10\" >7</th>\n",
       "                        <td id=\"T_d7450_row10_col0\" class=\"data row10 col0\" >26.795208</td>\n",
       "                        <td id=\"T_d7450_row10_col1\" class=\"data row10 col1\" >7: self titled, titled debut, self titled debut, band self titled, band self, self titled album, titled album</td>\n",
       "            </tr>\n",
       "            <tr>\n",
       "                        <th id=\"T_d7450_level0_row11\" class=\"row_heading level0 row11\" >17</th>\n",
       "                        <td id=\"T_d7450_row11_col0\" class=\"data row11 col0\" >26.129765</td>\n",
       "                        <td id=\"T_d7450_row11_col1\" class=\"data row11 col1\" >17: lo fi, guided voices, robert pollard, tape hiss, ariel pink, fi pop, fi production</td>\n",
       "            </tr>\n",
       "            <tr>\n",
       "                        <th id=\"T_d7450_level0_row12\" class=\"row_heading level0 row12\" >12</th>\n",
       "                        <td id=\"T_d7450_row12_col0\" class=\"data row12 col0\" >25.717873</td>\n",
       "                        <td id=\"T_d7450_row12_col1\" class=\"data row12 col1\" >12: rock roll, garage rock, classic rock, lou reed, rock band, rolling stones, ryan adams</td>\n",
       "            </tr>\n",
       "            <tr>\n",
       "                        <th id=\"T_d7450_level0_row13\" class=\"row_heading level0 row13\" >18</th>\n",
       "                        <td id=\"T_d7450_row13_col0\" class=\"data row13 col0\" >24.502537</td>\n",
       "                        <td id=\"T_d7450_row13_col1\" class=\"data row13 col1\" >18: tracks like, like opening, southern rap, cuts like, rhythm section, low end, pop tracks</td>\n",
       "            </tr>\n",
       "            <tr>\n",
       "                        <th id=\"T_d7450_level0_row14\" class=\"row_heading level0 row14\" >8</th>\n",
       "                        <td id=\"T_d7450_row14_col0\" class=\"data row14 col0\" >23.789689</td>\n",
       "                        <td id=\"T_d7450_row14_col1\" class=\"data row14 col1\" >8: post rock, explosions sky, godspeed black emperor, black emperor, godspeed black, john mcentire, sea cake</td>\n",
       "            </tr>\n",
       "            <tr>\n",
       "                        <th id=\"T_d7450_level0_row15\" class=\"row_heading level0 row15\" >16</th>\n",
       "                        <td id=\"T_d7450_row15_col0\" class=\"data row15 col0\" >23.544787</td>\n",
       "                        <td id=\"T_d7450_row15_col1\" class=\"data row15 col1\" >16: electronic music, aphex twin, boards canada, mouse mars, experimental electronic, detroit techno, brian eno</td>\n",
       "            </tr>\n",
       "            <tr>\n",
       "                        <th id=\"T_d7450_level0_row16\" class=\"row_heading level0 row16\" >15</th>\n",
       "                        <td id=\"T_d7450_row16_col0\" class=\"data row16 col0\" >22.328199</td>\n",
       "                        <td id=\"T_d7450_row16_col1\" class=\"data row16 col1\" >15: indie pop, belle sebastian, pop group, camera obscura, field mice, saint etienne, pop songs</td>\n",
       "            </tr>\n",
       "            <tr>\n",
       "                        <th id=\"T_d7450_level0_row17\" class=\"row_heading level0 row17\" >2</th>\n",
       "                        <td id=\"T_d7450_row17_col0\" class=\"data row17 col0\" >18.525460</td>\n",
       "                        <td id=\"T_d7450_row17_col1\" class=\"data row17 col1\" >2: black metal, death metal, wolves throne room, throne room, wolves throne, metal band, hydra head</td>\n",
       "            </tr>\n",
       "            <tr>\n",
       "                        <th id=\"T_d7450_level0_row18\" class=\"row_heading level0 row18\" >19</th>\n",
       "                        <td id=\"T_d7450_row18_col0\" class=\"data row18 col0\" >16.427089</td>\n",
       "                        <td id=\"T_d7450_row18_col1\" class=\"data row18 col1\" >19: sonic youth, thurston moore, kim gordon, daydream nation, lee ranaldo, glenn branca, jim rourke</td>\n",
       "            </tr>\n",
       "            <tr>\n",
       "                        <th id=\"T_d7450_level0_row19\" class=\"row_heading level0 row19\" >14</th>\n",
       "                        <td id=\"T_d7450_row19_col0\" class=\"data row19 col0\" >13.906671</td>\n",
       "                        <td id=\"T_d7450_row19_col1\" class=\"data row19 col1\" >14: yo la, la tengo, yo la tengo, new zealand, popular songs, flying nun, sun ra</td>\n",
       "            </tr>\n",
       "    </tbody></table>"
      ],
      "text/plain": [
       "<pandas.io.formats.style.Styler at 0x7f9667848130>"
      ]
     },
     "execution_count": 13,
     "metadata": {},
     "output_type": "execute_result"
    }
   ],
   "source": [
    "db.TOPICS_NMF.sort_values('preponderance', ascending=False).style.bar()"
   ]
  },
  {
   "cell_type": "markdown",
   "metadata": {},
   "source": [
    "# Save the Model"
   ]
  },
  {
   "cell_type": "code",
   "execution_count": 14,
   "metadata": {},
   "outputs": [
    {
     "name": "stdout",
     "output_type": "stream",
     "text": [
      "/Users/rca2t1/Dropbox/Courses/NEH/TAPI_Topic_Models\n"
     ]
    }
   ],
   "source": [
    "db.export_tables()"
   ]
  },
  {
   "cell_type": "code",
   "execution_count": 16,
   "metadata": {},
   "outputs": [
    {
     "name": "stdout",
     "output_type": "stream",
     "text": [
      "-rw-r--r--@ 1 rca2t1  staff  10932606 Jul  1 22:14 ./db/pitchfork-BOW.csv\n",
      "-rw-r--r--@ 1 rca2t1  staff         3 Jul  1 22:14 ./db/pitchfork-DTM.csv\n",
      "-rw-r--r--@ 1 rca2t1  staff   2167106 Jul  1 22:13 ./db/pitchfork-LABELS.csv\n",
      "-rw-r--r--@ 1 rca2t1  staff   2059123 Jul  1 22:14 ./db/pitchfork-PHI.csv\n",
      "-rw-r--r--@ 1 rca2t1  staff    595850 Jul  1 22:14 ./db/pitchfork-PHI_NMF.csv\n",
      "-rw-r--r--@ 1 rca2t1  staff   5917473 Jul  1 22:14 ./db/pitchfork-THETA.csv\n",
      "-rw-r--r--@ 1 rca2t1  staff   1818030 Jul  1 22:14 ./db/pitchfork-THETA_NMF.csv\n",
      "-rw-r--r--@ 1 rca2t1  staff      2309 Jul  1 22:14 ./db/pitchfork-TOPICS.csv\n",
      "-rw-r--r--@ 1 rca2t1  staff      2481 Jul  1 22:14 ./db/pitchfork-TOPICS_NMF.csv\n",
      "-rw-r--r--@ 1 rca2t1  staff    498047 Jul  1 22:13 ./db/pitchfork-VOCAB.csv\n"
     ]
    }
   ],
   "source": [
    "!ls -l ./db/{data_prefix}*.csv"
   ]
  },
  {
   "cell_type": "code",
   "execution_count": null,
   "metadata": {},
   "outputs": [],
   "source": []
  }
 ],
 "metadata": {
  "kernelspec": {
   "display_name": "Python 3",
   "language": "python",
   "name": "python3"
  },
  "language_info": {
   "codemirror_mode": {
    "name": "ipython",
    "version": 3
   },
   "file_extension": ".py",
   "mimetype": "text/x-python",
   "name": "python",
   "nbconvert_exporter": "python",
   "pygments_lexer": "ipython3",
   "version": "3.8.3"
  },
  "latex_envs": {
   "LaTeX_envs_menu_present": true,
   "autoclose": false,
   "autocomplete": true,
   "bibliofile": "biblio.bib",
   "cite_by": "apalike",
   "current_citInitial": 1,
   "eqLabelWithNumbers": true,
   "eqNumInitial": 1,
   "hotkeys": {
    "equation": "Ctrl-E",
    "itemize": "Ctrl-I"
   },
   "labels_anchors": false,
   "latex_user_defs": false,
   "report_style_numbering": false,
   "user_envs_cfg": false
  },
  "toc": {
   "base_numbering": 1,
   "nav_menu": {},
   "number_sections": true,
   "sideBar": true,
   "skip_h1_title": false,
   "title_cell": "Table of Contents",
   "title_sidebar": "Contents",
   "toc_cell": false,
   "toc_position": {
    "height": "calc(100% - 180px)",
    "left": "10px",
    "top": "150px",
    "width": "165px"
   },
   "toc_section_display": true,
   "toc_window_display": true
  },
  "varInspector": {
   "cols": {
    "lenName": 16,
    "lenType": 16,
    "lenVar": 40
   },
   "kernels_config": {
    "python": {
     "delete_cmd_postfix": "",
     "delete_cmd_prefix": "del ",
     "library": "var_list.py",
     "varRefreshCmd": "print(var_dic_list())"
    },
    "r": {
     "delete_cmd_postfix": ") ",
     "delete_cmd_prefix": "rm(",
     "library": "var_list.r",
     "varRefreshCmd": "cat(var_dic_list()) "
    }
   },
   "types_to_exclude": [
    "module",
    "function",
    "builtin_function_or_method",
    "instance",
    "_Feature"
   ],
   "window_display": false
  },
  "widgets": {
   "application/vnd.jupyter.widget-state+json": {
    "state": {},
    "version_major": 2,
    "version_minor": 0
   }
  }
 },
 "nbformat": 4,
 "nbformat_minor": 4
}
