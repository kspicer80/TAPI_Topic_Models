{
 "cells": [
  {
   "cell_type": "markdown",
   "metadata": {},
   "source": [
    "# Topic Contiguity \n",
    "\n",
    "Topic contiguity refers to the relationship of topics to each other in practice, not to their similarity. From the perspective of an associationist epistemology, contiguity is the opposite of similarity. Contiguous topics are those that co-occur frequently enough to suggest \"syndromes.\" For example, if the topics of genetic engineering and acquaculture are contiguous, this suggests an assemblage of practices relating to the application of a kind of knowledge to a specific industry. We use pointwise mutual information  to surface topic contiguity, similar to how this concept is used in association rule mining."
   ]
  },
  {
   "cell_type": "markdown",
   "metadata": {},
   "source": [
    "# Set Up"
   ]
  },
  {
   "cell_type": "markdown",
   "metadata": {},
   "source": [
    "## Imports"
   ]
  },
  {
   "cell_type": "code",
   "execution_count": 1,
   "metadata": {},
   "outputs": [],
   "source": [
    "import pandas as pd\n",
    "import numpy as np\n",
    "from lib import tapi"
   ]
  },
  {
   "cell_type": "markdown",
   "metadata": {},
   "source": [
    "## Configuration"
   ]
  },
  {
   "cell_type": "code",
   "execution_count": 2,
   "metadata": {},
   "outputs": [
    {
     "data": {
      "text/plain": [
       "['anphoblacht',\n",
       " 'jstor_hyperparameter',\n",
       " 'jstor_hyperparameter_demo',\n",
       " 'okcupid',\n",
       " 'tamilnet',\n",
       " 'winereviews']"
      ]
     },
     "execution_count": 2,
     "metadata": {},
     "output_type": "execute_result"
    }
   ],
   "source": [
    "tapi.list_dbs()"
   ]
  },
  {
   "cell_type": "code",
   "execution_count": 3,
   "metadata": {},
   "outputs": [],
   "source": [
    "data_prefix = 'jstor_hyperparameter_demo'\n",
    "topic_glosses = ['Bayesian models', 'French', 'MCMC', 'priors', 'economics', 'random effects', 'variable selection',\n",
    "                 'empirical Bayes', 'env biology', 'genetics']"
   ]
  },
  {
   "cell_type": "markdown",
   "metadata": {},
   "source": [
    "## Import Topic Data\n",
    "\n",
    "We import our previously generated model."
   ]
  },
  {
   "cell_type": "code",
   "execution_count": 4,
   "metadata": {},
   "outputs": [],
   "source": [
    "db = tapi.Edition(data_prefix)"
   ]
  },
  {
   "cell_type": "code",
   "execution_count": 5,
   "metadata": {},
   "outputs": [
    {
     "name": "stdout",
     "output_type": "stream",
     "text": [
      "LABELS\n",
      "VOCAB\n",
      "BOW\n",
      "TOPICS\n",
      "DTM not found\n",
      "THETA\n",
      "PHI\n",
      "TOPICS_NMF\n",
      "THETA_NMF\n",
      "PHI_NMF\n"
     ]
    }
   ],
   "source": [
    "db.get_tables()"
   ]
  },
  {
   "cell_type": "code",
   "execution_count": 6,
   "metadata": {},
   "outputs": [],
   "source": [
    "if len(topic_glosses) > 0:\n",
    "    db.TOPICS_NMF['gloss'] = topic_glosses # THIS SHOULD BE DONE EARLIER IN THE PIPELINE\n",
    "else:\n",
    "    db.TOPICS_NMF['gloss'] = db.TOPICS_NMF.topwords.str.extract(r'^(.{20})')"
   ]
  },
  {
   "cell_type": "markdown",
   "metadata": {},
   "source": [
    "# Compute Contiguity"
   ]
  },
  {
   "cell_type": "markdown",
   "metadata": {},
   "source": [
    "## By Correlation"
   ]
  },
  {
   "cell_type": "markdown",
   "metadata": {},
   "source": [
    "### Create Topic Pairs"
   ]
  },
  {
   "cell_type": "code",
   "execution_count": 7,
   "metadata": {},
   "outputs": [],
   "source": [
    "topic_pairs = db.THETA_NMF.corr().stack().to_frame('topic_corr')\n",
    "topic_pairs.index.names = ['t1', 't2']\n",
    "topic_pairs = topic_pairs.loc[topic_pairs.apply(lambda x: x.name[0] < x.name[1], 1)]\n",
    "\n",
    "topic_pairs['z_score'] = (topic_pairs.topic_corr - topic_pairs.topic_corr.mean()) / topic_pairs.topic_corr.std()\n",
    "topic_pairs['t1_gloss'] = topic_pairs.apply(lambda x: db.TOPICS_NMF.loc[x.name[0]].gloss, 1)\n",
    "topic_pairs['t2_gloss'] = topic_pairs.apply(lambda x: db.TOPICS_NMF.loc[x.name[1]].gloss, 1)"
   ]
  },
  {
   "cell_type": "code",
   "execution_count": 8,
   "metadata": {
    "scrolled": false
   },
   "outputs": [
    {
     "data": {
      "text/html": [
       "<div>\n",
       "<style scoped>\n",
       "    .dataframe tbody tr th:only-of-type {\n",
       "        vertical-align: middle;\n",
       "    }\n",
       "\n",
       "    .dataframe tbody tr th {\n",
       "        vertical-align: top;\n",
       "    }\n",
       "\n",
       "    .dataframe thead th {\n",
       "        text-align: right;\n",
       "    }\n",
       "</style>\n",
       "<table border=\"1\" class=\"dataframe\">\n",
       "  <thead>\n",
       "    <tr style=\"text-align: right;\">\n",
       "      <th></th>\n",
       "      <th></th>\n",
       "      <th>topic_corr</th>\n",
       "      <th>z_score</th>\n",
       "      <th>t1_gloss</th>\n",
       "      <th>t2_gloss</th>\n",
       "    </tr>\n",
       "    <tr>\n",
       "      <th>t1</th>\n",
       "      <th>t2</th>\n",
       "      <th></th>\n",
       "      <th></th>\n",
       "      <th></th>\n",
       "      <th></th>\n",
       "    </tr>\n",
       "  </thead>\n",
       "  <tbody>\n",
       "    <tr>\n",
       "      <th>6</th>\n",
       "      <th>7</th>\n",
       "      <td>0.097966</td>\n",
       "      <td>2.096024</td>\n",
       "      <td>variable selection</td>\n",
       "      <td>empirical Bayes</td>\n",
       "    </tr>\n",
       "    <tr>\n",
       "      <th rowspan=\"2\" valign=\"top\">0</th>\n",
       "      <th>2</th>\n",
       "      <td>0.069323</td>\n",
       "      <td>1.647788</td>\n",
       "      <td>Bayesian models</td>\n",
       "      <td>MCMC</td>\n",
       "    </tr>\n",
       "    <tr>\n",
       "      <th>5</th>\n",
       "      <td>0.045801</td>\n",
       "      <td>1.279689</td>\n",
       "      <td>Bayesian models</td>\n",
       "      <td>random effects</td>\n",
       "    </tr>\n",
       "    <tr>\n",
       "      <th>3</th>\n",
       "      <th>6</th>\n",
       "      <td>0.038231</td>\n",
       "      <td>1.161238</td>\n",
       "      <td>priors</td>\n",
       "      <td>variable selection</td>\n",
       "    </tr>\n",
       "    <tr>\n",
       "      <th>2</th>\n",
       "      <th>6</th>\n",
       "      <td>0.016686</td>\n",
       "      <td>0.824074</td>\n",
       "      <td>MCMC</td>\n",
       "      <td>variable selection</td>\n",
       "    </tr>\n",
       "    <tr>\n",
       "      <th>5</th>\n",
       "      <th>7</th>\n",
       "      <td>0.015219</td>\n",
       "      <td>0.801125</td>\n",
       "      <td>random effects</td>\n",
       "      <td>empirical Bayes</td>\n",
       "    </tr>\n",
       "    <tr>\n",
       "      <th>8</th>\n",
       "      <th>9</th>\n",
       "      <td>0.007242</td>\n",
       "      <td>0.676280</td>\n",
       "      <td>env biology</td>\n",
       "      <td>genetics</td>\n",
       "    </tr>\n",
       "    <tr>\n",
       "      <th>6</th>\n",
       "      <th>9</th>\n",
       "      <td>0.005250</td>\n",
       "      <td>0.645117</td>\n",
       "      <td>variable selection</td>\n",
       "      <td>genetics</td>\n",
       "    </tr>\n",
       "    <tr>\n",
       "      <th>3</th>\n",
       "      <th>7</th>\n",
       "      <td>0.004493</td>\n",
       "      <td>0.633272</td>\n",
       "      <td>priors</td>\n",
       "      <td>empirical Bayes</td>\n",
       "    </tr>\n",
       "    <tr>\n",
       "      <th>7</th>\n",
       "      <th>9</th>\n",
       "      <td>0.001965</td>\n",
       "      <td>0.593711</td>\n",
       "      <td>empirical Bayes</td>\n",
       "      <td>genetics</td>\n",
       "    </tr>\n",
       "  </tbody>\n",
       "</table>\n",
       "</div>"
      ],
      "text/plain": [
       "       topic_corr   z_score            t1_gloss            t2_gloss\n",
       "t1 t2                                                              \n",
       "6  7     0.097966  2.096024  variable selection     empirical Bayes\n",
       "0  2     0.069323  1.647788     Bayesian models                MCMC\n",
       "   5     0.045801  1.279689     Bayesian models      random effects\n",
       "3  6     0.038231  1.161238              priors  variable selection\n",
       "2  6     0.016686  0.824074                MCMC  variable selection\n",
       "5  7     0.015219  0.801125      random effects     empirical Bayes\n",
       "8  9     0.007242  0.676280         env biology            genetics\n",
       "6  9     0.005250  0.645117  variable selection            genetics\n",
       "3  7     0.004493  0.633272              priors     empirical Bayes\n",
       "7  9     0.001965  0.593711     empirical Bayes            genetics"
      ]
     },
     "execution_count": 8,
     "metadata": {},
     "output_type": "execute_result"
    }
   ],
   "source": [
    "topic_pairs.sort_values('topic_corr', ascending=False).head(10)"
   ]
  },
  {
   "cell_type": "code",
   "execution_count": 9,
   "metadata": {
    "scrolled": false
   },
   "outputs": [
    {
     "data": {
      "image/png": "[encoded data removed]",
      "text/plain": [
       "<Figure size 360x1440 with 1 Axes>"
      ]
     },
     "metadata": {
      "needs_background": "light"
     },
     "output_type": "display_data"
    }
   ],
   "source": [
    "topic_pairs.reset_index().set_index(['t1_gloss','t2_gloss']).topic_corr.sort_values()\\\n",
    "    .plot.barh(figsize=(5, db.n_topics * 2), legend=False);"
   ]
  },
  {
   "cell_type": "markdown",
   "metadata": {},
   "source": [
    "### View Network"
   ]
  },
  {
   "cell_type": "code",
   "execution_count": 10,
   "metadata": {},
   "outputs": [],
   "source": [
    "import pydot\n",
    "from IPython.display import SVG, display"
   ]
  },
  {
   "cell_type": "code",
   "execution_count": 11,
   "metadata": {},
   "outputs": [],
   "source": [
    "def show_graph(thresh = 1, measure='topic_corr'):\n",
    "    \n",
    "    graph = pydot.Dot('topic_graph', graph_type='graph')\n",
    "\n",
    "    nodes = []\n",
    "    for i in topic_pairs[topic_pairs[measure] >= thresh].index:\n",
    "\n",
    "        nodes.append(i[0])\n",
    "        nodes.append(i[1])\n",
    "\n",
    "        m = topic_pairs.loc[i][measure].round(2)    \n",
    "        graph.add_edge(pydot.Edge(i[0], i[1], \n",
    "                                  label=m, \n",
    "                                  color='lightgray', \n",
    "                                  fontsize=10, \n",
    "                                  fontcolor='green',\n",
    "                                  fontname='Arial'))\n",
    "\n",
    "    for node in list(set(nodes)):\n",
    "        node_gloss = 'T' + str(node) + \": \" + db.TOPICS_NMF.loc[node, 'gloss']\n",
    "        graph.add_node(pydot.Node(node, \n",
    "                                  label=node_gloss, \n",
    "                                  shape='plain', \n",
    "                                  fontname='Arial'))\n",
    "\n",
    "    display(SVG(graph.create_svg()))"
   ]
  },
  {
   "cell_type": "code",
   "execution_count": 12,
   "metadata": {},
   "outputs": [
    {
     "data": {
      "image/svg+xml": [
       "<svg xmlns=\"http://www.w3.org/2000/svg\" xmlns:xlink=\"http://www.w3.org/1999/xlink\" width=\"255pt\" height=\"213pt\" viewBox=\"0.00 0.00 254.50 213.00\">\n",
       "<g id=\"graph0\" class=\"graph\" transform=\"scale(1 1) rotate(0) translate(4 209)\">\n",
       "<title>topic_graph</title>\n",
       "<polygon fill=\"white\" stroke=\"transparent\" points=\"-4,4 -4,-209 250.5,-209 250.5,4 -4,4\"/>\n",
       "<!-- 0 -->\n",
       "<g id=\"node1\" class=\"node\">\n",
       "<title>0</title>\n",
       "<text text-anchor=\"middle\" x=\"114.5\" y=\"-193.8\" font-family=\"Arial\" font-size=\"14.00\">T0: Bayesian models</text>\n",
       "</g>\n",
       "<!-- 2 -->\n",
       "<g id=\"node2\" class=\"node\">\n",
       "<title>2</title>\n",
       "<text text-anchor=\"middle\" x=\"33.5\" y=\"-131.8\" font-family=\"Arial\" font-size=\"14.00\">T2: MCMC</text>\n",
       "</g>\n",
       "<!-- 0&#45;&#45;2 -->\n",
       "<g id=\"edge1\" class=\"edge\">\n",
       "<title>0--2</title>\n",
       "<path fill=\"none\" stroke=\"lightgray\" d=\"M105.52,-189.85C90.03,-178.38 58.45,-154.98 42.77,-143.36\"/>\n",
       "<text text-anchor=\"middle\" x=\"90\" y=\"-164\" font-family=\"Arial\" font-size=\"10.00\" fill=\"green\">0.07</text>\n",
       "</g>\n",
       "<!-- 5 -->\n",
       "<g id=\"node3\" class=\"node\">\n",
       "<title>5</title>\n",
       "<text text-anchor=\"middle\" x=\"189.5\" y=\"-98.8\" font-family=\"Arial\" font-size=\"14.00\">T5: random effects</text>\n",
       "</g>\n",
       "<!-- 0&#45;&#45;5 -->\n",
       "<g id=\"edge2\" class=\"edge\">\n",
       "<title>0--5</title>\n",
       "<path fill=\"none\" stroke=\"lightgray\" d=\"M119.89,-189.81C133.73,-172.65 170.37,-127.22 184.16,-110.13\"/>\n",
       "<text text-anchor=\"middle\" x=\"151\" y=\"-164\" font-family=\"Arial\" font-size=\"10.00\" fill=\"green\">0.05</text>\n",
       "</g>\n",
       "<!-- 6 -->\n",
       "<g id=\"node4\" class=\"node\">\n",
       "<title>6</title>\n",
       "<text text-anchor=\"middle\" x=\"89.5\" y=\"-65.8\" font-family=\"Arial\" font-size=\"14.00\">T6: variable selection</text>\n",
       "</g>\n",
       "<!-- 2&#45;&#45;6 -->\n",
       "<g id=\"edge3\" class=\"edge\">\n",
       "<title>2--6</title>\n",
       "<path fill=\"none\" stroke=\"lightgray\" d=\"M39.49,-127.65C50.33,-115.27 73.04,-89.31 83.72,-77.11\"/>\n",
       "<text text-anchor=\"middle\" x=\"76\" y=\"-100\" font-family=\"Arial\" font-size=\"10.00\" fill=\"green\">0.02</text>\n",
       "</g>\n",
       "<!-- 7 -->\n",
       "<g id=\"node6\" class=\"node\">\n",
       "<title>7</title>\n",
       "<text text-anchor=\"middle\" x=\"139.5\" y=\"-3.8\" font-family=\"Arial\" font-size=\"14.00\">T7: empirical Bayes</text>\n",
       "</g>\n",
       "<!-- 5&#45;&#45;7 -->\n",
       "<g id=\"edge5\" class=\"edge\">\n",
       "<title>5--7</title>\n",
       "<path fill=\"none\" stroke=\"lightgray\" d=\"M185.9,-94.81C176.68,-77.65 152.25,-32.22 143.06,-15.13\"/>\n",
       "<text text-anchor=\"middle\" x=\"185\" y=\"-67\" font-family=\"Arial\" font-size=\"10.00\" fill=\"green\">0.02</text>\n",
       "</g>\n",
       "<!-- 6&#45;&#45;7 -->\n",
       "<g id=\"edge6\" class=\"edge\">\n",
       "<title>6--7</title>\n",
       "<path fill=\"none\" stroke=\"lightgray\" d=\"M95.24,-61.62C104.88,-50.04 124.23,-26.82 133.83,-15.3\"/>\n",
       "<text text-anchor=\"middle\" x=\"125.5\" y=\"-36\" font-family=\"Arial\" font-size=\"10.00\" fill=\"green\">0.1</text>\n",
       "</g>\n",
       "<!-- 3 -->\n",
       "<g id=\"node5\" class=\"node\">\n",
       "<title>3</title>\n",
       "<text text-anchor=\"middle\" x=\"114.5\" y=\"-131.8\" font-family=\"Arial\" font-size=\"14.00\">T3: priors</text>\n",
       "</g>\n",
       "<!-- 3&#45;&#45;6 -->\n",
       "<g id=\"edge4\" class=\"edge\">\n",
       "<title>3--6</title>\n",
       "<path fill=\"none\" stroke=\"lightgray\" d=\"M111.65,-127.65C109.63,-122.75 106.86,-115.98 104.5,-110 99.98,-98.53 94.94,-85.11 92,-77.23\"/>\n",
       "<text text-anchor=\"middle\" x=\"114\" y=\"-100\" font-family=\"Arial\" font-size=\"10.00\" fill=\"green\">0.04</text>\n",
       "</g>\n",
       "</g>\n",
       "</svg>"
      ],
      "text/plain": [
       "<IPython.core.display.SVG object>"
      ]
     },
     "metadata": {},
     "output_type": "display_data"
    }
   ],
   "source": [
    "show_graph(0.01)"
   ]
  },
  {
   "cell_type": "markdown",
   "metadata": {},
   "source": [
    "## By Mutual Information"
   ]
  },
  {
   "cell_type": "markdown",
   "metadata": {},
   "source": [
    "### Compute Marginal Probabilities"
   ]
  },
  {
   "cell_type": "code",
   "execution_count": 13,
   "metadata": {},
   "outputs": [],
   "source": [
    "db.TOPICS_NMF['p'] = db.THETA_NMF.sum() / db.THETA_NMF.sum().sum()"
   ]
  },
  {
   "cell_type": "markdown",
   "metadata": {},
   "source": [
    "### Compute Joint Probabilities"
   ]
  },
  {
   "cell_type": "code",
   "execution_count": 14,
   "metadata": {},
   "outputs": [],
   "source": [
    "tw_thresh = 0"
   ]
  },
  {
   "cell_type": "code",
   "execution_count": 15,
   "metadata": {},
   "outputs": [],
   "source": [
    "N = db.THETA_NMF.shape[0]"
   ]
  },
  {
   "cell_type": "code",
   "execution_count": 16,
   "metadata": {},
   "outputs": [],
   "source": [
    "topic_pairs['p_ab'] = topic_pairs.apply(lambda x: \n",
    "                                        db.THETA_NMF[(db.THETA_NMF[x.name[0]] > tw_thresh) \n",
    "                                        & (db.THETA_NMF[x.name[1]] > tw_thresh)].shape[0] / N, 1)"
   ]
  },
  {
   "cell_type": "code",
   "execution_count": 17,
   "metadata": {},
   "outputs": [
    {
     "data": {
      "text/html": [
       "<div>\n",
       "<style scoped>\n",
       "    .dataframe tbody tr th:only-of-type {\n",
       "        vertical-align: middle;\n",
       "    }\n",
       "\n",
       "    .dataframe tbody tr th {\n",
       "        vertical-align: top;\n",
       "    }\n",
       "\n",
       "    .dataframe thead th {\n",
       "        text-align: right;\n",
       "    }\n",
       "</style>\n",
       "<table border=\"1\" class=\"dataframe\">\n",
       "  <thead>\n",
       "    <tr style=\"text-align: right;\">\n",
       "      <th></th>\n",
       "      <th></th>\n",
       "      <th>topic_corr</th>\n",
       "      <th>z_score</th>\n",
       "      <th>t1_gloss</th>\n",
       "      <th>t2_gloss</th>\n",
       "      <th>p_ab</th>\n",
       "    </tr>\n",
       "    <tr>\n",
       "      <th>t1</th>\n",
       "      <th>t2</th>\n",
       "      <th></th>\n",
       "      <th></th>\n",
       "      <th></th>\n",
       "      <th></th>\n",
       "      <th></th>\n",
       "    </tr>\n",
       "  </thead>\n",
       "  <tbody>\n",
       "    <tr>\n",
       "      <th rowspan=\"5\" valign=\"top\">0</th>\n",
       "      <th>3</th>\n",
       "      <td>-0.142843</td>\n",
       "      <td>-1.672402</td>\n",
       "      <td>Bayesian models</td>\n",
       "      <td>priors</td>\n",
       "      <td>0.359175</td>\n",
       "    </tr>\n",
       "    <tr>\n",
       "      <th>2</th>\n",
       "      <td>0.069323</td>\n",
       "      <td>1.647788</td>\n",
       "      <td>Bayesian models</td>\n",
       "      <td>MCMC</td>\n",
       "      <td>0.248933</td>\n",
       "    </tr>\n",
       "    <tr>\n",
       "      <th>5</th>\n",
       "      <td>0.045801</td>\n",
       "      <td>1.279689</td>\n",
       "      <td>Bayesian models</td>\n",
       "      <td>random effects</td>\n",
       "      <td>0.185633</td>\n",
       "    </tr>\n",
       "    <tr>\n",
       "      <th>6</th>\n",
       "      <td>-0.027794</td>\n",
       "      <td>0.128002</td>\n",
       "      <td>Bayesian models</td>\n",
       "      <td>variable selection</td>\n",
       "      <td>0.164296</td>\n",
       "    </tr>\n",
       "    <tr>\n",
       "      <th>7</th>\n",
       "      <td>-0.114099</td>\n",
       "      <td>-1.222584</td>\n",
       "      <td>Bayesian models</td>\n",
       "      <td>empirical Bayes</td>\n",
       "      <td>0.159317</td>\n",
       "    </tr>\n",
       "    <tr>\n",
       "      <th>2</th>\n",
       "      <th>3</th>\n",
       "      <td>-0.036570</td>\n",
       "      <td>-0.009324</td>\n",
       "      <td>MCMC</td>\n",
       "      <td>priors</td>\n",
       "      <td>0.106686</td>\n",
       "    </tr>\n",
       "    <tr>\n",
       "      <th>0</th>\n",
       "      <th>8</th>\n",
       "      <td>-0.148066</td>\n",
       "      <td>-1.754125</td>\n",
       "      <td>Bayesian models</td>\n",
       "      <td>env biology</td>\n",
       "      <td>0.093883</td>\n",
       "    </tr>\n",
       "    <tr>\n",
       "      <th>3</th>\n",
       "      <th>7</th>\n",
       "      <td>0.004493</td>\n",
       "      <td>0.633272</td>\n",
       "      <td>priors</td>\n",
       "      <td>empirical Bayes</td>\n",
       "      <td>0.082504</td>\n",
       "    </tr>\n",
       "    <tr>\n",
       "      <th>0</th>\n",
       "      <th>4</th>\n",
       "      <td>-0.224053</td>\n",
       "      <td>-2.943256</td>\n",
       "      <td>Bayesian models</td>\n",
       "      <td>economics</td>\n",
       "      <td>0.069701</td>\n",
       "    </tr>\n",
       "    <tr>\n",
       "      <th>3</th>\n",
       "      <th>6</th>\n",
       "      <td>0.038231</td>\n",
       "      <td>1.161238</td>\n",
       "      <td>priors</td>\n",
       "      <td>variable selection</td>\n",
       "      <td>0.068990</td>\n",
       "    </tr>\n",
       "  </tbody>\n",
       "</table>\n",
       "</div>"
      ],
      "text/plain": [
       "       topic_corr   z_score         t1_gloss            t2_gloss      p_ab\n",
       "t1 t2                                                                     \n",
       "0  3    -0.142843 -1.672402  Bayesian models              priors  0.359175\n",
       "   2     0.069323  1.647788  Bayesian models                MCMC  0.248933\n",
       "   5     0.045801  1.279689  Bayesian models      random effects  0.185633\n",
       "   6    -0.027794  0.128002  Bayesian models  variable selection  0.164296\n",
       "   7    -0.114099 -1.222584  Bayesian models     empirical Bayes  0.159317\n",
       "2  3    -0.036570 -0.009324             MCMC              priors  0.106686\n",
       "0  8    -0.148066 -1.754125  Bayesian models         env biology  0.093883\n",
       "3  7     0.004493  0.633272           priors     empirical Bayes  0.082504\n",
       "0  4    -0.224053 -2.943256  Bayesian models           economics  0.069701\n",
       "3  6     0.038231  1.161238           priors  variable selection  0.068990"
      ]
     },
     "execution_count": 17,
     "metadata": {},
     "output_type": "execute_result"
    }
   ],
   "source": [
    "topic_pairs.sort_values('p_ab', ascending=False).head(10)"
   ]
  },
  {
   "cell_type": "markdown",
   "metadata": {},
   "source": [
    "### Compute PWMI\n",
    "\n",
    "\"Pointwise  mutual  information  (PMI,  5)  is  a  measure  of  how  much  the  actual probability of a particular co-occurrence of events $p(x, y)$ differs from what we would expect it to be on the basis of the probabilities of the individual events and the assumption of independence $p(x)$ $p(y)$.\"\n",
    "\n",
    "[Bouma, Gerlof (2009). \"Normalized (Pointwise) Mutual Information in Collocation Extraction.\" _Proceedings of the Biennial GSCL Conference_.](https://svn.spraakdata.gu.se/repos/gerlof/pub/www/Docs/npmi-pfd.pdf)"
   ]
  },
  {
   "cell_type": "code",
   "execution_count": 18,
   "metadata": {},
   "outputs": [],
   "source": [
    "import math"
   ]
  },
  {
   "cell_type": "code",
   "execution_count": 19,
   "metadata": {},
   "outputs": [],
   "source": [
    "def pwmi(p_a, p_b, p_ab):\n",
    "    \"\"\"Computes the adjusted point-wise mutual information of two items (a and b)\n",
    "    that appear in container vectors of some kind, e.g. items in a shopping\n",
    "    basket.\"\"\"\n",
    "\n",
    "    if p_ab > 0:\n",
    "        pmi_ab = math.log2(p_ab / (p_a * p_b))  # Raw\n",
    "        h = p_ab * math.log2(1/p_ab)\n",
    "        apmi_ab = pmi_ab / h\n",
    "    else:\n",
    "        apmi_ab = 0\n",
    "\n",
    "    return apmi_ab"
   ]
  },
  {
   "cell_type": "code",
   "execution_count": 20,
   "metadata": {},
   "outputs": [],
   "source": [
    "topic_pairs['pwmi'] = topic_pairs.apply(lambda x: pwmi(db.TOPICS_NMF.loc[x.name[0]].p, \n",
    "                                                       db.TOPICS_NMF.loc[x.name[1]].p,\n",
    "                                                      x.p_ab), 1)"
   ]
  },
  {
   "cell_type": "code",
   "execution_count": 21,
   "metadata": {
    "scrolled": false
   },
   "outputs": [
    {
     "data": {
      "text/html": [
       "<div>\n",
       "<style scoped>\n",
       "    .dataframe tbody tr th:only-of-type {\n",
       "        vertical-align: middle;\n",
       "    }\n",
       "\n",
       "    .dataframe tbody tr th {\n",
       "        vertical-align: top;\n",
       "    }\n",
       "\n",
       "    .dataframe thead th {\n",
       "        text-align: right;\n",
       "    }\n",
       "</style>\n",
       "<table border=\"1\" class=\"dataframe\">\n",
       "  <thead>\n",
       "    <tr style=\"text-align: right;\">\n",
       "      <th></th>\n",
       "      <th></th>\n",
       "      <th>topic_corr</th>\n",
       "      <th>z_score</th>\n",
       "      <th>t1_gloss</th>\n",
       "      <th>t2_gloss</th>\n",
       "      <th>p_ab</th>\n",
       "      <th>pwmi</th>\n",
       "    </tr>\n",
       "    <tr>\n",
       "      <th>t1</th>\n",
       "      <th>t2</th>\n",
       "      <th></th>\n",
       "      <th></th>\n",
       "      <th></th>\n",
       "      <th></th>\n",
       "      <th></th>\n",
       "      <th></th>\n",
       "    </tr>\n",
       "  </thead>\n",
       "  <tbody>\n",
       "    <tr>\n",
       "      <th>8</th>\n",
       "      <th>9</th>\n",
       "      <td>0.007242</td>\n",
       "      <td>0.676280</td>\n",
       "      <td>env biology</td>\n",
       "      <td>genetics</td>\n",
       "      <td>0.007824</td>\n",
       "      <td>30.254576</td>\n",
       "    </tr>\n",
       "    <tr>\n",
       "      <th>7</th>\n",
       "      <th>9</th>\n",
       "      <td>0.001965</td>\n",
       "      <td>0.593711</td>\n",
       "      <td>empirical Bayes</td>\n",
       "      <td>genetics</td>\n",
       "      <td>0.009246</td>\n",
       "      <td>28.354478</td>\n",
       "    </tr>\n",
       "    <tr>\n",
       "      <th>4</th>\n",
       "      <th>5</th>\n",
       "      <td>-0.036030</td>\n",
       "      <td>-0.000874</td>\n",
       "      <td>economics</td>\n",
       "      <td>random effects</td>\n",
       "      <td>0.012802</td>\n",
       "      <td>28.187914</td>\n",
       "    </tr>\n",
       "    <tr>\n",
       "      <th>6</th>\n",
       "      <th>9</th>\n",
       "      <td>0.005250</td>\n",
       "      <td>0.645117</td>\n",
       "      <td>variable selection</td>\n",
       "      <td>genetics</td>\n",
       "      <td>0.015647</td>\n",
       "      <td>26.762923</td>\n",
       "    </tr>\n",
       "    <tr>\n",
       "      <th>4</th>\n",
       "      <th>7</th>\n",
       "      <td>-0.039842</td>\n",
       "      <td>-0.060536</td>\n",
       "      <td>economics</td>\n",
       "      <td>empirical Bayes</td>\n",
       "      <td>0.006401</td>\n",
       "      <td>25.799801</td>\n",
       "    </tr>\n",
       "    <tr>\n",
       "      <th>5</th>\n",
       "      <th>8</th>\n",
       "      <td>-0.034222</td>\n",
       "      <td>0.027415</td>\n",
       "      <td>random effects</td>\n",
       "      <td>env biology</td>\n",
       "      <td>0.016358</td>\n",
       "      <td>25.479394</td>\n",
       "    </tr>\n",
       "    <tr>\n",
       "      <th>4</th>\n",
       "      <th>8</th>\n",
       "      <td>-0.032969</td>\n",
       "      <td>0.047028</td>\n",
       "      <td>economics</td>\n",
       "      <td>env biology</td>\n",
       "      <td>0.004979</td>\n",
       "      <td>25.386916</td>\n",
       "    </tr>\n",
       "    <tr>\n",
       "      <th>6</th>\n",
       "      <th>8</th>\n",
       "      <td>-0.013321</td>\n",
       "      <td>0.354488</td>\n",
       "      <td>variable selection</td>\n",
       "      <td>env biology</td>\n",
       "      <td>0.010669</td>\n",
       "      <td>25.362109</td>\n",
       "    </tr>\n",
       "    <tr>\n",
       "      <th>7</th>\n",
       "      <th>8</th>\n",
       "      <td>-0.041499</td>\n",
       "      <td>-0.086460</td>\n",
       "      <td>empirical Bayes</td>\n",
       "      <td>env biology</td>\n",
       "      <td>0.007824</td>\n",
       "      <td>24.542186</td>\n",
       "    </tr>\n",
       "    <tr>\n",
       "      <th>4</th>\n",
       "      <th>6</th>\n",
       "      <td>-0.038249</td>\n",
       "      <td>-0.035597</td>\n",
       "      <td>economics</td>\n",
       "      <td>variable selection</td>\n",
       "      <td>0.005690</td>\n",
       "      <td>23.917771</td>\n",
       "    </tr>\n",
       "  </tbody>\n",
       "</table>\n",
       "</div>"
      ],
      "text/plain": [
       "       topic_corr   z_score            t1_gloss            t2_gloss      p_ab  \\\n",
       "t1 t2                                                                           \n",
       "8  9     0.007242  0.676280         env biology            genetics  0.007824   \n",
       "7  9     0.001965  0.593711     empirical Bayes            genetics  0.009246   \n",
       "4  5    -0.036030 -0.000874           economics      random effects  0.012802   \n",
       "6  9     0.005250  0.645117  variable selection            genetics  0.015647   \n",
       "4  7    -0.039842 -0.060536           economics     empirical Bayes  0.006401   \n",
       "5  8    -0.034222  0.027415      random effects         env biology  0.016358   \n",
       "4  8    -0.032969  0.047028           economics         env biology  0.004979   \n",
       "6  8    -0.013321  0.354488  variable selection         env biology  0.010669   \n",
       "7  8    -0.041499 -0.086460     empirical Bayes         env biology  0.007824   \n",
       "4  6    -0.038249 -0.035597           economics  variable selection  0.005690   \n",
       "\n",
       "            pwmi  \n",
       "t1 t2             \n",
       "8  9   30.254576  \n",
       "7  9   28.354478  \n",
       "4  5   28.187914  \n",
       "6  9   26.762923  \n",
       "4  7   25.799801  \n",
       "5  8   25.479394  \n",
       "4  8   25.386916  \n",
       "6  8   25.362109  \n",
       "7  8   24.542186  \n",
       "4  6   23.917771  "
      ]
     },
     "execution_count": 21,
     "metadata": {},
     "output_type": "execute_result"
    }
   ],
   "source": [
    "topic_pairs.sort_values('pwmi', ascending=False).head(10)"
   ]
  },
  {
   "cell_type": "code",
   "execution_count": 31,
   "metadata": {
    "scrolled": false
   },
   "outputs": [
    {
     "data": {
      "image/svg+xml": [
       "<svg xmlns=\"http://www.w3.org/2000/svg\" xmlns:xlink=\"http://www.w3.org/1999/xlink\" width=\"640pt\" height=\"457pt\" viewBox=\"0.00 0.00 640.00 457.00\">\n",
       "<g id=\"graph0\" class=\"graph\" transform=\"scale(1 1) rotate(0) translate(4 453)\">\n",
       "<title>topic_graph</title>\n",
       "<polygon fill=\"white\" stroke=\"transparent\" points=\"-4,4 -4,-453 636,-453 636,4 -4,4\"/>\n",
       "<!-- 1 -->\n",
       "<g id=\"node1\" class=\"node\">\n",
       "<title>1</title>\n",
       "<text text-anchor=\"middle\" x=\"378\" y=\"-437.8\" font-family=\"Arial\" font-size=\"14.00\">T1: French</text>\n",
       "</g>\n",
       "<!-- 3 -->\n",
       "<g id=\"node2\" class=\"node\">\n",
       "<title>3</title>\n",
       "<text text-anchor=\"middle\" x=\"378\" y=\"-375.8\" font-family=\"Arial\" font-size=\"14.00\">T3: priors</text>\n",
       "</g>\n",
       "<!-- 1&#45;&#45;3 -->\n",
       "<g id=\"edge1\" class=\"edge\">\n",
       "<title>1--3</title>\n",
       "<path fill=\"none\" stroke=\"lightgray\" d=\"M378,-433.62C378,-422.04 378,-398.82 378,-387.3\"/>\n",
       "<text text-anchor=\"middle\" x=\"390\" y=\"-408\" font-family=\"Arial\" font-size=\"10.00\" fill=\"green\">11.95</text>\n",
       "</g>\n",
       "<!-- 5 -->\n",
       "<g id=\"node4\" class=\"node\">\n",
       "<title>5</title>\n",
       "<text text-anchor=\"middle\" x=\"148\" y=\"-251.8\" font-family=\"Arial\" font-size=\"14.00\">T5: random effects</text>\n",
       "</g>\n",
       "<!-- 3&#45;&#45;5 -->\n",
       "<g id=\"edge9\" class=\"edge\">\n",
       "<title>3--5</title>\n",
       "<path fill=\"none\" stroke=\"lightgray\" d=\"M348.82,-373.02C315.03,-365.77 258.56,-350.78 216,-325 187.91,-307.98 162.97,-276.87 152.83,-263.22\"/>\n",
       "<text text-anchor=\"middle\" x=\"228.5\" y=\"-315\" font-family=\"Arial\" font-size=\"10.00\" fill=\"green\">14.19</text>\n",
       "</g>\n",
       "<!-- 6 -->\n",
       "<g id=\"node5\" class=\"node\">\n",
       "<title>6</title>\n",
       "<text text-anchor=\"middle\" x=\"95\" y=\"-189.8\" font-family=\"Arial\" font-size=\"14.00\">T6: variable selection</text>\n",
       "</g>\n",
       "<!-- 3&#45;&#45;6 -->\n",
       "<g id=\"edge10\" class=\"edge\">\n",
       "<title>3--6</title>\n",
       "<path fill=\"none\" stroke=\"lightgray\" d=\"M348.72,-377.98C285.44,-375.05 137.19,-357.89 82,-263 70.19,-242.7 83.75,-213.83 91,-201.04\"/>\n",
       "<text text-anchor=\"middle\" x=\"115.5\" y=\"-284\" font-family=\"Arial\" font-size=\"10.00\" fill=\"green\">13.44</text>\n",
       "</g>\n",
       "<!-- 7 -->\n",
       "<g id=\"node6\" class=\"node\">\n",
       "<title>7</title>\n",
       "<text text-anchor=\"middle\" x=\"231\" y=\"-127.8\" font-family=\"Arial\" font-size=\"14.00\">T7: empirical Bayes</text>\n",
       "</g>\n",
       "<!-- 3&#45;&#45;7 -->\n",
       "<g id=\"edge11\" class=\"edge\">\n",
       "<title>3--7</title>\n",
       "<path fill=\"none\" stroke=\"lightgray\" d=\"M379.21,-371.7C383.56,-344.98 395.94,-245.78 352,-186 332.48,-159.44 296.83,-145.85 269.26,-139.03\"/>\n",
       "<text text-anchor=\"middle\" x=\"392.5\" y=\"-253\" font-family=\"Arial\" font-size=\"10.00\" fill=\"green\">12.98</text>\n",
       "</g>\n",
       "<!-- 8 -->\n",
       "<g id=\"node7\" class=\"node\">\n",
       "<title>8</title>\n",
       "<text text-anchor=\"middle\" x=\"320\" y=\"-65.8\" font-family=\"Arial\" font-size=\"14.00\">T8: env biology</text>\n",
       "</g>\n",
       "<!-- 3&#45;&#45;8 -->\n",
       "<g id=\"edge12\" class=\"edge\">\n",
       "<title>3--8</title>\n",
       "<path fill=\"none\" stroke=\"lightgray\" d=\"M384.37,-371.78C388.38,-367.14 393.29,-360.65 396,-354 413.95,-310.06 418.6,-294.48 409,-248 394.02,-175.47 383.62,-156.92 343,-95 338.65,-88.37 332.43,-81.87 327.55,-77.23\"/>\n",
       "<text text-anchor=\"middle\" x=\"417.5\" y=\"-222\" font-family=\"Arial\" font-size=\"10.00\" fill=\"green\">16.33</text>\n",
       "</g>\n",
       "<!-- 9 -->\n",
       "<g id=\"node8\" class=\"node\">\n",
       "<title>9</title>\n",
       "<text text-anchor=\"middle\" x=\"275\" y=\"-3.8\" font-family=\"Arial\" font-size=\"14.00\">T9: genetics</text>\n",
       "</g>\n",
       "<!-- 3&#45;&#45;9 -->\n",
       "<g id=\"edge13\" class=\"edge\">\n",
       "<title>3--9</title>\n",
       "<path fill=\"none\" stroke=\"lightgray\" d=\"M389.83,-371.97C396.93,-367.6 405.78,-361.32 412,-354 473.27,-281.91 507,-258.11 507,-163.5 507,-163.5 507,-163.5 507,-68.5 507,-28.72 377.52,-14.89 312.02,-10.44\"/>\n",
       "<text text-anchor=\"middle\" x=\"518.5\" y=\"-191\" font-family=\"Arial\" font-size=\"10.00\" fill=\"green\">18.85</text>\n",
       "</g>\n",
       "<!-- 4 -->\n",
       "<g id=\"node9\" class=\"node\">\n",
       "<title>4</title>\n",
       "<text text-anchor=\"middle\" x=\"294\" y=\"-313.8\" font-family=\"Arial\" font-size=\"14.00\">T4: economics</text>\n",
       "</g>\n",
       "<!-- 3&#45;&#45;4 -->\n",
       "<g id=\"edge8\" class=\"edge\">\n",
       "<title>3--4</title>\n",
       "<path fill=\"none\" stroke=\"lightgray\" d=\"M366.87,-371.94C358.95,-367.18 348.15,-360.45 339,-354 325.5,-344.48 310.59,-332.38 301.77,-325.05\"/>\n",
       "<text text-anchor=\"middle\" x=\"351.5\" y=\"-346\" font-family=\"Arial\" font-size=\"10.00\" fill=\"green\">15.57</text>\n",
       "</g>\n",
       "<!-- 2 -->\n",
       "<g id=\"node3\" class=\"node\">\n",
       "<title>2</title>\n",
       "<text text-anchor=\"middle\" x=\"485\" y=\"-437.8\" font-family=\"Arial\" font-size=\"14.00\">T2: MCMC</text>\n",
       "</g>\n",
       "<!-- 2&#45;&#45;3 -->\n",
       "<g id=\"edge2\" class=\"edge\">\n",
       "<title>2--3</title>\n",
       "<path fill=\"none\" stroke=\"lightgray\" d=\"M473.14,-433.85C452.57,-422.32 410.52,-398.73 389.91,-387.18\"/>\n",
       "<text text-anchor=\"middle\" x=\"448\" y=\"-408\" font-family=\"Arial\" font-size=\"10.00\" fill=\"green\">9.8</text>\n",
       "</g>\n",
       "<!-- 2&#45;&#45;5 -->\n",
       "<g id=\"edge3\" class=\"edge\">\n",
       "<title>2--5</title>\n",
       "<path fill=\"none\" stroke=\"lightgray\" d=\"M451.32,-434.82C399.16,-424.88 297.13,-400.78 223,-354 190.57,-333.54 183.1,-324.66 163,-292 157.18,-282.54 152.6,-270.42 150.1,-263.07\"/>\n",
       "<text text-anchor=\"middle\" x=\"235.5\" y=\"-346\" font-family=\"Arial\" font-size=\"10.00\" fill=\"green\">14.08</text>\n",
       "</g>\n",
       "<!-- 2&#45;&#45;6 -->\n",
       "<g id=\"edge4\" class=\"edge\">\n",
       "<title>2--6</title>\n",
       "<path fill=\"none\" stroke=\"lightgray\" d=\"M451.18,-436.98C344.94,-425.8 25,-391.25 25,-380.5 25,-380.5 25,-380.5 25,-254.5 25,-227.29 55.87,-209.76 76.61,-201.05\"/>\n",
       "<text text-anchor=\"middle\" x=\"37.5\" y=\"-315\" font-family=\"Arial\" font-size=\"10.00\" fill=\"green\">14.16</text>\n",
       "</g>\n",
       "<!-- 2&#45;&#45;7 -->\n",
       "<g id=\"edge5\" class=\"edge\">\n",
       "<title>2--7</title>\n",
       "<path fill=\"none\" stroke=\"lightgray\" d=\"M489.24,-433.78C495.63,-422.98 507,-400.91 507,-380.5 507,-380.5 507,-380.5 507,-285.5 507,-187.29 371.68,-151.6 290.55,-139.03\"/>\n",
       "<text text-anchor=\"middle\" x=\"519.5\" y=\"-284\" font-family=\"Arial\" font-size=\"10.00\" fill=\"green\">15.17</text>\n",
       "</g>\n",
       "<!-- 2&#45;&#45;8 -->\n",
       "<g id=\"edge6\" class=\"edge\">\n",
       "<title>2--8</title>\n",
       "<path fill=\"none\" stroke=\"lightgray\" d=\"M505.89,-433.88C528.08,-425.4 560,-408.35 560,-380.5 560,-380.5 560,-380.5 560,-223.5 560,-129.61 427.8,-90.81 359.63,-77.04\"/>\n",
       "<text text-anchor=\"middle\" x=\"572.5\" y=\"-253\" font-family=\"Arial\" font-size=\"10.00\" fill=\"green\">15.74</text>\n",
       "</g>\n",
       "<!-- 2&#45;&#45;9 -->\n",
       "<g id=\"edge7\" class=\"edge\">\n",
       "<title>2--9</title>\n",
       "<path fill=\"none\" stroke=\"lightgray\" d=\"M518.63,-438.86C556.55,-434.99 613,-422.22 613,-380.5 613,-380.5 613,-380.5 613,-68.5 613,-38.22 399.94,-18.2 312.14,-11.24\"/>\n",
       "<text text-anchor=\"middle\" x=\"622.5\" y=\"-222\" font-family=\"Arial\" font-size=\"10.00\" fill=\"green\">17.9</text>\n",
       "</g>\n",
       "<!-- 5&#45;&#45;6 -->\n",
       "<g id=\"edge18\" class=\"edge\">\n",
       "<title>5--6</title>\n",
       "<path fill=\"none\" stroke=\"lightgray\" d=\"M141.92,-247.62C131.7,-236.04 111.18,-212.82 101.01,-201.3\"/>\n",
       "<text text-anchor=\"middle\" x=\"138.5\" y=\"-222\" font-family=\"Arial\" font-size=\"10.00\" fill=\"green\">21.68</text>\n",
       "</g>\n",
       "<!-- 5&#45;&#45;7 -->\n",
       "<g id=\"edge19\" class=\"edge\">\n",
       "<title>5--7</title>\n",
       "<path fill=\"none\" stroke=\"lightgray\" d=\"M152.46,-247.94C166.87,-226.76 212.07,-160.32 226.52,-139.09\"/>\n",
       "<text text-anchor=\"middle\" x=\"205.5\" y=\"-191\" font-family=\"Arial\" font-size=\"10.00\" fill=\"green\">21.82</text>\n",
       "</g>\n",
       "<!-- 5&#45;&#45;8 -->\n",
       "<g id=\"edge20\" class=\"edge\">\n",
       "<title>5--8</title>\n",
       "<path fill=\"none\" stroke=\"lightgray\" d=\"M162.24,-247.79C192.49,-232.77 263.4,-193.47 300,-139 313.4,-119.05 317.98,-90 319.41,-77.1\"/>\n",
       "<text text-anchor=\"middle\" x=\"297.5\" y=\"-160\" font-family=\"Arial\" font-size=\"10.00\" fill=\"green\">25.48</text>\n",
       "</g>\n",
       "<!-- 5&#45;&#45;9 -->\n",
       "<g id=\"edge21\" class=\"edge\">\n",
       "<title>5--9</title>\n",
       "<path fill=\"none\" stroke=\"lightgray\" d=\"M90.78,-253.34C49.13,-249.08 0,-235.4 0,-194.5 0,-194.5 0,-194.5 0,-68.5 0,-20.37 162.85,-10.78 237.91,-8.92\"/>\n",
       "<text text-anchor=\"middle\" x=\"12.5\" y=\"-129\" font-family=\"Arial\" font-size=\"10.00\" fill=\"green\">15.84</text>\n",
       "</g>\n",
       "<!-- 6&#45;&#45;7 -->\n",
       "<g id=\"edge22\" class=\"edge\">\n",
       "<title>6--7</title>\n",
       "<path fill=\"none\" stroke=\"lightgray\" d=\"M106.13,-185.95C119.23,-178.41 141.75,-165.9 162,-157 177.83,-150.04 196.31,-143.56 210.16,-139.02\"/>\n",
       "<text text-anchor=\"middle\" x=\"171.5\" y=\"-160\" font-family=\"Arial\" font-size=\"10.00\" fill=\"green\">20.7</text>\n",
       "</g>\n",
       "<!-- 6&#45;&#45;8 -->\n",
       "<g id=\"edge23\" class=\"edge\">\n",
       "<title>6--8</title>\n",
       "<path fill=\"none\" stroke=\"lightgray\" d=\"M97.26,-185.71C102.2,-171.94 115.28,-140.6 137,-124 160.67,-105.91 241.53,-86.81 287.45,-77.06\"/>\n",
       "<text text-anchor=\"middle\" x=\"149.5\" y=\"-129\" font-family=\"Arial\" font-size=\"10.00\" fill=\"green\">25.36</text>\n",
       "</g>\n",
       "<!-- 6&#45;&#45;9 -->\n",
       "<g id=\"edge24\" class=\"edge\">\n",
       "<title>6--9</title>\n",
       "<path fill=\"none\" stroke=\"lightgray\" d=\"M95.23,-185.8C95.64,-178.53 96.79,-166.69 100,-157 105.25,-141.14 107.77,-137.21 118,-124 159.23,-70.76 231.23,-30.5 261.25,-15.21\"/>\n",
       "<text text-anchor=\"middle\" x=\"156.5\" y=\"-98\" font-family=\"Arial\" font-size=\"10.00\" fill=\"green\">26.76</text>\n",
       "</g>\n",
       "<!-- 7&#45;&#45;8 -->\n",
       "<g id=\"edge25\" class=\"edge\">\n",
       "<title>7--8</title>\n",
       "<path fill=\"none\" stroke=\"lightgray\" d=\"M239.88,-123.74C249.59,-116.44 265.67,-104.56 280,-95 289.48,-88.67 300.56,-81.94 308.65,-77.14\"/>\n",
       "<text text-anchor=\"middle\" x=\"292.5\" y=\"-98\" font-family=\"Arial\" font-size=\"10.00\" fill=\"green\">24.54</text>\n",
       "</g>\n",
       "<!-- 7&#45;&#45;9 -->\n",
       "<g id=\"edge26\" class=\"edge\">\n",
       "<title>7--9</title>\n",
       "<path fill=\"none\" stroke=\"lightgray\" d=\"M230.91,-123.85C230.94,-111.33 232,-83.59 240,-62 246.87,-43.48 261.11,-24.85 269.14,-15.21\"/>\n",
       "<text text-anchor=\"middle\" x=\"252.5\" y=\"-67\" font-family=\"Arial\" font-size=\"10.00\" fill=\"green\">28.35</text>\n",
       "</g>\n",
       "<!-- 8&#45;&#45;9 -->\n",
       "<g id=\"edge27\" class=\"edge\">\n",
       "<title>8--9</title>\n",
       "<path fill=\"none\" stroke=\"lightgray\" d=\"M314.84,-61.62C306.16,-50.04 288.74,-26.82 280.1,-15.3\"/>\n",
       "<text text-anchor=\"middle\" x=\"313.5\" y=\"-36\" font-family=\"Arial\" font-size=\"10.00\" fill=\"green\">30.25</text>\n",
       "</g>\n",
       "<!-- 4&#45;&#45;5 -->\n",
       "<g id=\"edge14\" class=\"edge\">\n",
       "<title>4--5</title>\n",
       "<path fill=\"none\" stroke=\"lightgray\" d=\"M259.02,-309.96C241.45,-305.99 220.1,-300.1 202,-292 184.59,-284.21 166.49,-271.11 156.29,-263.19\"/>\n",
       "<text text-anchor=\"middle\" x=\"214.5\" y=\"-284\" font-family=\"Arial\" font-size=\"10.00\" fill=\"green\">28.19</text>\n",
       "</g>\n",
       "<!-- 4&#45;&#45;6 -->\n",
       "<g id=\"edge15\" class=\"edge\">\n",
       "<title>4--6</title>\n",
       "<path fill=\"none\" stroke=\"lightgray\" d=\"M287.41,-309.83C274.29,-296.79 243.62,-267.51 214,-248 189.6,-231.93 181.65,-230.97 155,-219 140.63,-212.54 124.03,-205.82 111.94,-201.06\"/>\n",
       "<text text-anchor=\"middle\" x=\"245.5\" y=\"-253\" font-family=\"Arial\" font-size=\"10.00\" fill=\"green\">23.92</text>\n",
       "</g>\n",
       "<!-- 4&#45;&#45;7 -->\n",
       "<g id=\"edge16\" class=\"edge\">\n",
       "<title>4--7</title>\n",
       "<path fill=\"none\" stroke=\"lightgray\" d=\"M295.14,-309.71C298.7,-286.22 307.48,-207.13 274,-157 268.46,-148.71 259.12,-142.9 250.55,-139.03\"/>\n",
       "<text text-anchor=\"middle\" x=\"306.5\" y=\"-222\" font-family=\"Arial\" font-size=\"10.00\" fill=\"green\">25.8</text>\n",
       "</g>\n",
       "<!-- 4&#45;&#45;8 -->\n",
       "<g id=\"edge17\" class=\"edge\">\n",
       "<title>4--8</title>\n",
       "<path fill=\"none\" stroke=\"lightgray\" d=\"M300.07,-309.74C303.88,-305.09 308.52,-298.59 311,-292 316.84,-276.47 326.76,-156.69 329,-106 329.22,-101.12 329.86,-99.81 329,-95 327.89,-88.75 325.3,-82.01 323.18,-77.19\"/>\n",
       "<text text-anchor=\"middle\" x=\"335.5\" y=\"-191\" font-family=\"Arial\" font-size=\"10.00\" fill=\"green\">25.39</text>\n",
       "</g>\n",
       "</g>\n",
       "</svg>"
      ],
      "text/plain": [
       "<IPython.core.display.SVG object>"
      ]
     },
     "metadata": {},
     "output_type": "display_data"
    }
   ],
   "source": [
    "show_graph(topic_pairs.pwmi.quantile(.4), 'pwmi')"
   ]
  },
  {
   "cell_type": "markdown",
   "metadata": {},
   "source": [
    "## Compare Contiguity Measures"
   ]
  },
  {
   "cell_type": "code",
   "execution_count": 32,
   "metadata": {},
   "outputs": [],
   "source": [
    "import plotly_express as px"
   ]
  },
  {
   "cell_type": "code",
   "execution_count": 33,
   "metadata": {},
   "outputs": [],
   "source": [
    "labels = topic_pairs[['t1_gloss','t2_gloss']].apply(lambda x: '<br>'.join(x), 1)"
   ]
  },
  {
   "cell_type": "code",
   "execution_count": 34,
   "metadata": {},
   "outputs": [
    {
     "data": {
      "application/vnd.plotly.v1+json": {
       "config": {
        "plotlyServerURL": "https://plot.ly"
       },
       "data": [
        {
         "hovertemplate": "topic_corr=%{x}<br>pwmi=%{y}<br>p_ab=%{marker.size}<br>text=%{text}<extra></extra>",
         "legendgroup": "",
         "marker": {
          "color": "#636efa",
          "size": [
           0.0476529160739687,
           0.24893314366998578,
           0.35917496443812236,
           0.06970128022759602,
           0.1856330014224751,
           0.1642958748221906,
           0.1593172119487909,
           0.09388335704125178,
           0.05476529160739687,
           0.010668563300142247,
           0.020625889046941678,
           0.0007112375533428165,
           0.0035561877667140826,
           0.004267425320056899,
           0.005689900426742532,
           0.001422475106685633,
           0.0021337126600284497,
           0.10668563300142248,
           0.006401137980085348,
           0.05547652916073969,
           0.04694167852062589,
           0.03058321479374111,
           0.014935988620199146,
           0.015647226173541962,
           0.009246088193456615,
           0.060455192034139404,
           0.0689900426742532,
           0.08250355618776671,
           0.013513513513513514,
           0.015647226173541962,
           0.012802275960170697,
           0.005689900426742532,
           0.006401137980085348,
           0.004978662873399715,
           0,
           0.02702702702702703,
           0.02702702702702703,
           0.016358463726884778,
           0.0035561877667140826,
           0.029871977240398292,
           0.010668563300142247,
           0.015647226173541962,
           0.007823613086770981,
           0.009246088193456615,
           0.007823613086770981
          ],
          "sizemode": "area",
          "sizeref": 0.0008979374110953059,
          "symbol": "circle"
         },
         "mode": "markers+text",
         "name": "",
         "orientation": "v",
         "showlegend": false,
         "text": [
          "Bayesian models<br>French",
          "Bayesian models<br>MCMC",
          "Bayesian models<br>priors",
          "Bayesian models<br>economics",
          "Bayesian models<br>random effects",
          "Bayesian models<br>variable selection",
          "Bayesian models<br>empirical Bayes",
          "Bayesian models<br>env biology",
          "Bayesian models<br>genetics",
          "French<br>MCMC",
          "French<br>priors",
          "French<br>economics",
          "French<br>random effects",
          "French<br>variable selection",
          "French<br>empirical Bayes",
          "French<br>env biology",
          "French<br>genetics",
          "MCMC<br>priors",
          "MCMC<br>economics",
          "MCMC<br>random effects",
          "MCMC<br>variable selection",
          "MCMC<br>empirical Bayes",
          "MCMC<br>env biology",
          "MCMC<br>genetics",
          "priors<br>economics",
          "priors<br>random effects",
          "priors<br>variable selection",
          "priors<br>empirical Bayes",
          "priors<br>env biology",
          "priors<br>genetics",
          "economics<br>random effects",
          "economics<br>variable selection",
          "economics<br>empirical Bayes",
          "economics<br>env biology",
          "economics<br>genetics",
          "random effects<br>variable selection",
          "random effects<br>empirical Bayes",
          "random effects<br>env biology",
          "random effects<br>genetics",
          "variable selection<br>empirical Bayes",
          "variable selection<br>env biology",
          "variable selection<br>genetics",
          "empirical Bayes<br>env biology",
          "empirical Bayes<br>genetics",
          "env biology<br>genetics"
         ],
         "type": "scatter",
         "x": [
          -0.25722871026727173,
          0.06932279117243882,
          -0.1428434346917322,
          -0.22405337523730323,
          0.04580064363466916,
          -0.02779429119049809,
          -0.11409921945144434,
          -0.14806566468972132,
          -0.04976849579055492,
          -0.03420409926753905,
          -0.011071768480350592,
          -0.021987535073584676,
          -0.04025328281759514,
          -0.038201177839177446,
          -0.004167781938521485,
          -0.03918358401371071,
          -0.029538746834946904,
          -0.036569663651167844,
          -0.05511053336014839,
          -0.0006771798599856215,
          0.016685991466135416,
          -0.05793950517998207,
          -0.0671803170870291,
          -0.012359600622219923,
          -0.06386299046547433,
          -0.00037820241031240483,
          0.03823138823674001,
          0.004493395376733325,
          -0.084086753379811,
          -0.051022477415077955,
          -0.03602968995552846,
          -0.038248552086337685,
          -0.039842258250135106,
          -0.03296867263219579,
          -0.028122120614867227,
          -0.004900570916930479,
          0.015219497517104847,
          -0.034221986479646256,
          -0.0401986027029604,
          0.09796590555113349,
          -0.013321423482292196,
          0.0052502942810508674,
          -0.041498803516293536,
          0.0019653335507033238,
          0.0072416896633376955
         ],
         "xaxis": "x",
         "y": [
          2.754869835204651,
          5.1768269128061295,
          6.037733758590742,
          7.0003215341657326,
          6.82559029752733,
          6.582583288775139,
          6.613737921725899,
          6.726410219062629,
          6.81687195835372,
          4.862190993099981,
          11.95041065312742,
          -328.18788690177695,
          -11.368596186324437,
          -4.465714087376067,
          6.686582810261927,
          -118.21304419853361,
          -43.2389565724625,
          9.797724826170954,
          7.56058539972653,
          14.077896407442747,
          14.159217892132391,
          15.166968254100498,
          15.738655277691997,
          17.89664200345219,
          15.566217132268934,
          14.185797360990902,
          13.44451151593899,
          12.980478245845124,
          16.334365858873575,
          18.84817622924172,
          28.18791380768503,
          23.917770600950192,
          25.799801039250415,
          25.386915687149195,
          0,
          21.683297995764615,
          21.81619532306798,
          25.479393603530255,
          15.84391780279227,
          20.699268661050827,
          25.362109158174697,
          26.762922868327532,
          24.542185724106858,
          28.354478024182498,
          30.254576472698123
         ],
         "yaxis": "y"
        }
       ],
       "layout": {
        "height": 1000,
        "legend": {
         "itemsizing": "constant",
         "tracegroupgap": 0
        },
        "margin": {
         "t": 60
        },
        "template": {
         "data": {
          "bar": [
           {
            "error_x": {
             "color": "#2a3f5f"
            },
            "error_y": {
             "color": "#2a3f5f"
            },
            "marker": {
             "line": {
              "color": "#E5ECF6",
              "width": 0.5
             }
            },
            "type": "bar"
           }
          ],
          "barpolar": [
           {
            "marker": {
             "line": {
              "color": "#E5ECF6",
              "width": 0.5
             }
            },
            "type": "barpolar"
           }
          ],
          "carpet": [
           {
            "aaxis": {
             "endlinecolor": "#2a3f5f",
             "gridcolor": "white",
             "linecolor": "white",
             "minorgridcolor": "white",
             "startlinecolor": "#2a3f5f"
            },
            "baxis": {
             "endlinecolor": "#2a3f5f",
             "gridcolor": "white",
             "linecolor": "white",
             "minorgridcolor": "white",
             "startlinecolor": "#2a3f5f"
            },
            "type": "carpet"
           }
          ],
          "choropleth": [
           {
            "colorbar": {
             "outlinewidth": 0,
             "ticks": ""
            },
            "type": "choropleth"
           }
          ],
          "contour": [
           {
            "colorbar": {
             "outlinewidth": 0,
             "ticks": ""
            },
            "colorscale": [
             [
              0,
              "#0d0887"
             ],
             [
              0.1111111111111111,
              "#46039f"
             ],
             [
              0.2222222222222222,
              "#7201a8"
             ],
             [
              0.3333333333333333,
              "#9c179e"
             ],
             [
              0.4444444444444444,
              "#bd3786"
             ],
             [
              0.5555555555555556,
              "#d8576b"
             ],
             [
              0.6666666666666666,
              "#ed7953"
             ],
             [
              0.7777777777777778,
              "#fb9f3a"
             ],
             [
              0.8888888888888888,
              "#fdca26"
             ],
             [
              1,
              "#f0f921"
             ]
            ],
            "type": "contour"
           }
          ],
          "contourcarpet": [
           {
            "colorbar": {
             "outlinewidth": 0,
             "ticks": ""
            },
            "type": "contourcarpet"
           }
          ],
          "heatmap": [
           {
            "colorbar": {
             "outlinewidth": 0,
             "ticks": ""
            },
            "colorscale": [
             [
              0,
              "#0d0887"
             ],
             [
              0.1111111111111111,
              "#46039f"
             ],
             [
              0.2222222222222222,
              "#7201a8"
             ],
             [
              0.3333333333333333,
              "#9c179e"
             ],
             [
              0.4444444444444444,
              "#bd3786"
             ],
             [
              0.5555555555555556,
              "#d8576b"
             ],
             [
              0.6666666666666666,
              "#ed7953"
             ],
             [
              0.7777777777777778,
              "#fb9f3a"
             ],
             [
              0.8888888888888888,
              "#fdca26"
             ],
             [
              1,
              "#f0f921"
             ]
            ],
            "type": "heatmap"
           }
          ],
          "heatmapgl": [
           {
            "colorbar": {
             "outlinewidth": 0,
             "ticks": ""
            },
            "colorscale": [
             [
              0,
              "#0d0887"
             ],
             [
              0.1111111111111111,
              "#46039f"
             ],
             [
              0.2222222222222222,
              "#7201a8"
             ],
             [
              0.3333333333333333,
              "#9c179e"
             ],
             [
              0.4444444444444444,
              "#bd3786"
             ],
             [
              0.5555555555555556,
              "#d8576b"
             ],
             [
              0.6666666666666666,
              "#ed7953"
             ],
             [
              0.7777777777777778,
              "#fb9f3a"
             ],
             [
              0.8888888888888888,
              "#fdca26"
             ],
             [
              1,
              "#f0f921"
             ]
            ],
            "type": "heatmapgl"
           }
          ],
          "histogram": [
           {
            "marker": {
             "colorbar": {
              "outlinewidth": 0,
              "ticks": ""
             }
            },
            "type": "histogram"
           }
          ],
          "histogram2d": [
           {
            "colorbar": {
             "outlinewidth": 0,
             "ticks": ""
            },
            "colorscale": [
             [
              0,
              "#0d0887"
             ],
             [
              0.1111111111111111,
              "#46039f"
             ],
             [
              0.2222222222222222,
              "#7201a8"
             ],
             [
              0.3333333333333333,
              "#9c179e"
             ],
             [
              0.4444444444444444,
              "#bd3786"
             ],
             [
              0.5555555555555556,
              "#d8576b"
             ],
             [
              0.6666666666666666,
              "#ed7953"
             ],
             [
              0.7777777777777778,
              "#fb9f3a"
             ],
             [
              0.8888888888888888,
              "#fdca26"
             ],
             [
              1,
              "#f0f921"
             ]
            ],
            "type": "histogram2d"
           }
          ],
          "histogram2dcontour": [
           {
            "colorbar": {
             "outlinewidth": 0,
             "ticks": ""
            },
            "colorscale": [
             [
              0,
              "#0d0887"
             ],
             [
              0.1111111111111111,
              "#46039f"
             ],
             [
              0.2222222222222222,
              "#7201a8"
             ],
             [
              0.3333333333333333,
              "#9c179e"
             ],
             [
              0.4444444444444444,
              "#bd3786"
             ],
             [
              0.5555555555555556,
              "#d8576b"
             ],
             [
              0.6666666666666666,
              "#ed7953"
             ],
             [
              0.7777777777777778,
              "#fb9f3a"
             ],
             [
              0.8888888888888888,
              "#fdca26"
             ],
             [
              1,
              "#f0f921"
             ]
            ],
            "type": "histogram2dcontour"
           }
          ],
          "mesh3d": [
           {
            "colorbar": {
             "outlinewidth": 0,
             "ticks": ""
            },
            "type": "mesh3d"
           }
          ],
          "parcoords": [
           {
            "line": {
             "colorbar": {
              "outlinewidth": 0,
              "ticks": ""
             }
            },
            "type": "parcoords"
           }
          ],
          "pie": [
           {
            "automargin": true,
            "type": "pie"
           }
          ],
          "scatter": [
           {
            "marker": {
             "colorbar": {
              "outlinewidth": 0,
              "ticks": ""
             }
            },
            "type": "scatter"
           }
          ],
          "scatter3d": [
           {
            "line": {
             "colorbar": {
              "outlinewidth": 0,
              "ticks": ""
             }
            },
            "marker": {
             "colorbar": {
              "outlinewidth": 0,
              "ticks": ""
             }
            },
            "type": "scatter3d"
           }
          ],
          "scattercarpet": [
           {
            "marker": {
             "colorbar": {
              "outlinewidth": 0,
              "ticks": ""
             }
            },
            "type": "scattercarpet"
           }
          ],
          "scattergeo": [
           {
            "marker": {
             "colorbar": {
              "outlinewidth": 0,
              "ticks": ""
             }
            },
            "type": "scattergeo"
           }
          ],
          "scattergl": [
           {
            "marker": {
             "colorbar": {
              "outlinewidth": 0,
              "ticks": ""
             }
            },
            "type": "scattergl"
           }
          ],
          "scattermapbox": [
           {
            "marker": {
             "colorbar": {
              "outlinewidth": 0,
              "ticks": ""
             }
            },
            "type": "scattermapbox"
           }
          ],
          "scatterpolar": [
           {
            "marker": {
             "colorbar": {
              "outlinewidth": 0,
              "ticks": ""
             }
            },
            "type": "scatterpolar"
           }
          ],
          "scatterpolargl": [
           {
            "marker": {
             "colorbar": {
              "outlinewidth": 0,
              "ticks": ""
             }
            },
            "type": "scatterpolargl"
           }
          ],
          "scatterternary": [
           {
            "marker": {
             "colorbar": {
              "outlinewidth": 0,
              "ticks": ""
             }
            },
            "type": "scatterternary"
           }
          ],
          "surface": [
           {
            "colorbar": {
             "outlinewidth": 0,
             "ticks": ""
            },
            "colorscale": [
             [
              0,
              "#0d0887"
             ],
             [
              0.1111111111111111,
              "#46039f"
             ],
             [
              0.2222222222222222,
              "#7201a8"
             ],
             [
              0.3333333333333333,
              "#9c179e"
             ],
             [
              0.4444444444444444,
              "#bd3786"
             ],
             [
              0.5555555555555556,
              "#d8576b"
             ],
             [
              0.6666666666666666,
              "#ed7953"
             ],
             [
              0.7777777777777778,
              "#fb9f3a"
             ],
             [
              0.8888888888888888,
              "#fdca26"
             ],
             [
              1,
              "#f0f921"
             ]
            ],
            "type": "surface"
           }
          ],
          "table": [
           {
            "cells": {
             "fill": {
              "color": "#EBF0F8"
             },
             "line": {
              "color": "white"
             }
            },
            "header": {
             "fill": {
              "color": "#C8D4E3"
             },
             "line": {
              "color": "white"
             }
            },
            "type": "table"
           }
          ]
         },
         "layout": {
          "annotationdefaults": {
           "arrowcolor": "#2a3f5f",
           "arrowhead": 0,
           "arrowwidth": 1
          },
          "autotypenumbers": "strict",
          "coloraxis": {
           "colorbar": {
            "outlinewidth": 0,
            "ticks": ""
           }
          },
          "colorscale": {
           "diverging": [
            [
             0,
             "#8e0152"
            ],
            [
             0.1,
             "#c51b7d"
            ],
            [
             0.2,
             "#de77ae"
            ],
            [
             0.3,
             "#f1b6da"
            ],
            [
             0.4,
             "#fde0ef"
            ],
            [
             0.5,
             "#f7f7f7"
            ],
            [
             0.6,
             "#e6f5d0"
            ],
            [
             0.7,
             "#b8e186"
            ],
            [
             0.8,
             "#7fbc41"
            ],
            [
             0.9,
             "#4d9221"
            ],
            [
             1,
             "#276419"
            ]
           ],
           "sequential": [
            [
             0,
             "#0d0887"
            ],
            [
             0.1111111111111111,
             "#46039f"
            ],
            [
             0.2222222222222222,
             "#7201a8"
            ],
            [
             0.3333333333333333,
             "#9c179e"
            ],
            [
             0.4444444444444444,
             "#bd3786"
            ],
            [
             0.5555555555555556,
             "#d8576b"
            ],
            [
             0.6666666666666666,
             "#ed7953"
            ],
            [
             0.7777777777777778,
             "#fb9f3a"
            ],
            [
             0.8888888888888888,
             "#fdca26"
            ],
            [
             1,
             "#f0f921"
            ]
           ],
           "sequentialminus": [
            [
             0,
             "#0d0887"
            ],
            [
             0.1111111111111111,
             "#46039f"
            ],
            [
             0.2222222222222222,
             "#7201a8"
            ],
            [
             0.3333333333333333,
             "#9c179e"
            ],
            [
             0.4444444444444444,
             "#bd3786"
            ],
            [
             0.5555555555555556,
             "#d8576b"
            ],
            [
             0.6666666666666666,
             "#ed7953"
            ],
            [
             0.7777777777777778,
             "#fb9f3a"
            ],
            [
             0.8888888888888888,
             "#fdca26"
            ],
            [
             1,
             "#f0f921"
            ]
           ]
          },
          "colorway": [
           "#636efa",
           "#EF553B",
           "#00cc96",
           "#ab63fa",
           "#FFA15A",
           "#19d3f3",
           "#FF6692",
           "#B6E880",
           "#FF97FF",
           "#FECB52"
          ],
          "font": {
           "color": "#2a3f5f"
          },
          "geo": {
           "bgcolor": "white",
           "lakecolor": "white",
           "landcolor": "#E5ECF6",
           "showlakes": true,
           "showland": true,
           "subunitcolor": "white"
          },
          "hoverlabel": {
           "align": "left"
          },
          "hovermode": "closest",
          "mapbox": {
           "style": "light"
          },
          "paper_bgcolor": "white",
          "plot_bgcolor": "#E5ECF6",
          "polar": {
           "angularaxis": {
            "gridcolor": "white",
            "linecolor": "white",
            "ticks": ""
           },
           "bgcolor": "#E5ECF6",
           "radialaxis": {
            "gridcolor": "white",
            "linecolor": "white",
            "ticks": ""
           }
          },
          "scene": {
           "xaxis": {
            "backgroundcolor": "#E5ECF6",
            "gridcolor": "white",
            "gridwidth": 2,
            "linecolor": "white",
            "showbackground": true,
            "ticks": "",
            "zerolinecolor": "white"
           },
           "yaxis": {
            "backgroundcolor": "#E5ECF6",
            "gridcolor": "white",
            "gridwidth": 2,
            "linecolor": "white",
            "showbackground": true,
            "ticks": "",
            "zerolinecolor": "white"
           },
           "zaxis": {
            "backgroundcolor": "#E5ECF6",
            "gridcolor": "white",
            "gridwidth": 2,
            "linecolor": "white",
            "showbackground": true,
            "ticks": "",
            "zerolinecolor": "white"
           }
          },
          "shapedefaults": {
           "line": {
            "color": "#2a3f5f"
           }
          },
          "ternary": {
           "aaxis": {
            "gridcolor": "white",
            "linecolor": "white",
            "ticks": ""
           },
           "baxis": {
            "gridcolor": "white",
            "linecolor": "white",
            "ticks": ""
           },
           "bgcolor": "#E5ECF6",
           "caxis": {
            "gridcolor": "white",
            "linecolor": "white",
            "ticks": ""
           }
          },
          "title": {
           "x": 0.05
          },
          "xaxis": {
           "automargin": true,
           "gridcolor": "white",
           "linecolor": "white",
           "ticks": "",
           "title": {
            "standoff": 15
           },
           "zerolinecolor": "white",
           "zerolinewidth": 2
          },
          "yaxis": {
           "automargin": true,
           "gridcolor": "white",
           "linecolor": "white",
           "ticks": "",
           "title": {
            "standoff": 15
           },
           "zerolinecolor": "white",
           "zerolinewidth": 2
          }
         }
        },
        "width": 1000,
        "xaxis": {
         "anchor": "y",
         "domain": [
          0,
          1
         ],
         "title": {
          "text": "topic_corr"
         }
        },
        "yaxis": {
         "anchor": "x",
         "domain": [
          0,
          1
         ],
         "title": {
          "text": "pwmi"
         }
        }
       }
      },
      "text/html": [
       "<div>                            <div id=\"48459426-e34d-46db-8e74-72a971ecc222\" class=\"plotly-graph-div\" style=\"height:1000px; width:1000px;\"></div>            <script type=\"text/javascript\">                require([\"plotly\"], function(Plotly) {                    window.PLOTLYENV=window.PLOTLYENV || {};                                    if (document.getElementById(\"48459426-e34d-46db-8e74-72a971ecc222\")) {                    Plotly.newPlot(                        \"48459426-e34d-46db-8e74-72a971ecc222\",                        [{\"hovertemplate\": \"topic_corr=%{x}<br>pwmi=%{y}<br>p_ab=%{marker.size}<br>text=%{text}<extra></extra>\", \"legendgroup\": \"\", \"marker\": {\"color\": \"#636efa\", \"size\": [0.0476529160739687, 0.24893314366998578, 0.35917496443812236, 0.06970128022759602, 0.1856330014224751, 0.1642958748221906, 0.1593172119487909, 0.09388335704125178, 0.05476529160739687, 0.010668563300142247, 0.020625889046941678, 0.0007112375533428165, 0.0035561877667140826, 0.004267425320056899, 0.005689900426742532, 0.001422475106685633, 0.0021337126600284497, 0.10668563300142248, 0.006401137980085348, 0.05547652916073969, 0.04694167852062589, 0.03058321479374111, 0.014935988620199146, 0.015647226173541962, 0.009246088193456615, 0.060455192034139404, 0.0689900426742532, 0.08250355618776671, 0.013513513513513514, 0.015647226173541962, 0.012802275960170697, 0.005689900426742532, 0.006401137980085348, 0.004978662873399715, 0.0, 0.02702702702702703, 0.02702702702702703, 0.016358463726884778, 0.0035561877667140826, 0.029871977240398292, 0.010668563300142247, 0.015647226173541962, 0.007823613086770981, 0.009246088193456615, 0.007823613086770981], \"sizemode\": \"area\", \"sizeref\": 0.0008979374110953059, \"symbol\": \"circle\"}, \"mode\": \"markers+text\", \"name\": \"\", \"orientation\": \"v\", \"showlegend\": false, \"text\": [\"Bayesian models<br>French\", \"Bayesian models<br>MCMC\", \"Bayesian models<br>priors\", \"Bayesian models<br>economics\", \"Bayesian models<br>random effects\", \"Bayesian models<br>variable selection\", \"Bayesian models<br>empirical Bayes\", \"Bayesian models<br>env biology\", \"Bayesian models<br>genetics\", \"French<br>MCMC\", \"French<br>priors\", \"French<br>economics\", \"French<br>random effects\", \"French<br>variable selection\", \"French<br>empirical Bayes\", \"French<br>env biology\", \"French<br>genetics\", \"MCMC<br>priors\", \"MCMC<br>economics\", \"MCMC<br>random effects\", \"MCMC<br>variable selection\", \"MCMC<br>empirical Bayes\", \"MCMC<br>env biology\", \"MCMC<br>genetics\", \"priors<br>economics\", \"priors<br>random effects\", \"priors<br>variable selection\", \"priors<br>empirical Bayes\", \"priors<br>env biology\", \"priors<br>genetics\", \"economics<br>random effects\", \"economics<br>variable selection\", \"economics<br>empirical Bayes\", \"economics<br>env biology\", \"economics<br>genetics\", \"random effects<br>variable selection\", \"random effects<br>empirical Bayes\", \"random effects<br>env biology\", \"random effects<br>genetics\", \"variable selection<br>empirical Bayes\", \"variable selection<br>env biology\", \"variable selection<br>genetics\", \"empirical Bayes<br>env biology\", \"empirical Bayes<br>genetics\", \"env biology<br>genetics\"], \"type\": \"scatter\", \"x\": [-0.25722871026727173, 0.06932279117243882, -0.1428434346917322, -0.22405337523730323, 0.04580064363466916, -0.02779429119049809, -0.11409921945144434, -0.14806566468972132, -0.04976849579055492, -0.03420409926753905, -0.011071768480350592, -0.021987535073584676, -0.04025328281759514, -0.038201177839177446, -0.004167781938521485, -0.03918358401371071, -0.029538746834946904, -0.036569663651167844, -0.05511053336014839, -0.0006771798599856215, 0.016685991466135416, -0.05793950517998207, -0.0671803170870291, -0.012359600622219923, -0.06386299046547433, -0.00037820241031240483, 0.03823138823674001, 0.004493395376733325, -0.084086753379811, -0.051022477415077955, -0.03602968995552846, -0.038248552086337685, -0.039842258250135106, -0.03296867263219579, -0.028122120614867227, -0.004900570916930479, 0.015219497517104847, -0.034221986479646256, -0.0401986027029604, 0.09796590555113349, -0.013321423482292196, 0.0052502942810508674, -0.041498803516293536, 0.0019653335507033238, 0.0072416896633376955], \"xaxis\": \"x\", \"y\": [2.754869835204651, 5.1768269128061295, 6.037733758590742, 7.0003215341657326, 6.82559029752733, 6.582583288775139, 6.613737921725899, 6.726410219062629, 6.81687195835372, 4.862190993099981, 11.95041065312742, -328.18788690177695, -11.368596186324437, -4.465714087376067, 6.686582810261927, -118.21304419853361, -43.2389565724625, 9.797724826170954, 7.56058539972653, 14.077896407442747, 14.159217892132391, 15.166968254100498, 15.738655277691997, 17.89664200345219, 15.566217132268934, 14.185797360990902, 13.44451151593899, 12.980478245845124, 16.334365858873575, 18.84817622924172, 28.18791380768503, 23.917770600950192, 25.799801039250415, 25.386915687149195, 0.0, 21.683297995764615, 21.81619532306798, 25.479393603530255, 15.84391780279227, 20.699268661050827, 25.362109158174697, 26.762922868327532, 24.542185724106858, 28.354478024182498, 30.254576472698123], \"yaxis\": \"y\"}],                        {\"height\": 1000, \"legend\": {\"itemsizing\": \"constant\", \"tracegroupgap\": 0}, \"margin\": {\"t\": 60}, \"template\": {\"data\": {\"bar\": [{\"error_x\": {\"color\": \"#2a3f5f\"}, \"error_y\": {\"color\": \"#2a3f5f\"}, \"marker\": {\"line\": {\"color\": \"#E5ECF6\", \"width\": 0.5}}, \"type\": \"bar\"}], \"barpolar\": [{\"marker\": {\"line\": {\"color\": \"#E5ECF6\", \"width\": 0.5}}, \"type\": \"barpolar\"}], \"carpet\": [{\"aaxis\": {\"endlinecolor\": \"#2a3f5f\", \"gridcolor\": \"white\", \"linecolor\": \"white\", \"minorgridcolor\": \"white\", \"startlinecolor\": \"#2a3f5f\"}, \"baxis\": {\"endlinecolor\": \"#2a3f5f\", \"gridcolor\": \"white\", \"linecolor\": \"white\", \"minorgridcolor\": \"white\", \"startlinecolor\": \"#2a3f5f\"}, \"type\": \"carpet\"}], \"choropleth\": [{\"colorbar\": {\"outlinewidth\": 0, \"ticks\": \"\"}, \"type\": \"choropleth\"}], \"contour\": [{\"colorbar\": {\"outlinewidth\": 0, \"ticks\": \"\"}, \"colorscale\": [[0.0, \"#0d0887\"], [0.1111111111111111, \"#46039f\"], [0.2222222222222222, \"#7201a8\"], [0.3333333333333333, \"#9c179e\"], [0.4444444444444444, \"#bd3786\"], [0.5555555555555556, \"#d8576b\"], [0.6666666666666666, \"#ed7953\"], [0.7777777777777778, \"#fb9f3a\"], [0.8888888888888888, \"#fdca26\"], [1.0, \"#f0f921\"]], \"type\": \"contour\"}], \"contourcarpet\": [{\"colorbar\": {\"outlinewidth\": 0, \"ticks\": \"\"}, \"type\": \"contourcarpet\"}], \"heatmap\": [{\"colorbar\": {\"outlinewidth\": 0, \"ticks\": \"\"}, \"colorscale\": [[0.0, \"#0d0887\"], [0.1111111111111111, \"#46039f\"], [0.2222222222222222, \"#7201a8\"], [0.3333333333333333, \"#9c179e\"], [0.4444444444444444, \"#bd3786\"], [0.5555555555555556, \"#d8576b\"], [0.6666666666666666, \"#ed7953\"], [0.7777777777777778, \"#fb9f3a\"], [0.8888888888888888, \"#fdca26\"], [1.0, \"#f0f921\"]], \"type\": \"heatmap\"}], \"heatmapgl\": [{\"colorbar\": {\"outlinewidth\": 0, \"ticks\": \"\"}, \"colorscale\": [[0.0, \"#0d0887\"], [0.1111111111111111, \"#46039f\"], [0.2222222222222222, \"#7201a8\"], [0.3333333333333333, \"#9c179e\"], [0.4444444444444444, \"#bd3786\"], [0.5555555555555556, \"#d8576b\"], [0.6666666666666666, \"#ed7953\"], [0.7777777777777778, \"#fb9f3a\"], [0.8888888888888888, \"#fdca26\"], [1.0, \"#f0f921\"]], \"type\": \"heatmapgl\"}], \"histogram\": [{\"marker\": {\"colorbar\": {\"outlinewidth\": 0, \"ticks\": \"\"}}, \"type\": \"histogram\"}], \"histogram2d\": [{\"colorbar\": {\"outlinewidth\": 0, \"ticks\": \"\"}, \"colorscale\": [[0.0, \"#0d0887\"], [0.1111111111111111, \"#46039f\"], [0.2222222222222222, \"#7201a8\"], [0.3333333333333333, \"#9c179e\"], [0.4444444444444444, \"#bd3786\"], [0.5555555555555556, \"#d8576b\"], [0.6666666666666666, \"#ed7953\"], [0.7777777777777778, \"#fb9f3a\"], [0.8888888888888888, \"#fdca26\"], [1.0, \"#f0f921\"]], \"type\": \"histogram2d\"}], \"histogram2dcontour\": [{\"colorbar\": {\"outlinewidth\": 0, \"ticks\": \"\"}, \"colorscale\": [[0.0, \"#0d0887\"], [0.1111111111111111, \"#46039f\"], [0.2222222222222222, \"#7201a8\"], [0.3333333333333333, \"#9c179e\"], [0.4444444444444444, \"#bd3786\"], [0.5555555555555556, \"#d8576b\"], [0.6666666666666666, \"#ed7953\"], [0.7777777777777778, \"#fb9f3a\"], [0.8888888888888888, \"#fdca26\"], [1.0, \"#f0f921\"]], \"type\": \"histogram2dcontour\"}], \"mesh3d\": [{\"colorbar\": {\"outlinewidth\": 0, \"ticks\": \"\"}, \"type\": \"mesh3d\"}], \"parcoords\": [{\"line\": {\"colorbar\": {\"outlinewidth\": 0, \"ticks\": \"\"}}, \"type\": \"parcoords\"}], \"pie\": [{\"automargin\": true, \"type\": \"pie\"}], \"scatter\": [{\"marker\": {\"colorbar\": {\"outlinewidth\": 0, \"ticks\": \"\"}}, \"type\": \"scatter\"}], \"scatter3d\": [{\"line\": {\"colorbar\": {\"outlinewidth\": 0, \"ticks\": \"\"}}, \"marker\": {\"colorbar\": {\"outlinewidth\": 0, \"ticks\": \"\"}}, \"type\": \"scatter3d\"}], \"scattercarpet\": [{\"marker\": {\"colorbar\": {\"outlinewidth\": 0, \"ticks\": \"\"}}, \"type\": \"scattercarpet\"}], \"scattergeo\": [{\"marker\": {\"colorbar\": {\"outlinewidth\": 0, \"ticks\": \"\"}}, \"type\": \"scattergeo\"}], \"scattergl\": [{\"marker\": {\"colorbar\": {\"outlinewidth\": 0, \"ticks\": \"\"}}, \"type\": \"scattergl\"}], \"scattermapbox\": [{\"marker\": {\"colorbar\": {\"outlinewidth\": 0, \"ticks\": \"\"}}, \"type\": \"scattermapbox\"}], \"scatterpolar\": [{\"marker\": {\"colorbar\": {\"outlinewidth\": 0, \"ticks\": \"\"}}, \"type\": \"scatterpolar\"}], \"scatterpolargl\": [{\"marker\": {\"colorbar\": {\"outlinewidth\": 0, \"ticks\": \"\"}}, \"type\": \"scatterpolargl\"}], \"scatterternary\": [{\"marker\": {\"colorbar\": {\"outlinewidth\": 0, \"ticks\": \"\"}}, \"type\": \"scatterternary\"}], \"surface\": [{\"colorbar\": {\"outlinewidth\": 0, \"ticks\": \"\"}, \"colorscale\": [[0.0, \"#0d0887\"], [0.1111111111111111, \"#46039f\"], [0.2222222222222222, \"#7201a8\"], [0.3333333333333333, \"#9c179e\"], [0.4444444444444444, \"#bd3786\"], [0.5555555555555556, \"#d8576b\"], [0.6666666666666666, \"#ed7953\"], [0.7777777777777778, \"#fb9f3a\"], [0.8888888888888888, \"#fdca26\"], [1.0, \"#f0f921\"]], \"type\": \"surface\"}], \"table\": [{\"cells\": {\"fill\": {\"color\": \"#EBF0F8\"}, \"line\": {\"color\": \"white\"}}, \"header\": {\"fill\": {\"color\": \"#C8D4E3\"}, \"line\": {\"color\": \"white\"}}, \"type\": \"table\"}]}, \"layout\": {\"annotationdefaults\": {\"arrowcolor\": \"#2a3f5f\", \"arrowhead\": 0, \"arrowwidth\": 1}, \"autotypenumbers\": \"strict\", \"coloraxis\": {\"colorbar\": {\"outlinewidth\": 0, \"ticks\": \"\"}}, \"colorscale\": {\"diverging\": [[0, \"#8e0152\"], [0.1, \"#c51b7d\"], [0.2, \"#de77ae\"], [0.3, \"#f1b6da\"], [0.4, \"#fde0ef\"], [0.5, \"#f7f7f7\"], [0.6, \"#e6f5d0\"], [0.7, \"#b8e186\"], [0.8, \"#7fbc41\"], [0.9, \"#4d9221\"], [1, \"#276419\"]], \"sequential\": [[0.0, \"#0d0887\"], [0.1111111111111111, \"#46039f\"], [0.2222222222222222, \"#7201a8\"], [0.3333333333333333, \"#9c179e\"], [0.4444444444444444, \"#bd3786\"], [0.5555555555555556, \"#d8576b\"], [0.6666666666666666, \"#ed7953\"], [0.7777777777777778, \"#fb9f3a\"], [0.8888888888888888, \"#fdca26\"], [1.0, \"#f0f921\"]], \"sequentialminus\": [[0.0, \"#0d0887\"], [0.1111111111111111, \"#46039f\"], [0.2222222222222222, \"#7201a8\"], [0.3333333333333333, \"#9c179e\"], [0.4444444444444444, \"#bd3786\"], [0.5555555555555556, \"#d8576b\"], [0.6666666666666666, \"#ed7953\"], [0.7777777777777778, \"#fb9f3a\"], [0.8888888888888888, \"#fdca26\"], [1.0, \"#f0f921\"]]}, \"colorway\": [\"#636efa\", \"#EF553B\", \"#00cc96\", \"#ab63fa\", \"#FFA15A\", \"#19d3f3\", \"#FF6692\", \"#B6E880\", \"#FF97FF\", \"#FECB52\"], \"font\": {\"color\": \"#2a3f5f\"}, \"geo\": {\"bgcolor\": \"white\", \"lakecolor\": \"white\", \"landcolor\": \"#E5ECF6\", \"showlakes\": true, \"showland\": true, \"subunitcolor\": \"white\"}, \"hoverlabel\": {\"align\": \"left\"}, \"hovermode\": \"closest\", \"mapbox\": {\"style\": \"light\"}, \"paper_bgcolor\": \"white\", \"plot_bgcolor\": \"#E5ECF6\", \"polar\": {\"angularaxis\": {\"gridcolor\": \"white\", \"linecolor\": \"white\", \"ticks\": \"\"}, \"bgcolor\": \"#E5ECF6\", \"radialaxis\": {\"gridcolor\": \"white\", \"linecolor\": \"white\", \"ticks\": \"\"}}, \"scene\": {\"xaxis\": {\"backgroundcolor\": \"#E5ECF6\", \"gridcolor\": \"white\", \"gridwidth\": 2, \"linecolor\": \"white\", \"showbackground\": true, \"ticks\": \"\", \"zerolinecolor\": \"white\"}, \"yaxis\": {\"backgroundcolor\": \"#E5ECF6\", \"gridcolor\": \"white\", \"gridwidth\": 2, \"linecolor\": \"white\", \"showbackground\": true, \"ticks\": \"\", \"zerolinecolor\": \"white\"}, \"zaxis\": {\"backgroundcolor\": \"#E5ECF6\", \"gridcolor\": \"white\", \"gridwidth\": 2, \"linecolor\": \"white\", \"showbackground\": true, \"ticks\": \"\", \"zerolinecolor\": \"white\"}}, \"shapedefaults\": {\"line\": {\"color\": \"#2a3f5f\"}}, \"ternary\": {\"aaxis\": {\"gridcolor\": \"white\", \"linecolor\": \"white\", \"ticks\": \"\"}, \"baxis\": {\"gridcolor\": \"white\", \"linecolor\": \"white\", \"ticks\": \"\"}, \"bgcolor\": \"#E5ECF6\", \"caxis\": {\"gridcolor\": \"white\", \"linecolor\": \"white\", \"ticks\": \"\"}}, \"title\": {\"x\": 0.05}, \"xaxis\": {\"automargin\": true, \"gridcolor\": \"white\", \"linecolor\": \"white\", \"ticks\": \"\", \"title\": {\"standoff\": 15}, \"zerolinecolor\": \"white\", \"zerolinewidth\": 2}, \"yaxis\": {\"automargin\": true, \"gridcolor\": \"white\", \"linecolor\": \"white\", \"ticks\": \"\", \"title\": {\"standoff\": 15}, \"zerolinecolor\": \"white\", \"zerolinewidth\": 2}}}, \"width\": 1000, \"xaxis\": {\"anchor\": \"y\", \"domain\": [0.0, 1.0], \"title\": {\"text\": \"topic_corr\"}}, \"yaxis\": {\"anchor\": \"x\", \"domain\": [0.0, 1.0], \"title\": {\"text\": \"pwmi\"}}},                        {\"responsive\": true}                    ).then(function(){\n",
       "                            \n",
       "var gd = document.getElementById('48459426-e34d-46db-8e74-72a971ecc222');\n",
       "var x = new MutationObserver(function (mutations, observer) {{\n",
       "        var display = window.getComputedStyle(gd).display;\n",
       "        if (!display || display === 'none') {{\n",
       "            console.log([gd, 'removed!']);\n",
       "            Plotly.purge(gd);\n",
       "            observer.disconnect();\n",
       "        }}\n",
       "}});\n",
       "\n",
       "// Listen for the removal of the full notebook cells\n",
       "var notebookContainer = gd.closest('#notebook-container');\n",
       "if (notebookContainer) {{\n",
       "    x.observe(notebookContainer, {childList: true});\n",
       "}}\n",
       "\n",
       "// Listen for the clearing of the current output cell\n",
       "var outputEl = gd.closest('.output');\n",
       "if (outputEl) {{\n",
       "    x.observe(outputEl, {childList: true});\n",
       "}}\n",
       "\n",
       "                        })                };                });            </script>        </div>"
      ]
     },
     "metadata": {},
     "output_type": "display_data"
    }
   ],
   "source": [
    "px.scatter(topic_pairs, 'topic_corr', 'pwmi', size='p_ab', text=labels, height=1000, width=1000)"
   ]
  },
  {
   "cell_type": "code",
   "execution_count": 26,
   "metadata": {},
   "outputs": [
    {
     "data": {
      "application/vnd.plotly.v1+json": {
       "config": {
        "plotlyServerURL": "https://plot.ly"
       },
       "data": [
        {
         "hovertemplate": "topic_corr=%{x}<br>pwmi=%{y}<br>p_ab=%{z}<br>text=%{text}<extra></extra>",
         "legendgroup": "",
         "marker": {
          "color": "#636efa",
          "symbol": "circle"
         },
         "mode": "markers+text",
         "name": "",
         "scene": "scene",
         "showlegend": false,
         "text": [
          "Bayesian models<br>French",
          "Bayesian models<br>MCMC",
          "Bayesian models<br>priors",
          "Bayesian models<br>economics",
          "Bayesian models<br>random effects",
          "Bayesian models<br>variable selection",
          "Bayesian models<br>empirical Bayes",
          "Bayesian models<br>env biology",
          "Bayesian models<br>genetics",
          "French<br>MCMC",
          "French<br>priors",
          "French<br>economics",
          "French<br>random effects",
          "French<br>variable selection",
          "French<br>empirical Bayes",
          "French<br>env biology",
          "French<br>genetics",
          "MCMC<br>priors",
          "MCMC<br>economics",
          "MCMC<br>random effects",
          "MCMC<br>variable selection",
          "MCMC<br>empirical Bayes",
          "MCMC<br>env biology",
          "MCMC<br>genetics",
          "priors<br>economics",
          "priors<br>random effects",
          "priors<br>variable selection",
          "priors<br>empirical Bayes",
          "priors<br>env biology",
          "priors<br>genetics",
          "economics<br>random effects",
          "economics<br>variable selection",
          "economics<br>empirical Bayes",
          "economics<br>env biology",
          "economics<br>genetics",
          "random effects<br>variable selection",
          "random effects<br>empirical Bayes",
          "random effects<br>env biology",
          "random effects<br>genetics",
          "variable selection<br>empirical Bayes",
          "variable selection<br>env biology",
          "variable selection<br>genetics",
          "empirical Bayes<br>env biology",
          "empirical Bayes<br>genetics",
          "env biology<br>genetics"
         ],
         "type": "scatter3d",
         "x": [
          -0.25722871026727173,
          0.06932279117243882,
          -0.1428434346917322,
          -0.22405337523730323,
          0.04580064363466916,
          -0.02779429119049809,
          -0.11409921945144434,
          -0.14806566468972132,
          -0.04976849579055492,
          -0.03420409926753905,
          -0.011071768480350592,
          -0.021987535073584676,
          -0.04025328281759514,
          -0.038201177839177446,
          -0.004167781938521485,
          -0.03918358401371071,
          -0.029538746834946904,
          -0.036569663651167844,
          -0.05511053336014839,
          -0.0006771798599856215,
          0.016685991466135416,
          -0.05793950517998207,
          -0.0671803170870291,
          -0.012359600622219923,
          -0.06386299046547433,
          -0.00037820241031240483,
          0.03823138823674001,
          0.004493395376733325,
          -0.084086753379811,
          -0.051022477415077955,
          -0.03602968995552846,
          -0.038248552086337685,
          -0.039842258250135106,
          -0.03296867263219579,
          -0.028122120614867227,
          -0.004900570916930479,
          0.015219497517104847,
          -0.034221986479646256,
          -0.0401986027029604,
          0.09796590555113349,
          -0.013321423482292196,
          0.0052502942810508674,
          -0.041498803516293536,
          0.0019653335507033238,
          0.0072416896633376955
         ],
         "y": [
          2.754869835204651,
          5.1768269128061295,
          6.037733758590742,
          7.0003215341657326,
          6.82559029752733,
          6.582583288775139,
          6.613737921725899,
          6.726410219062629,
          6.81687195835372,
          4.862190993099981,
          11.95041065312742,
          -328.18788690177695,
          -11.368596186324437,
          -4.465714087376067,
          6.686582810261927,
          -118.21304419853361,
          -43.2389565724625,
          9.797724826170954,
          7.56058539972653,
          14.077896407442747,
          14.159217892132391,
          15.166968254100498,
          15.738655277691997,
          17.89664200345219,
          15.566217132268934,
          14.185797360990902,
          13.44451151593899,
          12.980478245845124,
          16.334365858873575,
          18.84817622924172,
          28.18791380768503,
          23.917770600950192,
          25.799801039250415,
          25.386915687149195,
          0,
          21.683297995764615,
          21.81619532306798,
          25.479393603530255,
          15.84391780279227,
          20.699268661050827,
          25.362109158174697,
          26.762922868327532,
          24.542185724106858,
          28.354478024182498,
          30.254576472698123
         ],
         "z": [
          0.0476529160739687,
          0.24893314366998578,
          0.35917496443812236,
          0.06970128022759602,
          0.1856330014224751,
          0.1642958748221906,
          0.1593172119487909,
          0.09388335704125178,
          0.05476529160739687,
          0.010668563300142247,
          0.020625889046941678,
          0.0007112375533428165,
          0.0035561877667140826,
          0.004267425320056899,
          0.005689900426742532,
          0.001422475106685633,
          0.0021337126600284497,
          0.10668563300142248,
          0.006401137980085348,
          0.05547652916073969,
          0.04694167852062589,
          0.03058321479374111,
          0.014935988620199146,
          0.015647226173541962,
          0.009246088193456615,
          0.060455192034139404,
          0.0689900426742532,
          0.08250355618776671,
          0.013513513513513514,
          0.015647226173541962,
          0.012802275960170697,
          0.005689900426742532,
          0.006401137980085348,
          0.004978662873399715,
          0,
          0.02702702702702703,
          0.02702702702702703,
          0.016358463726884778,
          0.0035561877667140826,
          0.029871977240398292,
          0.010668563300142247,
          0.015647226173541962,
          0.007823613086770981,
          0.009246088193456615,
          0.007823613086770981
         ]
        }
       ],
       "layout": {
        "height": 1000,
        "legend": {
         "tracegroupgap": 0
        },
        "margin": {
         "t": 60
        },
        "scene": {
         "domain": {
          "x": [
           0,
           1
          ],
          "y": [
           0,
           1
          ]
         },
         "xaxis": {
          "title": {
           "text": "topic_corr"
          }
         },
         "yaxis": {
          "title": {
           "text": "pwmi"
          }
         },
         "zaxis": {
          "title": {
           "text": "p_ab"
          }
         }
        },
        "template": {
         "data": {
          "bar": [
           {
            "error_x": {
             "color": "#2a3f5f"
            },
            "error_y": {
             "color": "#2a3f5f"
            },
            "marker": {
             "line": {
              "color": "#E5ECF6",
              "width": 0.5
             }
            },
            "type": "bar"
           }
          ],
          "barpolar": [
           {
            "marker": {
             "line": {
              "color": "#E5ECF6",
              "width": 0.5
             }
            },
            "type": "barpolar"
           }
          ],
          "carpet": [
           {
            "aaxis": {
             "endlinecolor": "#2a3f5f",
             "gridcolor": "white",
             "linecolor": "white",
             "minorgridcolor": "white",
             "startlinecolor": "#2a3f5f"
            },
            "baxis": {
             "endlinecolor": "#2a3f5f",
             "gridcolor": "white",
             "linecolor": "white",
             "minorgridcolor": "white",
             "startlinecolor": "#2a3f5f"
            },
            "type": "carpet"
           }
          ],
          "choropleth": [
           {
            "colorbar": {
             "outlinewidth": 0,
             "ticks": ""
            },
            "type": "choropleth"
           }
          ],
          "contour": [
           {
            "colorbar": {
             "outlinewidth": 0,
             "ticks": ""
            },
            "colorscale": [
             [
              0,
              "#0d0887"
             ],
             [
              0.1111111111111111,
              "#46039f"
             ],
             [
              0.2222222222222222,
              "#7201a8"
             ],
             [
              0.3333333333333333,
              "#9c179e"
             ],
             [
              0.4444444444444444,
              "#bd3786"
             ],
             [
              0.5555555555555556,
              "#d8576b"
             ],
             [
              0.6666666666666666,
              "#ed7953"
             ],
             [
              0.7777777777777778,
              "#fb9f3a"
             ],
             [
              0.8888888888888888,
              "#fdca26"
             ],
             [
              1,
              "#f0f921"
             ]
            ],
            "type": "contour"
           }
          ],
          "contourcarpet": [
           {
            "colorbar": {
             "outlinewidth": 0,
             "ticks": ""
            },
            "type": "contourcarpet"
           }
          ],
          "heatmap": [
           {
            "colorbar": {
             "outlinewidth": 0,
             "ticks": ""
            },
            "colorscale": [
             [
              0,
              "#0d0887"
             ],
             [
              0.1111111111111111,
              "#46039f"
             ],
             [
              0.2222222222222222,
              "#7201a8"
             ],
             [
              0.3333333333333333,
              "#9c179e"
             ],
             [
              0.4444444444444444,
              "#bd3786"
             ],
             [
              0.5555555555555556,
              "#d8576b"
             ],
             [
              0.6666666666666666,
              "#ed7953"
             ],
             [
              0.7777777777777778,
              "#fb9f3a"
             ],
             [
              0.8888888888888888,
              "#fdca26"
             ],
             [
              1,
              "#f0f921"
             ]
            ],
            "type": "heatmap"
           }
          ],
          "heatmapgl": [
           {
            "colorbar": {
             "outlinewidth": 0,
             "ticks": ""
            },
            "colorscale": [
             [
              0,
              "#0d0887"
             ],
             [
              0.1111111111111111,
              "#46039f"
             ],
             [
              0.2222222222222222,
              "#7201a8"
             ],
             [
              0.3333333333333333,
              "#9c179e"
             ],
             [
              0.4444444444444444,
              "#bd3786"
             ],
             [
              0.5555555555555556,
              "#d8576b"
             ],
             [
              0.6666666666666666,
              "#ed7953"
             ],
             [
              0.7777777777777778,
              "#fb9f3a"
             ],
             [
              0.8888888888888888,
              "#fdca26"
             ],
             [
              1,
              "#f0f921"
             ]
            ],
            "type": "heatmapgl"
           }
          ],
          "histogram": [
           {
            "marker": {
             "colorbar": {
              "outlinewidth": 0,
              "ticks": ""
             }
            },
            "type": "histogram"
           }
          ],
          "histogram2d": [
           {
            "colorbar": {
             "outlinewidth": 0,
             "ticks": ""
            },
            "colorscale": [
             [
              0,
              "#0d0887"
             ],
             [
              0.1111111111111111,
              "#46039f"
             ],
             [
              0.2222222222222222,
              "#7201a8"
             ],
             [
              0.3333333333333333,
              "#9c179e"
             ],
             [
              0.4444444444444444,
              "#bd3786"
             ],
             [
              0.5555555555555556,
              "#d8576b"
             ],
             [
              0.6666666666666666,
              "#ed7953"
             ],
             [
              0.7777777777777778,
              "#fb9f3a"
             ],
             [
              0.8888888888888888,
              "#fdca26"
             ],
             [
              1,
              "#f0f921"
             ]
            ],
            "type": "histogram2d"
           }
          ],
          "histogram2dcontour": [
           {
            "colorbar": {
             "outlinewidth": 0,
             "ticks": ""
            },
            "colorscale": [
             [
              0,
              "#0d0887"
             ],
             [
              0.1111111111111111,
              "#46039f"
             ],
             [
              0.2222222222222222,
              "#7201a8"
             ],
             [
              0.3333333333333333,
              "#9c179e"
             ],
             [
              0.4444444444444444,
              "#bd3786"
             ],
             [
              0.5555555555555556,
              "#d8576b"
             ],
             [
              0.6666666666666666,
              "#ed7953"
             ],
             [
              0.7777777777777778,
              "#fb9f3a"
             ],
             [
              0.8888888888888888,
              "#fdca26"
             ],
             [
              1,
              "#f0f921"
             ]
            ],
            "type": "histogram2dcontour"
           }
          ],
          "mesh3d": [
           {
            "colorbar": {
             "outlinewidth": 0,
             "ticks": ""
            },
            "type": "mesh3d"
           }
          ],
          "parcoords": [
           {
            "line": {
             "colorbar": {
              "outlinewidth": 0,
              "ticks": ""
             }
            },
            "type": "parcoords"
           }
          ],
          "pie": [
           {
            "automargin": true,
            "type": "pie"
           }
          ],
          "scatter": [
           {
            "marker": {
             "colorbar": {
              "outlinewidth": 0,
              "ticks": ""
             }
            },
            "type": "scatter"
           }
          ],
          "scatter3d": [
           {
            "line": {
             "colorbar": {
              "outlinewidth": 0,
              "ticks": ""
             }
            },
            "marker": {
             "colorbar": {
              "outlinewidth": 0,
              "ticks": ""
             }
            },
            "type": "scatter3d"
           }
          ],
          "scattercarpet": [
           {
            "marker": {
             "colorbar": {
              "outlinewidth": 0,
              "ticks": ""
             }
            },
            "type": "scattercarpet"
           }
          ],
          "scattergeo": [
           {
            "marker": {
             "colorbar": {
              "outlinewidth": 0,
              "ticks": ""
             }
            },
            "type": "scattergeo"
           }
          ],
          "scattergl": [
           {
            "marker": {
             "colorbar": {
              "outlinewidth": 0,
              "ticks": ""
             }
            },
            "type": "scattergl"
           }
          ],
          "scattermapbox": [
           {
            "marker": {
             "colorbar": {
              "outlinewidth": 0,
              "ticks": ""
             }
            },
            "type": "scattermapbox"
           }
          ],
          "scatterpolar": [
           {
            "marker": {
             "colorbar": {
              "outlinewidth": 0,
              "ticks": ""
             }
            },
            "type": "scatterpolar"
           }
          ],
          "scatterpolargl": [
           {
            "marker": {
             "colorbar": {
              "outlinewidth": 0,
              "ticks": ""
             }
            },
            "type": "scatterpolargl"
           }
          ],
          "scatterternary": [
           {
            "marker": {
             "colorbar": {
              "outlinewidth": 0,
              "ticks": ""
             }
            },
            "type": "scatterternary"
           }
          ],
          "surface": [
           {
            "colorbar": {
             "outlinewidth": 0,
             "ticks": ""
            },
            "colorscale": [
             [
              0,
              "#0d0887"
             ],
             [
              0.1111111111111111,
              "#46039f"
             ],
             [
              0.2222222222222222,
              "#7201a8"
             ],
             [
              0.3333333333333333,
              "#9c179e"
             ],
             [
              0.4444444444444444,
              "#bd3786"
             ],
             [
              0.5555555555555556,
              "#d8576b"
             ],
             [
              0.6666666666666666,
              "#ed7953"
             ],
             [
              0.7777777777777778,
              "#fb9f3a"
             ],
             [
              0.8888888888888888,
              "#fdca26"
             ],
             [
              1,
              "#f0f921"
             ]
            ],
            "type": "surface"
           }
          ],
          "table": [
           {
            "cells": {
             "fill": {
              "color": "#EBF0F8"
             },
             "line": {
              "color": "white"
             }
            },
            "header": {
             "fill": {
              "color": "#C8D4E3"
             },
             "line": {
              "color": "white"
             }
            },
            "type": "table"
           }
          ]
         },
         "layout": {
          "annotationdefaults": {
           "arrowcolor": "#2a3f5f",
           "arrowhead": 0,
           "arrowwidth": 1
          },
          "autotypenumbers": "strict",
          "coloraxis": {
           "colorbar": {
            "outlinewidth": 0,
            "ticks": ""
           }
          },
          "colorscale": {
           "diverging": [
            [
             0,
             "#8e0152"
            ],
            [
             0.1,
             "#c51b7d"
            ],
            [
             0.2,
             "#de77ae"
            ],
            [
             0.3,
             "#f1b6da"
            ],
            [
             0.4,
             "#fde0ef"
            ],
            [
             0.5,
             "#f7f7f7"
            ],
            [
             0.6,
             "#e6f5d0"
            ],
            [
             0.7,
             "#b8e186"
            ],
            [
             0.8,
             "#7fbc41"
            ],
            [
             0.9,
             "#4d9221"
            ],
            [
             1,
             "#276419"
            ]
           ],
           "sequential": [
            [
             0,
             "#0d0887"
            ],
            [
             0.1111111111111111,
             "#46039f"
            ],
            [
             0.2222222222222222,
             "#7201a8"
            ],
            [
             0.3333333333333333,
             "#9c179e"
            ],
            [
             0.4444444444444444,
             "#bd3786"
            ],
            [
             0.5555555555555556,
             "#d8576b"
            ],
            [
             0.6666666666666666,
             "#ed7953"
            ],
            [
             0.7777777777777778,
             "#fb9f3a"
            ],
            [
             0.8888888888888888,
             "#fdca26"
            ],
            [
             1,
             "#f0f921"
            ]
           ],
           "sequentialminus": [
            [
             0,
             "#0d0887"
            ],
            [
             0.1111111111111111,
             "#46039f"
            ],
            [
             0.2222222222222222,
             "#7201a8"
            ],
            [
             0.3333333333333333,
             "#9c179e"
            ],
            [
             0.4444444444444444,
             "#bd3786"
            ],
            [
             0.5555555555555556,
             "#d8576b"
            ],
            [
             0.6666666666666666,
             "#ed7953"
            ],
            [
             0.7777777777777778,
             "#fb9f3a"
            ],
            [
             0.8888888888888888,
             "#fdca26"
            ],
            [
             1,
             "#f0f921"
            ]
           ]
          },
          "colorway": [
           "#636efa",
           "#EF553B",
           "#00cc96",
           "#ab63fa",
           "#FFA15A",
           "#19d3f3",
           "#FF6692",
           "#B6E880",
           "#FF97FF",
           "#FECB52"
          ],
          "font": {
           "color": "#2a3f5f"
          },
          "geo": {
           "bgcolor": "white",
           "lakecolor": "white",
           "landcolor": "#E5ECF6",
           "showlakes": true,
           "showland": true,
           "subunitcolor": "white"
          },
          "hoverlabel": {
           "align": "left"
          },
          "hovermode": "closest",
          "mapbox": {
           "style": "light"
          },
          "paper_bgcolor": "white",
          "plot_bgcolor": "#E5ECF6",
          "polar": {
           "angularaxis": {
            "gridcolor": "white",
            "linecolor": "white",
            "ticks": ""
           },
           "bgcolor": "#E5ECF6",
           "radialaxis": {
            "gridcolor": "white",
            "linecolor": "white",
            "ticks": ""
           }
          },
          "scene": {
           "xaxis": {
            "backgroundcolor": "#E5ECF6",
            "gridcolor": "white",
            "gridwidth": 2,
            "linecolor": "white",
            "showbackground": true,
            "ticks": "",
            "zerolinecolor": "white"
           },
           "yaxis": {
            "backgroundcolor": "#E5ECF6",
            "gridcolor": "white",
            "gridwidth": 2,
            "linecolor": "white",
            "showbackground": true,
            "ticks": "",
            "zerolinecolor": "white"
           },
           "zaxis": {
            "backgroundcolor": "#E5ECF6",
            "gridcolor": "white",
            "gridwidth": 2,
            "linecolor": "white",
            "showbackground": true,
            "ticks": "",
            "zerolinecolor": "white"
           }
          },
          "shapedefaults": {
           "line": {
            "color": "#2a3f5f"
           }
          },
          "ternary": {
           "aaxis": {
            "gridcolor": "white",
            "linecolor": "white",
            "ticks": ""
           },
           "baxis": {
            "gridcolor": "white",
            "linecolor": "white",
            "ticks": ""
           },
           "bgcolor": "#E5ECF6",
           "caxis": {
            "gridcolor": "white",
            "linecolor": "white",
            "ticks": ""
           }
          },
          "title": {
           "x": 0.05
          },
          "xaxis": {
           "automargin": true,
           "gridcolor": "white",
           "linecolor": "white",
           "ticks": "",
           "title": {
            "standoff": 15
           },
           "zerolinecolor": "white",
           "zerolinewidth": 2
          },
          "yaxis": {
           "automargin": true,
           "gridcolor": "white",
           "linecolor": "white",
           "ticks": "",
           "title": {
            "standoff": 15
           },
           "zerolinecolor": "white",
           "zerolinewidth": 2
          }
         }
        },
        "width": 1000
       }
      },
      "text/html": [
       "<div>                            <div id=\"e738e550-7e07-4982-a57f-b16e5b4c03a0\" class=\"plotly-graph-div\" style=\"height:1000px; width:1000px;\"></div>            <script type=\"text/javascript\">                require([\"plotly\"], function(Plotly) {                    window.PLOTLYENV=window.PLOTLYENV || {};                                    if (document.getElementById(\"e738e550-7e07-4982-a57f-b16e5b4c03a0\")) {                    Plotly.newPlot(                        \"e738e550-7e07-4982-a57f-b16e5b4c03a0\",                        [{\"hovertemplate\": \"topic_corr=%{x}<br>pwmi=%{y}<br>p_ab=%{z}<br>text=%{text}<extra></extra>\", \"legendgroup\": \"\", \"marker\": {\"color\": \"#636efa\", \"symbol\": \"circle\"}, \"mode\": \"markers+text\", \"name\": \"\", \"scene\": \"scene\", \"showlegend\": false, \"text\": [\"Bayesian models<br>French\", \"Bayesian models<br>MCMC\", \"Bayesian models<br>priors\", \"Bayesian models<br>economics\", \"Bayesian models<br>random effects\", \"Bayesian models<br>variable selection\", \"Bayesian models<br>empirical Bayes\", \"Bayesian models<br>env biology\", \"Bayesian models<br>genetics\", \"French<br>MCMC\", \"French<br>priors\", \"French<br>economics\", \"French<br>random effects\", \"French<br>variable selection\", \"French<br>empirical Bayes\", \"French<br>env biology\", \"French<br>genetics\", \"MCMC<br>priors\", \"MCMC<br>economics\", \"MCMC<br>random effects\", \"MCMC<br>variable selection\", \"MCMC<br>empirical Bayes\", \"MCMC<br>env biology\", \"MCMC<br>genetics\", \"priors<br>economics\", \"priors<br>random effects\", \"priors<br>variable selection\", \"priors<br>empirical Bayes\", \"priors<br>env biology\", \"priors<br>genetics\", \"economics<br>random effects\", \"economics<br>variable selection\", \"economics<br>empirical Bayes\", \"economics<br>env biology\", \"economics<br>genetics\", \"random effects<br>variable selection\", \"random effects<br>empirical Bayes\", \"random effects<br>env biology\", \"random effects<br>genetics\", \"variable selection<br>empirical Bayes\", \"variable selection<br>env biology\", \"variable selection<br>genetics\", \"empirical Bayes<br>env biology\", \"empirical Bayes<br>genetics\", \"env biology<br>genetics\"], \"type\": \"scatter3d\", \"x\": [-0.25722871026727173, 0.06932279117243882, -0.1428434346917322, -0.22405337523730323, 0.04580064363466916, -0.02779429119049809, -0.11409921945144434, -0.14806566468972132, -0.04976849579055492, -0.03420409926753905, -0.011071768480350592, -0.021987535073584676, -0.04025328281759514, -0.038201177839177446, -0.004167781938521485, -0.03918358401371071, -0.029538746834946904, -0.036569663651167844, -0.05511053336014839, -0.0006771798599856215, 0.016685991466135416, -0.05793950517998207, -0.0671803170870291, -0.012359600622219923, -0.06386299046547433, -0.00037820241031240483, 0.03823138823674001, 0.004493395376733325, -0.084086753379811, -0.051022477415077955, -0.03602968995552846, -0.038248552086337685, -0.039842258250135106, -0.03296867263219579, -0.028122120614867227, -0.004900570916930479, 0.015219497517104847, -0.034221986479646256, -0.0401986027029604, 0.09796590555113349, -0.013321423482292196, 0.0052502942810508674, -0.041498803516293536, 0.0019653335507033238, 0.0072416896633376955], \"y\": [2.754869835204651, 5.1768269128061295, 6.037733758590742, 7.0003215341657326, 6.82559029752733, 6.582583288775139, 6.613737921725899, 6.726410219062629, 6.81687195835372, 4.862190993099981, 11.95041065312742, -328.18788690177695, -11.368596186324437, -4.465714087376067, 6.686582810261927, -118.21304419853361, -43.2389565724625, 9.797724826170954, 7.56058539972653, 14.077896407442747, 14.159217892132391, 15.166968254100498, 15.738655277691997, 17.89664200345219, 15.566217132268934, 14.185797360990902, 13.44451151593899, 12.980478245845124, 16.334365858873575, 18.84817622924172, 28.18791380768503, 23.917770600950192, 25.799801039250415, 25.386915687149195, 0.0, 21.683297995764615, 21.81619532306798, 25.479393603530255, 15.84391780279227, 20.699268661050827, 25.362109158174697, 26.762922868327532, 24.542185724106858, 28.354478024182498, 30.254576472698123], \"z\": [0.0476529160739687, 0.24893314366998578, 0.35917496443812236, 0.06970128022759602, 0.1856330014224751, 0.1642958748221906, 0.1593172119487909, 0.09388335704125178, 0.05476529160739687, 0.010668563300142247, 0.020625889046941678, 0.0007112375533428165, 0.0035561877667140826, 0.004267425320056899, 0.005689900426742532, 0.001422475106685633, 0.0021337126600284497, 0.10668563300142248, 0.006401137980085348, 0.05547652916073969, 0.04694167852062589, 0.03058321479374111, 0.014935988620199146, 0.015647226173541962, 0.009246088193456615, 0.060455192034139404, 0.0689900426742532, 0.08250355618776671, 0.013513513513513514, 0.015647226173541962, 0.012802275960170697, 0.005689900426742532, 0.006401137980085348, 0.004978662873399715, 0.0, 0.02702702702702703, 0.02702702702702703, 0.016358463726884778, 0.0035561877667140826, 0.029871977240398292, 0.010668563300142247, 0.015647226173541962, 0.007823613086770981, 0.009246088193456615, 0.007823613086770981]}],                        {\"height\": 1000, \"legend\": {\"tracegroupgap\": 0}, \"margin\": {\"t\": 60}, \"scene\": {\"domain\": {\"x\": [0.0, 1.0], \"y\": [0.0, 1.0]}, \"xaxis\": {\"title\": {\"text\": \"topic_corr\"}}, \"yaxis\": {\"title\": {\"text\": \"pwmi\"}}, \"zaxis\": {\"title\": {\"text\": \"p_ab\"}}}, \"template\": {\"data\": {\"bar\": [{\"error_x\": {\"color\": \"#2a3f5f\"}, \"error_y\": {\"color\": \"#2a3f5f\"}, \"marker\": {\"line\": {\"color\": \"#E5ECF6\", \"width\": 0.5}}, \"type\": \"bar\"}], \"barpolar\": [{\"marker\": {\"line\": {\"color\": \"#E5ECF6\", \"width\": 0.5}}, \"type\": \"barpolar\"}], \"carpet\": [{\"aaxis\": {\"endlinecolor\": \"#2a3f5f\", \"gridcolor\": \"white\", \"linecolor\": \"white\", \"minorgridcolor\": \"white\", \"startlinecolor\": \"#2a3f5f\"}, \"baxis\": {\"endlinecolor\": \"#2a3f5f\", \"gridcolor\": \"white\", \"linecolor\": \"white\", \"minorgridcolor\": \"white\", \"startlinecolor\": \"#2a3f5f\"}, \"type\": \"carpet\"}], \"choropleth\": [{\"colorbar\": {\"outlinewidth\": 0, \"ticks\": \"\"}, \"type\": \"choropleth\"}], \"contour\": [{\"colorbar\": {\"outlinewidth\": 0, \"ticks\": \"\"}, \"colorscale\": [[0.0, \"#0d0887\"], [0.1111111111111111, \"#46039f\"], [0.2222222222222222, \"#7201a8\"], [0.3333333333333333, \"#9c179e\"], [0.4444444444444444, \"#bd3786\"], [0.5555555555555556, \"#d8576b\"], [0.6666666666666666, \"#ed7953\"], [0.7777777777777778, \"#fb9f3a\"], [0.8888888888888888, \"#fdca26\"], [1.0, \"#f0f921\"]], \"type\": \"contour\"}], \"contourcarpet\": [{\"colorbar\": {\"outlinewidth\": 0, \"ticks\": \"\"}, \"type\": \"contourcarpet\"}], \"heatmap\": [{\"colorbar\": {\"outlinewidth\": 0, \"ticks\": \"\"}, \"colorscale\": [[0.0, \"#0d0887\"], [0.1111111111111111, \"#46039f\"], [0.2222222222222222, \"#7201a8\"], [0.3333333333333333, \"#9c179e\"], [0.4444444444444444, \"#bd3786\"], [0.5555555555555556, \"#d8576b\"], [0.6666666666666666, \"#ed7953\"], [0.7777777777777778, \"#fb9f3a\"], [0.8888888888888888, \"#fdca26\"], [1.0, \"#f0f921\"]], \"type\": \"heatmap\"}], \"heatmapgl\": [{\"colorbar\": {\"outlinewidth\": 0, \"ticks\": \"\"}, \"colorscale\": [[0.0, \"#0d0887\"], [0.1111111111111111, \"#46039f\"], [0.2222222222222222, \"#7201a8\"], [0.3333333333333333, \"#9c179e\"], [0.4444444444444444, \"#bd3786\"], [0.5555555555555556, \"#d8576b\"], [0.6666666666666666, \"#ed7953\"], [0.7777777777777778, \"#fb9f3a\"], [0.8888888888888888, \"#fdca26\"], [1.0, \"#f0f921\"]], \"type\": \"heatmapgl\"}], \"histogram\": [{\"marker\": {\"colorbar\": {\"outlinewidth\": 0, \"ticks\": \"\"}}, \"type\": \"histogram\"}], \"histogram2d\": [{\"colorbar\": {\"outlinewidth\": 0, \"ticks\": \"\"}, \"colorscale\": [[0.0, \"#0d0887\"], [0.1111111111111111, \"#46039f\"], [0.2222222222222222, \"#7201a8\"], [0.3333333333333333, \"#9c179e\"], [0.4444444444444444, \"#bd3786\"], [0.5555555555555556, \"#d8576b\"], [0.6666666666666666, \"#ed7953\"], [0.7777777777777778, \"#fb9f3a\"], [0.8888888888888888, \"#fdca26\"], [1.0, \"#f0f921\"]], \"type\": \"histogram2d\"}], \"histogram2dcontour\": [{\"colorbar\": {\"outlinewidth\": 0, \"ticks\": \"\"}, \"colorscale\": [[0.0, \"#0d0887\"], [0.1111111111111111, \"#46039f\"], [0.2222222222222222, \"#7201a8\"], [0.3333333333333333, \"#9c179e\"], [0.4444444444444444, \"#bd3786\"], [0.5555555555555556, \"#d8576b\"], [0.6666666666666666, \"#ed7953\"], [0.7777777777777778, \"#fb9f3a\"], [0.8888888888888888, \"#fdca26\"], [1.0, \"#f0f921\"]], \"type\": \"histogram2dcontour\"}], \"mesh3d\": [{\"colorbar\": {\"outlinewidth\": 0, \"ticks\": \"\"}, \"type\": \"mesh3d\"}], \"parcoords\": [{\"line\": {\"colorbar\": {\"outlinewidth\": 0, \"ticks\": \"\"}}, \"type\": \"parcoords\"}], \"pie\": [{\"automargin\": true, \"type\": \"pie\"}], \"scatter\": [{\"marker\": {\"colorbar\": {\"outlinewidth\": 0, \"ticks\": \"\"}}, \"type\": \"scatter\"}], \"scatter3d\": [{\"line\": {\"colorbar\": {\"outlinewidth\": 0, \"ticks\": \"\"}}, \"marker\": {\"colorbar\": {\"outlinewidth\": 0, \"ticks\": \"\"}}, \"type\": \"scatter3d\"}], \"scattercarpet\": [{\"marker\": {\"colorbar\": {\"outlinewidth\": 0, \"ticks\": \"\"}}, \"type\": \"scattercarpet\"}], \"scattergeo\": [{\"marker\": {\"colorbar\": {\"outlinewidth\": 0, \"ticks\": \"\"}}, \"type\": \"scattergeo\"}], \"scattergl\": [{\"marker\": {\"colorbar\": {\"outlinewidth\": 0, \"ticks\": \"\"}}, \"type\": \"scattergl\"}], \"scattermapbox\": [{\"marker\": {\"colorbar\": {\"outlinewidth\": 0, \"ticks\": \"\"}}, \"type\": \"scattermapbox\"}], \"scatterpolar\": [{\"marker\": {\"colorbar\": {\"outlinewidth\": 0, \"ticks\": \"\"}}, \"type\": \"scatterpolar\"}], \"scatterpolargl\": [{\"marker\": {\"colorbar\": {\"outlinewidth\": 0, \"ticks\": \"\"}}, \"type\": \"scatterpolargl\"}], \"scatterternary\": [{\"marker\": {\"colorbar\": {\"outlinewidth\": 0, \"ticks\": \"\"}}, \"type\": \"scatterternary\"}], \"surface\": [{\"colorbar\": {\"outlinewidth\": 0, \"ticks\": \"\"}, \"colorscale\": [[0.0, \"#0d0887\"], [0.1111111111111111, \"#46039f\"], [0.2222222222222222, \"#7201a8\"], [0.3333333333333333, \"#9c179e\"], [0.4444444444444444, \"#bd3786\"], [0.5555555555555556, \"#d8576b\"], [0.6666666666666666, \"#ed7953\"], [0.7777777777777778, \"#fb9f3a\"], [0.8888888888888888, \"#fdca26\"], [1.0, \"#f0f921\"]], \"type\": \"surface\"}], \"table\": [{\"cells\": {\"fill\": {\"color\": \"#EBF0F8\"}, \"line\": {\"color\": \"white\"}}, \"header\": {\"fill\": {\"color\": \"#C8D4E3\"}, \"line\": {\"color\": \"white\"}}, \"type\": \"table\"}]}, \"layout\": {\"annotationdefaults\": {\"arrowcolor\": \"#2a3f5f\", \"arrowhead\": 0, \"arrowwidth\": 1}, \"autotypenumbers\": \"strict\", \"coloraxis\": {\"colorbar\": {\"outlinewidth\": 0, \"ticks\": \"\"}}, \"colorscale\": {\"diverging\": [[0, \"#8e0152\"], [0.1, \"#c51b7d\"], [0.2, \"#de77ae\"], [0.3, \"#f1b6da\"], [0.4, \"#fde0ef\"], [0.5, \"#f7f7f7\"], [0.6, \"#e6f5d0\"], [0.7, \"#b8e186\"], [0.8, \"#7fbc41\"], [0.9, \"#4d9221\"], [1, \"#276419\"]], \"sequential\": [[0.0, \"#0d0887\"], [0.1111111111111111, \"#46039f\"], [0.2222222222222222, \"#7201a8\"], [0.3333333333333333, \"#9c179e\"], [0.4444444444444444, \"#bd3786\"], [0.5555555555555556, \"#d8576b\"], [0.6666666666666666, \"#ed7953\"], [0.7777777777777778, \"#fb9f3a\"], [0.8888888888888888, \"#fdca26\"], [1.0, \"#f0f921\"]], \"sequentialminus\": [[0.0, \"#0d0887\"], [0.1111111111111111, \"#46039f\"], [0.2222222222222222, \"#7201a8\"], [0.3333333333333333, \"#9c179e\"], [0.4444444444444444, \"#bd3786\"], [0.5555555555555556, \"#d8576b\"], [0.6666666666666666, \"#ed7953\"], [0.7777777777777778, \"#fb9f3a\"], [0.8888888888888888, \"#fdca26\"], [1.0, \"#f0f921\"]]}, \"colorway\": [\"#636efa\", \"#EF553B\", \"#00cc96\", \"#ab63fa\", \"#FFA15A\", \"#19d3f3\", \"#FF6692\", \"#B6E880\", \"#FF97FF\", \"#FECB52\"], \"font\": {\"color\": \"#2a3f5f\"}, \"geo\": {\"bgcolor\": \"white\", \"lakecolor\": \"white\", \"landcolor\": \"#E5ECF6\", \"showlakes\": true, \"showland\": true, \"subunitcolor\": \"white\"}, \"hoverlabel\": {\"align\": \"left\"}, \"hovermode\": \"closest\", \"mapbox\": {\"style\": \"light\"}, \"paper_bgcolor\": \"white\", \"plot_bgcolor\": \"#E5ECF6\", \"polar\": {\"angularaxis\": {\"gridcolor\": \"white\", \"linecolor\": \"white\", \"ticks\": \"\"}, \"bgcolor\": \"#E5ECF6\", \"radialaxis\": {\"gridcolor\": \"white\", \"linecolor\": \"white\", \"ticks\": \"\"}}, \"scene\": {\"xaxis\": {\"backgroundcolor\": \"#E5ECF6\", \"gridcolor\": \"white\", \"gridwidth\": 2, \"linecolor\": \"white\", \"showbackground\": true, \"ticks\": \"\", \"zerolinecolor\": \"white\"}, \"yaxis\": {\"backgroundcolor\": \"#E5ECF6\", \"gridcolor\": \"white\", \"gridwidth\": 2, \"linecolor\": \"white\", \"showbackground\": true, \"ticks\": \"\", \"zerolinecolor\": \"white\"}, \"zaxis\": {\"backgroundcolor\": \"#E5ECF6\", \"gridcolor\": \"white\", \"gridwidth\": 2, \"linecolor\": \"white\", \"showbackground\": true, \"ticks\": \"\", \"zerolinecolor\": \"white\"}}, \"shapedefaults\": {\"line\": {\"color\": \"#2a3f5f\"}}, \"ternary\": {\"aaxis\": {\"gridcolor\": \"white\", \"linecolor\": \"white\", \"ticks\": \"\"}, \"baxis\": {\"gridcolor\": \"white\", \"linecolor\": \"white\", \"ticks\": \"\"}, \"bgcolor\": \"#E5ECF6\", \"caxis\": {\"gridcolor\": \"white\", \"linecolor\": \"white\", \"ticks\": \"\"}}, \"title\": {\"x\": 0.05}, \"xaxis\": {\"automargin\": true, \"gridcolor\": \"white\", \"linecolor\": \"white\", \"ticks\": \"\", \"title\": {\"standoff\": 15}, \"zerolinecolor\": \"white\", \"zerolinewidth\": 2}, \"yaxis\": {\"automargin\": true, \"gridcolor\": \"white\", \"linecolor\": \"white\", \"ticks\": \"\", \"title\": {\"standoff\": 15}, \"zerolinecolor\": \"white\", \"zerolinewidth\": 2}}}, \"width\": 1000},                        {\"responsive\": true}                    ).then(function(){\n",
       "                            \n",
       "var gd = document.getElementById('e738e550-7e07-4982-a57f-b16e5b4c03a0');\n",
       "var x = new MutationObserver(function (mutations, observer) {{\n",
       "        var display = window.getComputedStyle(gd).display;\n",
       "        if (!display || display === 'none') {{\n",
       "            console.log([gd, 'removed!']);\n",
       "            Plotly.purge(gd);\n",
       "            observer.disconnect();\n",
       "        }}\n",
       "}});\n",
       "\n",
       "// Listen for the removal of the full notebook cells\n",
       "var notebookContainer = gd.closest('#notebook-container');\n",
       "if (notebookContainer) {{\n",
       "    x.observe(notebookContainer, {childList: true});\n",
       "}}\n",
       "\n",
       "// Listen for the clearing of the current output cell\n",
       "var outputEl = gd.closest('.output');\n",
       "if (outputEl) {{\n",
       "    x.observe(outputEl, {childList: true});\n",
       "}}\n",
       "\n",
       "                        })                };                });            </script>        </div>"
      ]
     },
     "metadata": {},
     "output_type": "display_data"
    }
   ],
   "source": [
    "px.scatter_3d(topic_pairs, 'topic_corr', 'pwmi', 'p_ab', text=labels, height=1000, width=1000)"
   ]
  },
  {
   "cell_type": "code",
   "execution_count": null,
   "metadata": {},
   "outputs": [],
   "source": []
  }
 ],
 "metadata": {
  "kernelspec": {
   "display_name": "Python 3",
   "language": "python",
   "name": "python3"
  },
  "language_info": {
   "codemirror_mode": {
    "name": "ipython",
    "version": 3
   },
   "file_extension": ".py",
   "mimetype": "text/x-python",
   "name": "python",
   "nbconvert_exporter": "python",
   "pygments_lexer": "ipython3",
   "version": "3.8.8"
  },
  "latex_envs": {
   "LaTeX_envs_menu_present": true,
   "autoclose": false,
   "autocomplete": true,
   "bibliofile": "biblio.bib",
   "cite_by": "apalike",
   "current_citInitial": 1,
   "eqLabelWithNumbers": true,
   "eqNumInitial": 1,
   "hotkeys": {
    "equation": "Ctrl-E",
    "itemize": "Ctrl-I"
   },
   "labels_anchors": false,
   "latex_user_defs": false,
   "report_style_numbering": false,
   "user_envs_cfg": false
  },
  "toc": {
   "base_numbering": 1,
   "nav_menu": {},
   "number_sections": true,
   "sideBar": false,
   "skip_h1_title": false,
   "title_cell": "Table of Contents",
   "title_sidebar": "Contents",
   "toc_cell": false,
   "toc_position": {
    "height": "575px",
    "left": "124px",
    "top": "67.1333px",
    "width": "165px"
   },
   "toc_section_display": true,
   "toc_window_display": false
  },
  "varInspector": {
   "cols": {
    "lenName": 16,
    "lenType": 16,
    "lenVar": 40
   },
   "kernels_config": {
    "python": {
     "delete_cmd_postfix": "",
     "delete_cmd_prefix": "del ",
     "library": "var_list.py",
     "varRefreshCmd": "print(var_dic_list())"
    },
    "r": {
     "delete_cmd_postfix": ") ",
     "delete_cmd_prefix": "rm(",
     "library": "var_list.r",
     "varRefreshCmd": "cat(var_dic_list()) "
    }
   },
   "types_to_exclude": [
    "module",
    "function",
    "builtin_function_or_method",
    "instance",
    "_Feature"
   ],
   "window_display": false
  },
  "widgets": {
   "application/vnd.jupyter.widget-state+json": {
    "state": {},
    "version_major": 2,
    "version_minor": 0
   }
  }
 },
 "nbformat": 4,
 "nbformat_minor": 4
}
