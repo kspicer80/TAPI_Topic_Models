{
 "cells": [
  {
   "cell_type": "markdown",
   "metadata": {},
   "source": [
    "# Topic Contiguity \n",
    "\n",
    "Topic contiguity refers to the relationship of topics to each other in practice, not to their similarity. From the perspective of an associationist epistemology, contiguity is the opposite of similarity. Contiguous topics are those that co-occur frequently enough to suggest \"syndromes.\" For example, if the topics of genetic engineering and acquaculture are contiguous, this suggests an assemblage of practices relating to the application of a kind of knowledge to a specific industry. We use pointwise mutual information  to surface topic contiguity, similar to how this concept is used in association rule mining."
   ]
  },
  {
   "cell_type": "markdown",
   "metadata": {},
   "source": [
    "# Set Up"
   ]
  },
  {
   "cell_type": "markdown",
   "metadata": {},
   "source": [
    "## Imports"
   ]
  },
  {
   "cell_type": "code",
   "execution_count": null,
   "metadata": {},
   "outputs": [],
   "source": [
    "import pandas as pd\n",
    "import numpy as np\n",
    "from lib import tapi"
   ]
  },
  {
   "cell_type": "markdown",
   "metadata": {},
   "source": [
    "## Configuration"
   ]
  },
  {
   "cell_type": "code",
   "execution_count": null,
   "metadata": {},
   "outputs": [],
   "source": [
    "tapi.list_dbs()"
   ]
  },
  {
   "cell_type": "code",
   "execution_count": null,
   "metadata": {},
   "outputs": [],
   "source": [
    "data_prefix = 'jstor_hyperparameter_demo'\n",
    "topic_glosses = ['Bayesian models', 'French', 'MCMC', 'priors', 'economics', 'random effects', 'variable selection',\n",
    "                 'empirical Bayes', 'env biology', 'genetics']"
   ]
  },
  {
   "cell_type": "code",
   "execution_count": null,
   "metadata": {},
   "outputs": [],
   "source": [
    "# data_prefix = 'winereviews'\n",
    "# topic_glosses = []"
   ]
  },
  {
   "cell_type": "code",
   "execution_count": null,
   "metadata": {},
   "outputs": [],
   "source": [
    "# data_prefix = 'tamilnet'\n",
    "# topic_glosses = []"
   ]
  },
  {
   "cell_type": "markdown",
   "metadata": {},
   "source": [
    "## Import Topic Data\n",
    "\n",
    "We import our previously generated model."
   ]
  },
  {
   "cell_type": "code",
   "execution_count": null,
   "metadata": {},
   "outputs": [],
   "source": [
    "db = tapi.Edition(data_prefix)"
   ]
  },
  {
   "cell_type": "code",
   "execution_count": null,
   "metadata": {},
   "outputs": [],
   "source": [
    "db.get_tables()"
   ]
  },
  {
   "cell_type": "code",
   "execution_count": null,
   "metadata": {},
   "outputs": [],
   "source": [
    "if len(topic_glosses) > 0:\n",
    "    db.TOPICS_NMF['gloss'] = topic_glosses # THIS SHOULD BE DONE EARLIER IN THE PIPELINE\n",
    "else:\n",
    "    db.TOPICS_NMF['gloss'] = db.TOPICS_NMF.topwords.str.extract(r'^(.{20})')"
   ]
  },
  {
   "cell_type": "markdown",
   "metadata": {},
   "source": [
    "# Compute Contiguity"
   ]
  },
  {
   "cell_type": "markdown",
   "metadata": {},
   "source": [
    "## By Correlation"
   ]
  },
  {
   "cell_type": "markdown",
   "metadata": {},
   "source": [
    "### Create Topic Pairs"
   ]
  },
  {
   "cell_type": "code",
   "execution_count": null,
   "metadata": {},
   "outputs": [],
   "source": [
    "topic_pairs = db.THETA_NMF.corr().stack().to_frame('topic_corr')\n",
    "topic_pairs.index.names = ['t1', 't2']\n",
    "topic_pairs = topic_pairs.loc[topic_pairs.apply(lambda x: x.name[0] < x.name[1], 1)]\n",
    "\n",
    "topic_pairs['z_score'] = (topic_pairs.topic_corr - topic_pairs.topic_corr.mean()) / topic_pairs.topic_corr.std()\n",
    "topic_pairs['t1_gloss'] = topic_pairs.apply(lambda x: db.TOPICS_NMF.loc[x.name[0]].gloss, 1)\n",
    "topic_pairs['t2_gloss'] = topic_pairs.apply(lambda x: db.TOPICS_NMF.loc[x.name[1]].gloss, 1)"
   ]
  },
  {
   "cell_type": "code",
   "execution_count": null,
   "metadata": {
    "scrolled": false
   },
   "outputs": [],
   "source": [
    "topic_pairs.sort_values('topic_corr', ascending=False).head(10)"
   ]
  },
  {
   "cell_type": "code",
   "execution_count": null,
   "metadata": {
    "scrolled": false
   },
   "outputs": [],
   "source": [
    "topic_pairs.reset_index().set_index(['t1_gloss','t2_gloss']).topic_corr.sort_values()\\\n",
    "    .plot.barh(figsize=(5, db.n_topics * 2), legend=False);"
   ]
  },
  {
   "cell_type": "markdown",
   "metadata": {},
   "source": [
    "### View Network"
   ]
  },
  {
   "cell_type": "code",
   "execution_count": null,
   "metadata": {},
   "outputs": [],
   "source": [
    "import pydot\n",
    "from IPython.display import SVG, display"
   ]
  },
  {
   "cell_type": "code",
   "execution_count": null,
   "metadata": {},
   "outputs": [],
   "source": [
    "def show_graph(quantile=.5, measure='topic_corr'):\n",
    "    \n",
    "    thresh = topic_pairs[measure].quantile(quantile)\n",
    "    \n",
    "    graph = pydot.Dot('topic_graph', graph_type='graph')\n",
    "\n",
    "    nodes = []\n",
    "    for i in topic_pairs[topic_pairs[measure] >= thresh].index:\n",
    "\n",
    "        nodes.append(i[0])\n",
    "        nodes.append(i[1])\n",
    "\n",
    "        m = topic_pairs.loc[i][measure].round(2)    \n",
    "        graph.add_edge(pydot.Edge(i[0], i[1], \n",
    "                                  label=m, \n",
    "                                  color='lightgray', \n",
    "                                  fontsize=10, \n",
    "                                  fontcolor='green',\n",
    "                                  fontname='Arial'))\n",
    "\n",
    "    for node in list(set(nodes)):\n",
    "        node_gloss = 'T' + str(node) + \": \" + db.TOPICS_NMF.loc[node, 'gloss']\n",
    "        graph.add_node(pydot.Node(node, \n",
    "                                  label=node_gloss, \n",
    "                                  shape='plain', \n",
    "                                  fontname='Arial'))\n",
    "\n",
    "    display(SVG(graph.create_svg()))"
   ]
  },
  {
   "cell_type": "code",
   "execution_count": null,
   "metadata": {},
   "outputs": [],
   "source": [
    "show_graph(.9)"
   ]
  },
  {
   "cell_type": "markdown",
   "metadata": {},
   "source": [
    "## By Mutual Information"
   ]
  },
  {
   "cell_type": "markdown",
   "metadata": {},
   "source": [
    "### Compute Marginal Probabilities"
   ]
  },
  {
   "cell_type": "code",
   "execution_count": null,
   "metadata": {},
   "outputs": [],
   "source": [
    "# db.TOPICS_NMF['p'] = db.THETA_NMF.sum() / db.THETA_NMF.sum().sum()"
   ]
  },
  {
   "cell_type": "code",
   "execution_count": null,
   "metadata": {},
   "outputs": [],
   "source": [
    "db.TOPICS_NMF['p'] = db.PHI_NMF.T.sum() / db.PHI_NMF.T.sum().sum()"
   ]
  },
  {
   "cell_type": "markdown",
   "metadata": {},
   "source": [
    "### Compute Joint Probabilities"
   ]
  },
  {
   "cell_type": "code",
   "execution_count": null,
   "metadata": {},
   "outputs": [],
   "source": [
    "tw_thresh = 0"
   ]
  },
  {
   "cell_type": "code",
   "execution_count": null,
   "metadata": {},
   "outputs": [],
   "source": [
    "N = db.THETA_NMF.shape[0]"
   ]
  },
  {
   "cell_type": "code",
   "execution_count": null,
   "metadata": {},
   "outputs": [],
   "source": [
    "topic_pairs['p_ab'] = topic_pairs.apply(lambda x: \n",
    "                                        db.THETA_NMF[(db.THETA_NMF[x.name[0]] > tw_thresh) \n",
    "                                        & (db.THETA_NMF[x.name[1]] > tw_thresh)].shape[0] / N, 1)"
   ]
  },
  {
   "cell_type": "code",
   "execution_count": null,
   "metadata": {},
   "outputs": [],
   "source": [
    "topic_pairs.sort_values('p_ab', ascending=False).head(10)"
   ]
  },
  {
   "cell_type": "markdown",
   "metadata": {},
   "source": [
    "### Compute PWMI\n",
    "\n",
    "\n",
    "**From Bouma:**\n",
    "\n",
    "\"Pointwise  mutual  information  (PMI,  5)  is  a  measure  of  how  much  the  actual probability of a particular co-occurrence of events $p(x, y)$ differs from what we would expect it to be on the basis of the probabilities of the individual events and the assumption of independence $p(x)$ $p(y)$.\"\n",
    "\n",
    "[Bouma, Gerlof (2009). \"Normalized (Pointwise) Mutual Information in Collocation Extraction.\" _Proceedings of the Biennial GSCL Conference_.](https://svn.spraakdata.gu.se/repos/gerlof/pub/www/Docs/npmi-pfd.pdf)\n",
    "\n",
    "**From Raviv:**\n",
    "\n",
    "\"The pointwise mutual information can be understood as a scaled conditional probability.\"\n",
    "\n",
    "\"Pointwise mutual information measure is not confined to the $[0,1]$ range. So here we explain how to interpret a zero, a positive or, as it is in our case, a negative number. The case where $PMI=0$ is trivial. It occurs for $log(1) =0$ and it means that $p(x,y) = p(x)p(y)$ which tells us that $x$ and $y$ are independents. If the number is positive it means that the two events co-occuring in a frequency higher than what we would expect if they would be independent event. Why? because $p(y \\vert x) \\times \\frac{1}{p(x)}$ (or equivalently $p(x \\vert y) \\times \\frac{1}{p(y)})$ is larger than $1$ (if it’s smaller than $1$, the log is negative). In our case the number is lower than one, meaning $p(y \\vert x) < p(x)$ which means we see more of $X=x$ than we see $y$ given that $X=x$. \n",
    "\n",
    "https://eranraviv.com/understanding-pointwise-mutual-information-in-statistics/"
   ]
  },
  {
   "cell_type": "code",
   "execution_count": null,
   "metadata": {},
   "outputs": [],
   "source": [
    "import math"
   ]
  },
  {
   "cell_type": "code",
   "execution_count": null,
   "metadata": {},
   "outputs": [],
   "source": [
    "def pwmi(p_a, p_b, p_ab):\n",
    "    \"\"\"Computes the adjusted point-wise mutual information of two items (a and b)\n",
    "    that appear in container vectors of some kind, e.g. items in a shopping\n",
    "    basket.\"\"\"\n",
    "\n",
    "    if p_ab > 0:\n",
    "        pmi_ab = math.log2(p_ab / (p_a * p_b))  # Raw\n",
    "        i = math.log2(1/p_ab)                   # Surprise (info) \n",
    "        h = p_ab * i                            # Entropy\n",
    "#         apmi_ab = pmi_ab / h                    # Adjusted\n",
    "        npmi_ab = pmi_ab / i                    # Normalized\n",
    "    else:\n",
    "#         apmi_ab = 0\n",
    "        npmi_ab = 0\n",
    "\n",
    "    return npmi_ab"
   ]
  },
  {
   "cell_type": "code",
   "execution_count": null,
   "metadata": {},
   "outputs": [],
   "source": [
    "topic_pairs['pwmi'] = topic_pairs.apply(lambda x: pwmi(db.TOPICS_NMF.loc[x.name[0]].p, \n",
    "                                                       db.TOPICS_NMF.loc[x.name[1]].p,\n",
    "                                                      x.p_ab), 1)"
   ]
  },
  {
   "cell_type": "code",
   "execution_count": null,
   "metadata": {
    "scrolled": false
   },
   "outputs": [],
   "source": [
    "topic_pairs.sort_values('pwmi', ascending=False).head(10)"
   ]
  },
  {
   "cell_type": "code",
   "execution_count": null,
   "metadata": {
    "scrolled": false
   },
   "outputs": [],
   "source": [
    "show_graph(.75, 'pwmi')"
   ]
  },
  {
   "cell_type": "markdown",
   "metadata": {},
   "source": [
    "## Compare Contiguity Measures"
   ]
  },
  {
   "cell_type": "code",
   "execution_count": null,
   "metadata": {},
   "outputs": [],
   "source": [
    "import plotly_express as px"
   ]
  },
  {
   "cell_type": "code",
   "execution_count": null,
   "metadata": {},
   "outputs": [],
   "source": [
    "labels = topic_pairs[['t1_gloss','t2_gloss']].apply(lambda x: '<br>'.join(x), 1)"
   ]
  },
  {
   "cell_type": "code",
   "execution_count": null,
   "metadata": {},
   "outputs": [],
   "source": [
    "px.scatter(topic_pairs, 'topic_corr', 'pwmi', size='p_ab', text=labels, height=1000, width=1000)"
   ]
  },
  {
   "cell_type": "code",
   "execution_count": null,
   "metadata": {},
   "outputs": [],
   "source": [
    "px.scatter_3d(topic_pairs, 'topic_corr', 'pwmi', 'p_ab', text=labels, height=1000, width=1000)"
   ]
  },
  {
   "cell_type": "code",
   "execution_count": null,
   "metadata": {},
   "outputs": [],
   "source": []
  }
 ],
 "metadata": {
  "kernelspec": {
   "display_name": "Python 3",
   "language": "python",
   "name": "python3"
  },
  "language_info": {
   "codemirror_mode": {
    "name": "ipython",
    "version": 3
   },
   "file_extension": ".py",
   "mimetype": "text/x-python",
   "name": "python",
   "nbconvert_exporter": "python",
   "pygments_lexer": "ipython3",
   "version": "3.8.8"
  },
  "latex_envs": {
   "LaTeX_envs_menu_present": true,
   "autoclose": false,
   "autocomplete": true,
   "bibliofile": "biblio.bib",
   "cite_by": "apalike",
   "current_citInitial": 1,
   "eqLabelWithNumbers": true,
   "eqNumInitial": 1,
   "hotkeys": {
    "equation": "Ctrl-E",
    "itemize": "Ctrl-I"
   },
   "labels_anchors": false,
   "latex_user_defs": false,
   "report_style_numbering": false,
   "user_envs_cfg": false
  },
  "toc": {
   "base_numbering": 1,
   "nav_menu": {},
   "number_sections": true,
   "sideBar": true,
   "skip_h1_title": false,
   "title_cell": "Table of Contents",
   "title_sidebar": "Contents",
   "toc_cell": false,
   "toc_position": {
    "height": "100px",
    "left": "1143px",
    "top": "178.133px",
    "width": "165px"
   },
   "toc_section_display": true,
   "toc_window_display": true
  },
  "varInspector": {
   "cols": {
    "lenName": 16,
    "lenType": 16,
    "lenVar": 40
   },
   "kernels_config": {
    "python": {
     "delete_cmd_postfix": "",
     "delete_cmd_prefix": "del ",
     "library": "var_list.py",
     "varRefreshCmd": "print(var_dic_list())"
    },
    "r": {
     "delete_cmd_postfix": ") ",
     "delete_cmd_prefix": "rm(",
     "library": "var_list.r",
     "varRefreshCmd": "cat(var_dic_list()) "
    }
   },
   "types_to_exclude": [
    "module",
    "function",
    "builtin_function_or_method",
    "instance",
    "_Feature"
   ],
   "window_display": false
  },
  "widgets": {
   "application/vnd.jupyter.widget-state+json": {
    "state": {},
    "version_major": 2,
    "version_minor": 0
   }
  }
 },
 "nbformat": 4,
 "nbformat_minor": 4
}
