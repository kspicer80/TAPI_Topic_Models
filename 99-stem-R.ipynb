{
 "cells": [
  {
   "cell_type": "markdown",
   "id": "0e14f220",
   "metadata": {},
   "source": [
    "# Set Up"
   ]
  },
  {
   "cell_type": "code",
   "execution_count": 1,
   "id": "584baa75",
   "metadata": {},
   "outputs": [
    {
     "name": "stderr",
     "output_type": "stream",
     "text": [
      "stm v1.3.6 successfully loaded. See ?stm for help. \n",
      " Papers, resources, and other materials at structuraltopicmodel.com\n",
      "\n",
      "\n",
      "Attaching package: ‘igraph’\n",
      "\n",
      "\n",
      "The following objects are masked from ‘package:stats’:\n",
      "\n",
      "    decompose, spectrum\n",
      "\n",
      "\n",
      "The following object is masked from ‘package:base’:\n",
      "\n",
      "    union\n",
      "\n",
      "\n"
     ]
    }
   ],
   "source": [
    "library(stm)\n",
    "library(igraph)\n",
    "library(stmCorrViz)"
   ]
  },
  {
   "cell_type": "markdown",
   "id": "eeb4dffe",
   "metadata": {},
   "source": [
    "# Config"
   ]
  },
  {
   "cell_type": "code",
   "execution_count": 2,
   "id": "d39be1d1",
   "metadata": {},
   "outputs": [],
   "source": [
    "src_file = \"./experimental/data/poliblogs2008.csv\"\n",
    "obj_file = \"./experimental/data/VignetteObjects.RData\"\n",
    "doc_col = 'documents'"
   ]
  },
  {
   "cell_type": "markdown",
   "id": "e3424944",
   "metadata": {},
   "source": [
    "# Ingest"
   ]
  },
  {
   "cell_type": "code",
   "execution_count": 3,
   "id": "04dd5c16",
   "metadata": {},
   "outputs": [],
   "source": [
    "data <- read.csv(src_file) \n",
    "load(obj_file) # Needed?"
   ]
  },
  {
   "cell_type": "code",
   "execution_count": null,
   "id": "992f7c5b",
   "metadata": {},
   "outputs": [],
   "source": [
    "# data"
   ]
  },
  {
   "cell_type": "markdown",
   "id": "d16cfcfb",
   "metadata": {},
   "source": [
    "# Prepare"
   ]
  },
  {
   "cell_type": "code",
   "execution_count": null,
   "id": "f8130d13",
   "metadata": {},
   "outputs": [],
   "source": [
    "processed <- textProcessor(data$documents, metadata=data)\n",
    "out <- prepDocuments(processed$documents, processed$vocab, processed$meta)"
   ]
  },
  {
   "cell_type": "code",
   "execution_count": null,
   "id": "bf9cd6d7",
   "metadata": {},
   "outputs": [],
   "source": [
    "token = out$documents\n",
    "vocab = out$vocab\n",
    "meta = out$meta"
   ]
  },
  {
   "cell_type": "code",
   "execution_count": null,
   "id": "00a08992",
   "metadata": {},
   "outputs": [],
   "source": [
    "plotRemoved(processed$documents, lower.thresh=seq(1,200, by=100))\n",
    "\n",
    "# ESTIMATE\n",
    "\n",
    "poliblogPrevFit <- stm(out$documents, \n",
    "                       out$vocab, \n",
    "                       K=20, \n",
    "                       prevalence=~rating+s(day), \n",
    "                       max.em.its=75,\n",
    "                       data=out$meta, \n",
    "                       init.type=\"Spectral\", \n",
    "                       seed=8458159)\n",
    "plot(poliblogPrevFit, type=\"summary\", xlim=c(0,.4))\n",
    "plot(poliblogPrevFit, type=\"labels\", topics=c(3,7,20))\n",
    "plot(poliblogPrevFit, type=\"hist\")\n",
    "plot(poliblogPrevFit, type=\"perspectives\", topics=c(7,10))\n",
    "\n",
    "# EVALUATE\n",
    "\n",
    "poliblogSelect <- selectModel(out$documents, out$vocab, K=20, prevalence=~rating+s(day),\n",
    "                              max.em.its=75, data=meta, runs=20, seed=8458159)\n",
    "plotModels(poliblogSelect)\n",
    "topicQuality(model=poliblogPrevFit, documents=docs)\n",
    "selectedModel3 <- poliblogSelect$runout[[3]] # Choose model #3\n",
    "storage <- manyTopics(out$documents, out$vocab, K=c(7:10), prevalence=~rating+s(day),\n",
    "                      data=meta, runs=10)\n",
    "storageOutput1 <- storage$out[[1]] # For example, choosing the model with 7 topics\n",
    "plot(storageOutput1)\n",
    "\n",
    "kResult <- searchK(out$documents, out$vocab, K=c(7,10), prevalence=~rating+s(day),\n",
    "                   data=meta)\n",
    "plot(kResult)\n",
    "\n",
    "# UNDERSTAND\n",
    "\n",
    "labelTopicsSel <- labelTopics(poliblogPrevFit, c(3,7,20))\n",
    "print(sageLabels(poliblogPrevFit))\n",
    "thoughts3 <- findThoughts(poliblogPrevFit, texts=shortdoc, n=3, topics=3)$docs[[1]]\n",
    "plotQuote(thoughts3, width=40, main=\"Topic 3\")\n",
    "out$meta$rating <- as.factor(out$meta$rating)\n",
    "prep <- estimateEffect(1:20 ~ rating+s(day), poliblogPrevFit, meta=out$meta, \n",
    "                       uncertainty=\"Global\")\n",
    "plot(prep, covariate=\"rating\", topics=c(3, 7, 20), model=poliblogPrevFit, \n",
    "     method=\"difference\", cov.value1=\"Liberal\", cov.value2=\"Conservative\",\n",
    "     xlab=\"More Conservative ... More Liberal\", main=\"Effect of Liberal vs. Conservative\",\n",
    "     xlim=c(-.15,.15), labeltype =\"custom\", custom.labels=c('Obama', 'Sarah Palin', \n",
    "                                                            'Bush Presidency'))\n",
    "plot(prep, \"day\", method=\"continuous\", topics=20, model=z, printlegend=FALSE, xaxt=\"n\", \n",
    "     xlab=\"Time (2008)\")\n",
    "monthseq <- seq(from=as.Date(\"2008-01-01\"), to=as.Date(\"2008-12-01\"), by=\"month\")\n",
    "monthnames <- months(monthseq)\n",
    "axis(1, at=as.numeric(monthseq)-min(as.numeric(monthseq)), labels=monthnames)\n",
    "mod.out.corr <- topicCorr(poliblogPrevFit)\n",
    "plot(mod.out.corr)\n",
    "\n",
    "# VISUALIZE\n",
    "\n",
    "poliblogContent <- stm(out$documents, out$vocab, K=20, prevalence=~rating+s(day), \n",
    "                       content=~rating, max.em.its=75, data=out$meta, \n",
    "                       init.type=\"Spectral\", seed=8458159)\n",
    "\n",
    "plot(poliblogContent, type=\"perspectives\", topics=7)\n",
    "\n",
    "cloud(poliblogContent, topic=7)\n",
    "\n",
    "poliblogInteraction <- stm(out$documents, out$vocab, K=20, prevalence=~rating*day, \n",
    "                           max.em.its=75, data=out$meta, seed=8458159)\n",
    "\n",
    "prep2 <- estimateEffect(c(20) ~ rating*day, poliblogInteraction, metadata=out$meta, \n",
    "                        uncertainty=\"None\")\n",
    "plot(prep2, covariate=\"day\", model=poliblogInteraction, method=\"continuous\", xlab=\"Days\",\n",
    "     moderator=\"rating\", moderator.value=\"Liberal\", linecol=\"blue\", ylim=c(0,0.12), \n",
    "     printlegend=F)\n",
    "plot(prep2, covariate=\"day\", model=poliblogInteraction, method=\"continuous\", xlab=\"Days\",\n",
    "     moderator=\"rating\", moderator.value=\"Conservative\", linecol=\"red\", add=T,\n",
    "     printlegend=F)\n",
    "legend(0,0.12, c(\"Liberal\", \"Conservative\"), lwd=2, col=c(\"blue\", \"red\"))\n",
    "plot(poliblogPrevFit$convergence$bound, type=\"l\", ylab=\"Approximate Objective\", \n",
    "     main=\"Convergence\")\n",
    "stmCorrViz(poliblogPrevFit, \"stm-interactive-correlation.html\", \n",
    "           documents_raw=data$documents, documents_matrix=out$documents)\n",
    "\n",
    "\n",
    "\n",
    "###############################################################\n",
    "\n",
    "### WINE REVIEWS\n",
    "corpus = read.csv('./corpora//winereviews-tapi.csv', sep = '|')\n",
    "edition <- textProcessor(corpus$doc_content, metadata=corpus)\n",
    "out <- prepDocuments(processed$documents, processed$vocab, processed$meta)"
   ]
  }
 ],
 "metadata": {
  "kernelspec": {
   "display_name": "R",
   "language": "R",
   "name": "ir"
  },
  "language_info": {
   "codemirror_mode": "r",
   "file_extension": ".r",
   "mimetype": "text/x-r-source",
   "name": "R",
   "pygments_lexer": "r",
   "version": "4.0.2"
  },
  "latex_envs": {
   "LaTeX_envs_menu_present": true,
   "autoclose": false,
   "autocomplete": true,
   "bibliofile": "biblio.bib",
   "cite_by": "apalike",
   "current_citInitial": 1,
   "eqLabelWithNumbers": true,
   "eqNumInitial": 1,
   "hotkeys": {
    "equation": "Ctrl-E",
    "itemize": "Ctrl-I"
   },
   "labels_anchors": false,
   "latex_user_defs": false,
   "report_style_numbering": false,
   "user_envs_cfg": false
  },
  "toc": {
   "base_numbering": 1,
   "nav_menu": {},
   "number_sections": true,
   "sideBar": true,
   "skip_h1_title": false,
   "title_cell": "Table of Contents",
   "title_sidebar": "Contents",
   "toc_cell": false,
   "toc_position": {},
   "toc_section_display": true,
   "toc_window_display": true
  },
  "varInspector": {
   "cols": {
    "lenName": 16,
    "lenType": 16,
    "lenVar": 40
   },
   "kernels_config": {
    "python": {
     "delete_cmd_postfix": "",
     "delete_cmd_prefix": "del ",
     "library": "var_list.py",
     "varRefreshCmd": "print(var_dic_list())"
    },
    "r": {
     "delete_cmd_postfix": ") ",
     "delete_cmd_prefix": "rm(",
     "library": "var_list.r",
     "varRefreshCmd": "cat(var_dic_list()) "
    }
   },
   "types_to_exclude": [
    "module",
    "function",
    "builtin_function_or_method",
    "instance",
    "_Feature"
   ],
   "window_display": false
  }
 },
 "nbformat": 4,
 "nbformat_minor": 5
}
