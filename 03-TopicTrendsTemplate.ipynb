{
 "cells": [
  {
   "cell_type": "markdown",
   "metadata": {},
   "source": [
    "# Topic Model Trends &mdash; TEMPLATE\n",
    "\n",
    "In this notebook we visualize a previously generated topic model. Use a model that has a time-based label, such as year."
   ]
  },
  {
   "cell_type": "markdown",
   "metadata": {},
   "source": [
    "# Set Up"
   ]
  },
  {
   "cell_type": "markdown",
   "metadata": {},
   "source": [
    "## Imports"
   ]
  },
  {
   "cell_type": "code",
   "execution_count": 1,
   "metadata": {},
   "outputs": [],
   "source": [
    "import pandas as pd\n",
    "import numpy as np\n",
    "from lib import tapi"
   ]
  },
  {
   "cell_type": "markdown",
   "metadata": {},
   "source": [
    "## Import Topic Data and Configure\n",
    "\n",
    "We import a previously generated model."
   ]
  },
  {
   "cell_type": "code",
   "execution_count": 2,
   "metadata": {
    "scrolled": true
   },
   "outputs": [
    {
     "data": {
      "text/plain": [
       "['anphoblacht',\n",
       " 'jstor_hyperparameter',\n",
       " 'jstor_hyperparameter_demo',\n",
       " 'okcupid',\n",
       " 'tamilnet',\n",
       " 'winereviews']"
      ]
     },
     "execution_count": 2,
     "metadata": {},
     "output_type": "execute_result"
    }
   ],
   "source": [
    "tapi.list_dbs() "
   ]
  },
  {
   "cell_type": "code",
   "execution_count": 3,
   "metadata": {},
   "outputs": [],
   "source": [
    "data_prefix = 'winereviews'   # INSERT YOUR PREFIX FROM A PREVIOUS OUTPUT"
   ]
  },
  {
   "cell_type": "code",
   "execution_count": 4,
   "metadata": {},
   "outputs": [],
   "source": [
    "db = tapi.Edition(data_prefix)"
   ]
  },
  {
   "cell_type": "code",
   "execution_count": 5,
   "metadata": {
    "scrolled": false
   },
   "outputs": [
    {
     "name": "stdout",
     "output_type": "stream",
     "text": [
      "LABELS\n",
      "VOCAB\n",
      "BOW\n",
      "TOPICS\n",
      "DTM\n",
      "THETA\n",
      "PHI\n",
      "TOPICS_NMF\n",
      "THETA_NMF\n",
      "PHI_NMF\n"
     ]
    }
   ],
   "source": [
    "db.get_tables()"
   ]
  },
  {
   "cell_type": "code",
   "execution_count": 6,
   "metadata": {
    "scrolled": false
   },
   "outputs": [],
   "source": [
    "labels = db.get_labels()"
   ]
  },
  {
   "cell_type": "code",
   "execution_count": 7,
   "metadata": {},
   "outputs": [
    {
     "data": {
      "text/html": [
       "<div>\n",
       "<style scoped>\n",
       "    .dataframe tbody tr th:only-of-type {\n",
       "        vertical-align: middle;\n",
       "    }\n",
       "\n",
       "    .dataframe tbody tr th {\n",
       "        vertical-align: top;\n",
       "    }\n",
       "\n",
       "    .dataframe thead th {\n",
       "        text-align: right;\n",
       "    }\n",
       "</style>\n",
       "<table border=\"1\" class=\"dataframe\">\n",
       "  <thead>\n",
       "    <tr style=\"text-align: right;\">\n",
       "      <th></th>\n",
       "      <th>n</th>\n",
       "    </tr>\n",
       "    <tr>\n",
       "      <th>label_name</th>\n",
       "      <th></th>\n",
       "    </tr>\n",
       "  </thead>\n",
       "  <tbody>\n",
       "    <tr>\n",
       "      <th>doc_points</th>\n",
       "      <td>21</td>\n",
       "    </tr>\n",
       "    <tr>\n",
       "      <th>doc_label</th>\n",
       "      <td>34</td>\n",
       "    </tr>\n",
       "    <tr>\n",
       "      <th>doc_place</th>\n",
       "      <td>936</td>\n",
       "    </tr>\n",
       "    <tr>\n",
       "      <th>doc_taster</th>\n",
       "      <td>18</td>\n",
       "    </tr>\n",
       "    <tr>\n",
       "      <th>doc_province</th>\n",
       "      <td>238</td>\n",
       "    </tr>\n",
       "    <tr>\n",
       "      <th>doc_price</th>\n",
       "      <td>181</td>\n",
       "    </tr>\n",
       "    <tr>\n",
       "      <th>doc_title</th>\n",
       "      <td>9935</td>\n",
       "    </tr>\n",
       "    <tr>\n",
       "      <th>doc_variety</th>\n",
       "      <td>346</td>\n",
       "    </tr>\n",
       "  </tbody>\n",
       "</table>\n",
       "</div>"
      ],
      "text/plain": [
       "                 n\n",
       "label_name        \n",
       "doc_points      21\n",
       "doc_label       34\n",
       "doc_place      936\n",
       "doc_taster      18\n",
       "doc_province   238\n",
       "doc_price      181\n",
       "doc_title     9935\n",
       "doc_variety    346"
      ]
     },
     "execution_count": 7,
     "metadata": {},
     "output_type": "execute_result"
    }
   ],
   "source": [
    "labels"
   ]
  },
  {
   "cell_type": "code",
   "execution_count": 8,
   "metadata": {},
   "outputs": [],
   "source": [
    "doc_label = 'doc_points' # PICK YOUR LABEL"
   ]
  },
  {
   "cell_type": "code",
   "execution_count": 9,
   "metadata": {
    "scrolled": true
   },
   "outputs": [
    {
     "data": {
      "text/plain": [
       "['0 nose, fruit, palate, shows, bottling, aromas, flavors',\n",
       " '1 fruit, wine, flavors, stone, stone fruit, aromas, blend',\n",
       " '2 ripe, acidity, fruit, wine, bright, flavors, drink',\n",
       " '3 wine, drink, acidity, fruits, ripe, tannins, fruit',\n",
       " '4 flavors, acidity, wine, finish, peach, lemon, palate',\n",
       " '5 wine, fruit, acidity, blanc, flavors, texture, sauvignon blanc',\n",
       " '6 palate, cherry, tannins, black, aromas, alongside, offers',\n",
       " '7 fruit, flavors, finish, wine, black, fruit flavors, oak',\n",
       " '8 wine, tannins, black, plum, flavors, berry, blackberry',\n",
       " '9 fruit, aromas, palate, wine, white, finish, red',\n",
       " '10 black, flavors, aromas, chocolate, palate, plum, cherry',\n",
       " '11 bodied, wine, medium, medium bodied, cherry, flavors, fruit',\n",
       " '12 cabernet, sauvignon, cabernet sauvignon, blend, merlot, franc, cabernet franc',\n",
       " '13 wine, fruit, oak, cabernet, blend, tannins, black',\n",
       " '14 cherry, flavors, wine, pinot, aromas, black, noir',\n",
       " '15 apple, palate, finish, citrus, aromas, green, fresh',\n",
       " '16 fruit, aromas, flavors, dried, wine, tannins, lead',\n",
       " '17 palate, nose, wine, fresh, light, finish, lemon',\n",
       " '18 wine, flavors, ripe, tannins, rich, fruit, drink',\n",
       " '19 flavors, finish, aromas, berry, palate, plum, oak']"
      ]
     },
     "execution_count": 9,
     "metadata": {},
     "output_type": "execute_result"
    }
   ],
   "source": [
    "db.TOPICS.topwords.to_list()"
   ]
  },
  {
   "cell_type": "code",
   "execution_count": 10,
   "metadata": {},
   "outputs": [],
   "source": [
    "topic_glosses = []"
   ]
  },
  {
   "cell_type": "markdown",
   "metadata": {},
   "source": [
    "# Show Graphs"
   ]
  },
  {
   "cell_type": "code",
   "execution_count": 11,
   "metadata": {},
   "outputs": [],
   "source": [
    "if len(topic_glosses) == 0:\n",
    "    topic_glosses = db.TOPICS.topwords.str.extract(r'^(.{20})')[0].to_list()\n",
    "db.TOPICS['gloss'] = topic_glosses "
   ]
  },
  {
   "cell_type": "code",
   "execution_count": 12,
   "metadata": {},
   "outputs": [],
   "source": [
    "db.THETA['label'] = db.LABELS[doc_label]"
   ]
  },
  {
   "cell_type": "code",
   "execution_count": 13,
   "metadata": {},
   "outputs": [],
   "source": [
    "TRENDS = db.THETA.groupby('label').mean()\n",
    "TRENDS.columns = db.TOPICS.gloss"
   ]
  },
  {
   "cell_type": "code",
   "execution_count": 14,
   "metadata": {
    "scrolled": false
   },
   "outputs": [],
   "source": [
    "# TRENDS.style.background_gradient()"
   ]
  },
  {
   "cell_type": "code",
   "execution_count": 15,
   "metadata": {},
   "outputs": [],
   "source": [
    "import matplotlib.pyplot as plt"
   ]
  },
  {
   "cell_type": "code",
   "execution_count": 16,
   "metadata": {},
   "outputs": [],
   "source": [
    "def show_trend(topic_id, kind='bar', h=3, w=12):\n",
    "    gloss = db.TOPICS.loc[topic_id, 'gloss']\n",
    "    TRENDS[gloss].plot(kind=kind, figsize=(w, h), rot=45, \n",
    "                       title= gloss.upper() + '\\n' + db.TOPICS.loc[topic_id].topwords);"
   ]
  },
  {
   "cell_type": "code",
   "execution_count": 17,
   "metadata": {
    "scrolled": true
   },
   "outputs": [
    {
     "data": {
      "image/png": "[encoded data removed]",
      "text/plain": [
       "<Figure size 864x216 with 1 Axes>"
      ]
     },
     "metadata": {
      "needs_background": "light"
     },
     "output_type": "display_data"
    }
   ],
   "source": [
    "show_trend(0,'bar')"
   ]
  },
  {
   "cell_type": "code",
   "execution_count": 27,
   "metadata": {
    "scrolled": true
   },
   "outputs": [
    {
     "data": {
      "image/png": "[encoded data removed]",
      "text/plain": [
       "<Figure size 864x216 with 1 Axes>"
      ]
     },
     "metadata": {
      "needs_background": "light"
     },
     "output_type": "display_data"
    }
   ],
   "source": [
    "show_trend(1,'bar')"
   ]
  },
  {
   "cell_type": "code",
   "execution_count": 28,
   "metadata": {
    "scrolled": true
   },
   "outputs": [
    {
     "data": {
      "image/png": "[encoded data removed]",
      "text/plain": [
       "<Figure size 864x216 with 1 Axes>"
      ]
     },
     "metadata": {
      "needs_background": "light"
     },
     "output_type": "display_data"
    }
   ],
   "source": [
    "show_trend(2,'bar')"
   ]
  },
  {
   "cell_type": "code",
   "execution_count": 29,
   "metadata": {
    "scrolled": false
   },
   "outputs": [
    {
     "data": {
      "image/png": "[encoded data removed]",
      "text/plain": [
       "<Figure size 864x216 with 1 Axes>"
      ]
     },
     "metadata": {
      "needs_background": "light"
     },
     "output_type": "display_data"
    }
   ],
   "source": [
    "show_trend(3,'bar')"
   ]
  },
  {
   "cell_type": "code",
   "execution_count": 30,
   "metadata": {
    "scrolled": false
   },
   "outputs": [
    {
     "data": {
      "image/png": "[encoded data removed]",
      "text/plain": [
       "<Figure size 864x216 with 1 Axes>"
      ]
     },
     "metadata": {
      "needs_background": "light"
     },
     "output_type": "display_data"
    }
   ],
   "source": [
    "show_trend(4,'bar')"
   ]
  },
  {
   "cell_type": "code",
   "execution_count": 31,
   "metadata": {
    "scrolled": false
   },
   "outputs": [
    {
     "data": {
      "image/png": "[encoded data removed]",
      "text/plain": [
       "<Figure size 864x216 with 1 Axes>"
      ]
     },
     "metadata": {
      "needs_background": "light"
     },
     "output_type": "display_data"
    }
   ],
   "source": [
    "show_trend(5,'bar')"
   ]
  },
  {
   "cell_type": "code",
   "execution_count": 33,
   "metadata": {},
   "outputs": [],
   "source": [
    "import plotly_express as px"
   ]
  },
  {
   "cell_type": "code",
   "execution_count": 34,
   "metadata": {},
   "outputs": [
    {
     "data": {
      "application/vnd.plotly.v1+json": {
       "config": {
        "plotlyServerURL": "https://plot.ly"
       },
       "data": [
        {
         "alignmentgroup": "True",
         "hovertemplate": "gloss=0 nose, fruit, palat<br>label=%{x}<br>value=%{y}<extra></extra>",
         "legendgroup": "0 nose, fruit, palat",
         "marker": {
          "color": "#636efa"
         },
         "name": "0 nose, fruit, palat",
         "offsetgroup": "0 nose, fruit, palat",
         "orientation": "v",
         "showlegend": true,
         "textposition": "auto",
         "type": "bar",
         "x": [
          80,
          81,
          82,
          83,
          84,
          85,
          86,
          87,
          88,
          89,
          90,
          91,
          92,
          93,
          94,
          95,
          96,
          97,
          98,
          99,
          100
         ],
         "xaxis": "x",
         "y": [
          0.04857694774352391,
          0.03596222450715429,
          0.04849188473973162,
          0.02257131620393937,
          0.02744597910959023,
          0.03139399556155529,
          0.034880342843789915,
          0.030241077842584622,
          0.03543143174376526,
          0.036162183939800904,
          0.03652821104428735,
          0.04289117359105036,
          0.04606009303349351,
          0.05187006940428712,
          0.04507230989089009,
          0.03194511505019136,
          0.039988001131916646,
          0.007564923106069473,
          0.04089152644021573,
          0.0019128876657318748,
          0.0012500000114312
         ],
         "yaxis": "y"
        },
        {
         "alignmentgroup": "True",
         "hovertemplate": "gloss=1 fruit, wine, flavo<br>label=%{x}<br>value=%{y}<extra></extra>",
         "legendgroup": "1 fruit, wine, flavo",
         "marker": {
          "color": "#EF553B"
         },
         "name": "1 fruit, wine, flavo",
         "offsetgroup": "1 fruit, wine, flavo",
         "orientation": "v",
         "showlegend": true,
         "textposition": "auto",
         "type": "bar",
         "x": [
          80,
          81,
          82,
          83,
          84,
          85,
          86,
          87,
          88,
          89,
          90,
          91,
          92,
          93,
          94,
          95,
          96,
          97,
          98,
          99,
          100
         ],
         "xaxis": "x",
         "y": [
          0.010663013414115198,
          0.024716589287549336,
          0.025338724380362235,
          0.022249443048615418,
          0.030373708923544993,
          0.03826141011580381,
          0.03875585697394769,
          0.03261843192618107,
          0.027419577783763402,
          0.019890405195438374,
          0.02289610093544969,
          0.017603987451984136,
          0.01905959776754231,
          0.013611463836815513,
          0.01172726321884472,
          0.022305482378550713,
          0.021258458397314443,
          0.0014170124182954578,
          0.00132670292220345,
          0.0019128876676002,
          0.0012500000290471
         ],
         "yaxis": "y"
        },
        {
         "alignmentgroup": "True",
         "hovertemplate": "gloss=2 ripe, acidity, fru<br>label=%{x}<br>value=%{y}<extra></extra>",
         "legendgroup": "2 ripe, acidity, fru",
         "marker": {
          "color": "#00cc96"
         },
         "name": "2 ripe, acidity, fru",
         "offsetgroup": "2 ripe, acidity, fru",
         "orientation": "v",
         "showlegend": true,
         "textposition": "auto",
         "type": "bar",
         "x": [
          80,
          81,
          82,
          83,
          84,
          85,
          86,
          87,
          88,
          89,
          90,
          91,
          92,
          93,
          94,
          95,
          96,
          97,
          98,
          99,
          100
         ],
         "xaxis": "x",
         "y": [
          0.05045166340724883,
          0.02536654570168998,
          0.014639623528708833,
          0.008703515359701552,
          0.013962613768182718,
          0.010689694472961085,
          0.011374387454786021,
          0.017578353917760626,
          0.017056246055607495,
          0.021708520287376937,
          0.024544417468683678,
          0.023920057567906924,
          0.036067293133898705,
          0.037617969745090095,
          0.03853971837885803,
          0.039831616483198856,
          0.03453518883422201,
          0.055295358552390074,
          0.0013267029304386,
          0.00191288768046195,
          0.0012500000074946
         ],
         "yaxis": "y"
        },
        {
         "alignmentgroup": "True",
         "hovertemplate": "gloss=3 wine, drink, acidi<br>label=%{x}<br>value=%{y}<extra></extra>",
         "legendgroup": "3 wine, drink, acidi",
         "marker": {
          "color": "#ab63fa"
         },
         "name": "3 wine, drink, acidi",
         "offsetgroup": "3 wine, drink, acidi",
         "orientation": "v",
         "showlegend": true,
         "textposition": "auto",
         "type": "bar",
         "x": [
          80,
          81,
          82,
          83,
          84,
          85,
          86,
          87,
          88,
          89,
          90,
          91,
          92,
          93,
          94,
          95,
          96,
          97,
          98,
          99,
          100
         ],
         "xaxis": "x",
         "y": [
          0.011531377965720442,
          0.009424842652572867,
          0.027773548181047943,
          0.09412005953655764,
          0.12329330469962664,
          0.14557627223649636,
          0.12844381879566394,
          0.13206368654416364,
          0.1313506461543741,
          0.13269013340316807,
          0.13545251299276515,
          0.14025001050492,
          0.13937284504063427,
          0.13665736488835897,
          0.15665717703844734,
          0.16123619641327983,
          0.2354198267691762,
          0.20016557189114162,
          0.10032471195768661,
          0.2560559269049069,
          0.8734102389998618
         ],
         "yaxis": "y"
        },
        {
         "alignmentgroup": "True",
         "hovertemplate": "gloss=4 flavors, acidity, <br>label=%{x}<br>value=%{y}<extra></extra>",
         "legendgroup": "4 flavors, acidity, ",
         "marker": {
          "color": "#FFA15A"
         },
         "name": "4 flavors, acidity, ",
         "offsetgroup": "4 flavors, acidity, ",
         "orientation": "v",
         "showlegend": true,
         "textposition": "auto",
         "type": "bar",
         "x": [
          80,
          81,
          82,
          83,
          84,
          85,
          86,
          87,
          88,
          89,
          90,
          91,
          92,
          93,
          94,
          95,
          96,
          97,
          98,
          99,
          100
         ],
         "xaxis": "x",
         "y": [
          0.049356649019037274,
          0.0731909736727138,
          0.06663750897385488,
          0.07909601252613153,
          0.11216388463900136,
          0.11310918076452181,
          0.12386707103464376,
          0.11203650960023451,
          0.10601930625955211,
          0.11262209589266706,
          0.11582364554060029,
          0.1099898376722604,
          0.10658380872157323,
          0.0949253060309766,
          0.08660536826302653,
          0.12926471437905457,
          0.11968881088782458,
          0.058928434492239334,
          0.0013267029187293,
          0.0019128876754353247,
          0.0012500000327937
         ],
         "yaxis": "y"
        },
        {
         "alignmentgroup": "True",
         "hovertemplate": "gloss=5 wine, fruit, acidi<br>label=%{x}<br>value=%{y}<extra></extra>",
         "legendgroup": "5 wine, fruit, acidi",
         "marker": {
          "color": "#19d3f3"
         },
         "name": "5 wine, fruit, acidi",
         "offsetgroup": "5 wine, fruit, acidi",
         "orientation": "v",
         "showlegend": true,
         "textposition": "auto",
         "type": "bar",
         "x": [
          80,
          81,
          82,
          83,
          84,
          85,
          86,
          87,
          88,
          89,
          90,
          91,
          92,
          93,
          94,
          95,
          96,
          97,
          98,
          99,
          100
         ],
         "xaxis": "x",
         "y": [
          0.03349516447926898,
          0.06453203793804618,
          0.040394177656971855,
          0.0370522524439849,
          0.029670802210060892,
          0.03435440896731765,
          0.032876443745982226,
          0.03302897049210203,
          0.03378053288078214,
          0.03434451465144296,
          0.04060208600716529,
          0.04452032915290638,
          0.050372171808966006,
          0.050870211587057346,
          0.04774253309015996,
          0.06399052653712536,
          0.05488971937903822,
          0.012357294687090084,
          0.061910231116855875,
          0.22995113096487274,
          0.0012500000291067
         ],
         "yaxis": "y"
        },
        {
         "alignmentgroup": "True",
         "hovertemplate": "gloss=6 palate, cherry, ta<br>label=%{x}<br>value=%{y}<extra></extra>",
         "legendgroup": "6 palate, cherry, ta",
         "marker": {
          "color": "#FF6692"
         },
         "name": "6 palate, cherry, ta",
         "offsetgroup": "6 palate, cherry, ta",
         "orientation": "v",
         "showlegend": true,
         "textposition": "auto",
         "type": "bar",
         "x": [
          80,
          81,
          82,
          83,
          84,
          85,
          86,
          87,
          88,
          89,
          90,
          91,
          92,
          93,
          94,
          95,
          96,
          97,
          98,
          99,
          100
         ],
         "xaxis": "x",
         "y": [
          0.003639524240007789,
          0.008020229231784411,
          0.0038003951645898338,
          0.007297637795446731,
          0.014782772477834327,
          0.02377981950136273,
          0.03372896825460176,
          0.0574485229476734,
          0.06881481202978766,
          0.07494046297551314,
          0.06507912750707139,
          0.052859660450950155,
          0.059970324143785975,
          0.05865606119020951,
          0.07707738319357266,
          0.09843505587349588,
          0.04060579785918076,
          0.16611493910804984,
          0.001326702928429975,
          0.001912887663584975,
          0.0012500000019534
         ],
         "yaxis": "y"
        },
        {
         "alignmentgroup": "True",
         "hovertemplate": "gloss=7 fruit, flavors, fi<br>label=%{x}<br>value=%{y}<extra></extra>",
         "legendgroup": "7 fruit, flavors, fi",
         "marker": {
          "color": "#B6E880"
         },
         "name": "7 fruit, flavors, fi",
         "offsetgroup": "7 fruit, flavors, fi",
         "orientation": "v",
         "showlegend": true,
         "textposition": "auto",
         "type": "bar",
         "x": [
          80,
          81,
          82,
          83,
          84,
          85,
          86,
          87,
          88,
          89,
          90,
          91,
          92,
          93,
          94,
          95,
          96,
          97,
          98,
          99,
          100
         ],
         "xaxis": "x",
         "y": [
          0.025940941839555316,
          0.02862223092934893,
          0.018256433744448106,
          0.022685973730884948,
          0.023380276489202646,
          0.025149125366895595,
          0.02240030137646947,
          0.028355857724228453,
          0.03471890659953866,
          0.03955995516026261,
          0.04532189727736243,
          0.053440614339933246,
          0.05400617072595243,
          0.0676329075486016,
          0.05408035195025143,
          0.05791833732839744,
          0.05509729367585945,
          0.007735285719819168,
          0.10673161623523653,
          0.001912887700123325,
          0.0012500000243352
         ],
         "yaxis": "y"
        },
        {
         "alignmentgroup": "True",
         "hovertemplate": "gloss=8 wine, tannins, bla<br>label=%{x}<br>value=%{y}<extra></extra>",
         "legendgroup": "8 wine, tannins, bla",
         "marker": {
          "color": "#FF97FF"
         },
         "name": "8 wine, tannins, bla",
         "offsetgroup": "8 wine, tannins, bla",
         "orientation": "v",
         "showlegend": true,
         "textposition": "auto",
         "type": "bar",
         "x": [
          80,
          81,
          82,
          83,
          84,
          85,
          86,
          87,
          88,
          89,
          90,
          91,
          92,
          93,
          94,
          95,
          96,
          97,
          98,
          99,
          100
         ],
         "xaxis": "x",
         "y": [
          0.031437089374542,
          0.029725368699167577,
          0.03174062782305135,
          0.02741585320704938,
          0.022295850816914497,
          0.02615003027060397,
          0.026314354629659226,
          0.03422804995061341,
          0.04495400219609277,
          0.048181284767837354,
          0.04571452429598863,
          0.051873061904200754,
          0.05435515140309414,
          0.06909439154273336,
          0.06117195887647994,
          0.05975068393689735,
          0.06616605778302177,
          0.1072635190135863,
          0.1611613727752328,
          0.1331255405947043,
          0.0012500000073287
         ],
         "yaxis": "y"
        },
        {
         "alignmentgroup": "True",
         "hovertemplate": "gloss=9 fruit, aromas, pal<br>label=%{x}<br>value=%{y}<extra></extra>",
         "legendgroup": "9 fruit, aromas, pal",
         "marker": {
          "color": "#FECB52"
         },
         "name": "9 fruit, aromas, pal",
         "offsetgroup": "9 fruit, aromas, pal",
         "orientation": "v",
         "showlegend": true,
         "textposition": "auto",
         "type": "bar",
         "x": [
          80,
          81,
          82,
          83,
          84,
          85,
          86,
          87,
          88,
          89,
          90,
          91,
          92,
          93,
          94,
          95,
          96,
          97,
          98,
          99,
          100
         ],
         "xaxis": "x",
         "y": [
          0.042871370787612856,
          0.0841458455241623,
          0.06588821501531966,
          0.05458967994685012,
          0.06968975556031443,
          0.06963914119038077,
          0.07768637612309798,
          0.056975485087426156,
          0.037306916575650065,
          0.03498341364887061,
          0.033594509026044835,
          0.020709443394190306,
          0.024041538555507655,
          0.020528990221175564,
          0.01684239034445097,
          0.012527877333898074,
          0.005558302917750578,
          0.022473724630688533,
          0.0013267029181379998,
          0.001912887667073625,
          0.0012500000110677
         ],
         "yaxis": "y"
        },
        {
         "alignmentgroup": "True",
         "hovertemplate": "gloss=10 black, flavors, a<br>label=%{x}<br>value=%{y}<extra></extra>",
         "legendgroup": "10 black, flavors, a",
         "marker": {
          "color": "#636efa"
         },
         "name": "10 black, flavors, a",
         "offsetgroup": "10 black, flavors, a",
         "orientation": "v",
         "showlegend": true,
         "textposition": "auto",
         "type": "bar",
         "x": [
          80,
          81,
          82,
          83,
          84,
          85,
          86,
          87,
          88,
          89,
          90,
          91,
          92,
          93,
          94,
          95,
          96,
          97,
          98,
          99,
          100
         ],
         "xaxis": "x",
         "y": [
          0.04475651136690498,
          0.03382480988271561,
          0.056714208218051024,
          0.04424681782922682,
          0.04070294307516293,
          0.031017759189782543,
          0.025610094903802644,
          0.034927400342152935,
          0.02863148410514837,
          0.029303727056722996,
          0.029990832399442356,
          0.03263588948773596,
          0.041133896497512375,
          0.034236818387731315,
          0.030738149915377492,
          0.032982425554870014,
          0.01866933856258077,
          0.015505973925992848,
          0.0013267029295863,
          0.041865969062569675,
          0.0012500000129399
         ],
         "yaxis": "y"
        },
        {
         "alignmentgroup": "True",
         "hovertemplate": "gloss=11 bodied, wine, med<br>label=%{x}<br>value=%{y}<extra></extra>",
         "legendgroup": "11 bodied, wine, med",
         "marker": {
          "color": "#EF553B"
         },
         "name": "11 bodied, wine, med",
         "offsetgroup": "11 bodied, wine, med",
         "orientation": "v",
         "showlegend": true,
         "textposition": "auto",
         "type": "bar",
         "x": [
          80,
          81,
          82,
          83,
          84,
          85,
          86,
          87,
          88,
          89,
          90,
          91,
          92,
          93,
          94,
          95,
          96,
          97,
          98,
          99,
          100
         ],
         "xaxis": "x",
         "y": [
          0.05892895799533131,
          0.04892164923589954,
          0.06464530827662382,
          0.058579394760113035,
          0.04705207601641646,
          0.03883162394108902,
          0.04382286735755623,
          0.03930979342869743,
          0.040596704343120564,
          0.03976480992089815,
          0.0415189029683226,
          0.040362483337829054,
          0.03632715367177738,
          0.028620215163244974,
          0.028811709603740767,
          0.01215261931401775,
          0.026791010937420437,
          0.017598524229687523,
          0.0405007731668944,
          0.0019128876750368002,
          0.0012500000160507
         ],
         "yaxis": "y"
        },
        {
         "alignmentgroup": "True",
         "hovertemplate": "gloss=12 cabernet, sauvign<br>label=%{x}<br>value=%{y}<extra></extra>",
         "legendgroup": "12 cabernet, sauvign",
         "marker": {
          "color": "#00cc96"
         },
         "name": "12 cabernet, sauvign",
         "offsetgroup": "12 cabernet, sauvign",
         "orientation": "v",
         "showlegend": true,
         "textposition": "auto",
         "type": "bar",
         "x": [
          80,
          81,
          82,
          83,
          84,
          85,
          86,
          87,
          88,
          89,
          90,
          91,
          92,
          93,
          94,
          95,
          96,
          97,
          98,
          99,
          100
         ],
         "xaxis": "x",
         "y": [
          0.008771133737394063,
          0.014362511838538752,
          0.020477959308168037,
          0.015476890493795381,
          0.016374544405780497,
          0.01700473777046291,
          0.013245452631489267,
          0.023471646025118736,
          0.02216587197438993,
          0.01949480193159743,
          0.028188996469969172,
          0.03513916699183734,
          0.02316061877591349,
          0.018101723337786473,
          0.02403821577974369,
          0.01901494623528344,
          0.00897415176955716,
          0.033567929829995125,
          0.12557835807616824,
          0.0227129108201292,
          0.0012500000421807
         ],
         "yaxis": "y"
        },
        {
         "alignmentgroup": "True",
         "hovertemplate": "gloss=13 wine, fruit, oak,<br>label=%{x}<br>value=%{y}<extra></extra>",
         "legendgroup": "13 wine, fruit, oak,",
         "marker": {
          "color": "#ab63fa"
         },
         "name": "13 wine, fruit, oak,",
         "offsetgroup": "13 wine, fruit, oak,",
         "orientation": "v",
         "showlegend": true,
         "textposition": "auto",
         "type": "bar",
         "x": [
          80,
          81,
          82,
          83,
          84,
          85,
          86,
          87,
          88,
          89,
          90,
          91,
          92,
          93,
          94,
          95,
          96,
          97,
          98,
          99,
          100
         ],
         "xaxis": "x",
         "y": [
          0.07991131831559123,
          0.029928074783048222,
          0.04494848874700388,
          0.035617336447644,
          0.049317018765727,
          0.04359985508847183,
          0.04321787646304901,
          0.046240933324320145,
          0.05602660002597017,
          0.057184526565917826,
          0.0623409960024556,
          0.06528893053975554,
          0.07317847002488166,
          0.0596931065532809,
          0.0743210522960764,
          0.0652836576921902,
          0.09215678793998278,
          0.007909202872608875,
          0.05428938353113862,
          0.14967257878250972,
          0.0012500000501886
         ],
         "yaxis": "y"
        },
        {
         "alignmentgroup": "True",
         "hovertemplate": "gloss=14 cherry, flavors, <br>label=%{x}<br>value=%{y}<extra></extra>",
         "legendgroup": "14 cherry, flavors, ",
         "marker": {
          "color": "#FFA15A"
         },
         "name": "14 cherry, flavors, ",
         "offsetgroup": "14 cherry, flavors, ",
         "orientation": "v",
         "showlegend": true,
         "textposition": "auto",
         "type": "bar",
         "x": [
          80,
          81,
          82,
          83,
          84,
          85,
          86,
          87,
          88,
          89,
          90,
          91,
          92,
          93,
          94,
          95,
          96,
          97,
          98,
          99,
          100
         ],
         "xaxis": "x",
         "y": [
          0.007950935635523909,
          0.10065745967763463,
          0.08542021989748205,
          0.07178638262734686,
          0.0694604605062411,
          0.06455042300541575,
          0.05714192050037545,
          0.06040258739210836,
          0.06519409616539683,
          0.0643549403342619,
          0.059452752097215886,
          0.05439117442400866,
          0.05751252113041542,
          0.05762544073057015,
          0.061685589226879355,
          0.019690978428847157,
          0.0136851824199147,
          0.03618509913084644,
          0.10534872880060686,
          0.0019128876738159749,
          0.1040897606487978
         ],
         "yaxis": "y"
        },
        {
         "alignmentgroup": "True",
         "hovertemplate": "gloss=15 apple, palate, fi<br>label=%{x}<br>value=%{y}<extra></extra>",
         "legendgroup": "15 apple, palate, fi",
         "marker": {
          "color": "#19d3f3"
         },
         "name": "15 apple, palate, fi",
         "offsetgroup": "15 apple, palate, fi",
         "orientation": "v",
         "showlegend": true,
         "textposition": "auto",
         "type": "bar",
         "x": [
          80,
          81,
          82,
          83,
          84,
          85,
          86,
          87,
          88,
          89,
          90,
          91,
          92,
          93,
          94,
          95,
          96,
          97,
          98,
          99,
          100
         ],
         "xaxis": "x",
         "y": [
          0.03113034405961378,
          0.03369817857953502,
          0.04135298436279791,
          0.07543951040037103,
          0.06544255485808514,
          0.06708687975118187,
          0.07487517543180572,
          0.061081075488894326,
          0.07244798004828729,
          0.06532060059759029,
          0.05248545214689058,
          0.04351593552759561,
          0.03012417932705393,
          0.025748607250710202,
          0.030024470640956508,
          0.013909621590427194,
          0.04150310600954951,
          0.001417012413644095,
          0.00132670291221675,
          0.00191288766148185,
          0.0012500000433216
         ],
         "yaxis": "y"
        },
        {
         "alignmentgroup": "True",
         "hovertemplate": "gloss=16 fruit, aromas, fl<br>label=%{x}<br>value=%{y}<extra></extra>",
         "legendgroup": "16 fruit, aromas, fl",
         "marker": {
          "color": "#FF6692"
         },
         "name": "16 fruit, aromas, fl",
         "offsetgroup": "16 fruit, aromas, fl",
         "orientation": "v",
         "showlegend": true,
         "textposition": "auto",
         "type": "bar",
         "x": [
          80,
          81,
          82,
          83,
          84,
          85,
          86,
          87,
          88,
          89,
          90,
          91,
          92,
          93,
          94,
          95,
          96,
          97,
          98,
          99,
          100
         ],
         "xaxis": "x",
         "y": [
          0.027267376049339518,
          0.017695657547326188,
          0.027085957534384753,
          0.026642667147955924,
          0.03394334071190192,
          0.03526368411185855,
          0.036556937669542836,
          0.03835205777423616,
          0.04062496247564521,
          0.029137115210283653,
          0.02209825402378193,
          0.024387216133223664,
          0.021173301123064224,
          0.020888968560800858,
          0.01923896633925804,
          0.011560782223134006,
          0.0015124007153659467,
          0.0014170124149136681,
          0.0013267029266881,
          0.001912887671184575,
          0.0012500000015731
         ],
         "yaxis": "y"
        },
        {
         "alignmentgroup": "True",
         "hovertemplate": "gloss=17 palate, nose, win<br>label=%{x}<br>value=%{y}<extra></extra>",
         "legendgroup": "17 palate, nose, win",
         "marker": {
          "color": "#B6E880"
         },
         "name": "17 palate, nose, win",
         "offsetgroup": "17 palate, nose, win",
         "orientation": "v",
         "showlegend": true,
         "textposition": "auto",
         "type": "bar",
         "x": [
          80,
          81,
          82,
          83,
          84,
          85,
          86,
          87,
          88,
          89,
          90,
          91,
          92,
          93,
          94,
          95,
          96,
          97,
          98,
          99,
          100
         ],
         "xaxis": "x",
         "y": [
          0.07335921646695856,
          0.020213207612221055,
          0.025805202328220995,
          0.03429637597357424,
          0.021514598536591833,
          0.01906919209226657,
          0.0327889635652524,
          0.028859680460742883,
          0.028622996133481418,
          0.036407565707620805,
          0.03703932086499299,
          0.03851390452790469,
          0.028142374959549767,
          0.03999965524787882,
          0.027587204475401816,
          0.03594122512171282,
          0.015264913788131888,
          0.0014170124166580686,
          0.0013267029136122,
          0.001912887671093025,
          0.0012500000140984
         ],
         "yaxis": "y"
        },
        {
         "alignmentgroup": "True",
         "hovertemplate": "gloss=18 wine, flavors, ri<br>label=%{x}<br>value=%{y}<extra></extra>",
         "legendgroup": "18 wine, flavors, ri",
         "marker": {
          "color": "#FF97FF"
         },
         "name": "18 wine, flavors, ri",
         "offsetgroup": "18 wine, flavors, ri",
         "orientation": "v",
         "showlegend": true,
         "textposition": "auto",
         "type": "bar",
         "x": [
          80,
          81,
          82,
          83,
          84,
          85,
          86,
          87,
          88,
          89,
          90,
          91,
          92,
          93,
          94,
          95,
          96,
          97,
          98,
          99,
          100
         ],
         "xaxis": "x",
         "y": [
          0.04913903072086402,
          0.04888361768815905,
          0.0847441256533331,
          0.047864901092228886,
          0.06595739756572583,
          0.043736914944418455,
          0.04733658816364331,
          0.05349302440389105,
          0.0460679955935251,
          0.04853182679435107,
          0.054392521679579905,
          0.06052155234384595,
          0.07007314879697078,
          0.09029108399893304,
          0.09030889844277473,
          0.10051791616535888,
          0.09279875644803894,
          0.24424915673416842,
          0.18999626866014957,
          0.14174840313233333,
          0.001250000010332
         ],
         "yaxis": "y"
        },
        {
         "alignmentgroup": "True",
         "hovertemplate": "gloss=19 flavors, finish, <br>label=%{x}<br>value=%{y}<extra></extra>",
         "legendgroup": "19 flavors, finish, ",
         "marker": {
          "color": "#FECB52"
         },
         "name": "19 flavors, finish, ",
         "offsetgroup": "19 flavors, finish, ",
         "orientation": "v",
         "showlegend": true,
         "textposition": "auto",
         "type": "bar",
         "x": [
          80,
          81,
          82,
          83,
          84,
          85,
          86,
          87,
          88,
          89,
          90,
          91,
          92,
          93,
          94,
          95,
          96,
          97,
          98,
          99,
          100
         ],
         "xaxis": "x",
         "y": [
          0.3108214333818451,
          0.2681079450107313,
          0.20584440646584728,
          0.21426797942858136,
          0.12317611686409369,
          0.12173585165715249,
          0.09507620208084039,
          0.07928685532686915,
          0.06276893085612051,
          0.0554171159583772,
          0.04693493925192959,
          0.047185570655960206,
          0.029285341358411435,
          0.023329644773756854,
          0.017729289034808953,
          0.011740221960068303,
          0.01543689377415234,
          0.0014170124121140632,
          0.0013267029397711501,
          0.001912887665349675,
          0.0012500000060963
         ],
         "yaxis": "y"
        }
       ],
       "layout": {
        "barmode": "relative",
        "legend": {
         "title": {
          "text": "gloss"
         },
         "tracegroupgap": 0
        },
        "margin": {
         "t": 60
        },
        "template": {
         "data": {
          "bar": [
           {
            "error_x": {
             "color": "#2a3f5f"
            },
            "error_y": {
             "color": "#2a3f5f"
            },
            "marker": {
             "line": {
              "color": "#E5ECF6",
              "width": 0.5
             }
            },
            "type": "bar"
           }
          ],
          "barpolar": [
           {
            "marker": {
             "line": {
              "color": "#E5ECF6",
              "width": 0.5
             }
            },
            "type": "barpolar"
           }
          ],
          "carpet": [
           {
            "aaxis": {
             "endlinecolor": "#2a3f5f",
             "gridcolor": "white",
             "linecolor": "white",
             "minorgridcolor": "white",
             "startlinecolor": "#2a3f5f"
            },
            "baxis": {
             "endlinecolor": "#2a3f5f",
             "gridcolor": "white",
             "linecolor": "white",
             "minorgridcolor": "white",
             "startlinecolor": "#2a3f5f"
            },
            "type": "carpet"
           }
          ],
          "choropleth": [
           {
            "colorbar": {
             "outlinewidth": 0,
             "ticks": ""
            },
            "type": "choropleth"
           }
          ],
          "contour": [
           {
            "colorbar": {
             "outlinewidth": 0,
             "ticks": ""
            },
            "colorscale": [
             [
              0,
              "#0d0887"
             ],
             [
              0.1111111111111111,
              "#46039f"
             ],
             [
              0.2222222222222222,
              "#7201a8"
             ],
             [
              0.3333333333333333,
              "#9c179e"
             ],
             [
              0.4444444444444444,
              "#bd3786"
             ],
             [
              0.5555555555555556,
              "#d8576b"
             ],
             [
              0.6666666666666666,
              "#ed7953"
             ],
             [
              0.7777777777777778,
              "#fb9f3a"
             ],
             [
              0.8888888888888888,
              "#fdca26"
             ],
             [
              1,
              "#f0f921"
             ]
            ],
            "type": "contour"
           }
          ],
          "contourcarpet": [
           {
            "colorbar": {
             "outlinewidth": 0,
             "ticks": ""
            },
            "type": "contourcarpet"
           }
          ],
          "heatmap": [
           {
            "colorbar": {
             "outlinewidth": 0,
             "ticks": ""
            },
            "colorscale": [
             [
              0,
              "#0d0887"
             ],
             [
              0.1111111111111111,
              "#46039f"
             ],
             [
              0.2222222222222222,
              "#7201a8"
             ],
             [
              0.3333333333333333,
              "#9c179e"
             ],
             [
              0.4444444444444444,
              "#bd3786"
             ],
             [
              0.5555555555555556,
              "#d8576b"
             ],
             [
              0.6666666666666666,
              "#ed7953"
             ],
             [
              0.7777777777777778,
              "#fb9f3a"
             ],
             [
              0.8888888888888888,
              "#fdca26"
             ],
             [
              1,
              "#f0f921"
             ]
            ],
            "type": "heatmap"
           }
          ],
          "heatmapgl": [
           {
            "colorbar": {
             "outlinewidth": 0,
             "ticks": ""
            },
            "colorscale": [
             [
              0,
              "#0d0887"
             ],
             [
              0.1111111111111111,
              "#46039f"
             ],
             [
              0.2222222222222222,
              "#7201a8"
             ],
             [
              0.3333333333333333,
              "#9c179e"
             ],
             [
              0.4444444444444444,
              "#bd3786"
             ],
             [
              0.5555555555555556,
              "#d8576b"
             ],
             [
              0.6666666666666666,
              "#ed7953"
             ],
             [
              0.7777777777777778,
              "#fb9f3a"
             ],
             [
              0.8888888888888888,
              "#fdca26"
             ],
             [
              1,
              "#f0f921"
             ]
            ],
            "type": "heatmapgl"
           }
          ],
          "histogram": [
           {
            "marker": {
             "colorbar": {
              "outlinewidth": 0,
              "ticks": ""
             }
            },
            "type": "histogram"
           }
          ],
          "histogram2d": [
           {
            "colorbar": {
             "outlinewidth": 0,
             "ticks": ""
            },
            "colorscale": [
             [
              0,
              "#0d0887"
             ],
             [
              0.1111111111111111,
              "#46039f"
             ],
             [
              0.2222222222222222,
              "#7201a8"
             ],
             [
              0.3333333333333333,
              "#9c179e"
             ],
             [
              0.4444444444444444,
              "#bd3786"
             ],
             [
              0.5555555555555556,
              "#d8576b"
             ],
             [
              0.6666666666666666,
              "#ed7953"
             ],
             [
              0.7777777777777778,
              "#fb9f3a"
             ],
             [
              0.8888888888888888,
              "#fdca26"
             ],
             [
              1,
              "#f0f921"
             ]
            ],
            "type": "histogram2d"
           }
          ],
          "histogram2dcontour": [
           {
            "colorbar": {
             "outlinewidth": 0,
             "ticks": ""
            },
            "colorscale": [
             [
              0,
              "#0d0887"
             ],
             [
              0.1111111111111111,
              "#46039f"
             ],
             [
              0.2222222222222222,
              "#7201a8"
             ],
             [
              0.3333333333333333,
              "#9c179e"
             ],
             [
              0.4444444444444444,
              "#bd3786"
             ],
             [
              0.5555555555555556,
              "#d8576b"
             ],
             [
              0.6666666666666666,
              "#ed7953"
             ],
             [
              0.7777777777777778,
              "#fb9f3a"
             ],
             [
              0.8888888888888888,
              "#fdca26"
             ],
             [
              1,
              "#f0f921"
             ]
            ],
            "type": "histogram2dcontour"
           }
          ],
          "mesh3d": [
           {
            "colorbar": {
             "outlinewidth": 0,
             "ticks": ""
            },
            "type": "mesh3d"
           }
          ],
          "parcoords": [
           {
            "line": {
             "colorbar": {
              "outlinewidth": 0,
              "ticks": ""
             }
            },
            "type": "parcoords"
           }
          ],
          "pie": [
           {
            "automargin": true,
            "type": "pie"
           }
          ],
          "scatter": [
           {
            "marker": {
             "colorbar": {
              "outlinewidth": 0,
              "ticks": ""
             }
            },
            "type": "scatter"
           }
          ],
          "scatter3d": [
           {
            "line": {
             "colorbar": {
              "outlinewidth": 0,
              "ticks": ""
             }
            },
            "marker": {
             "colorbar": {
              "outlinewidth": 0,
              "ticks": ""
             }
            },
            "type": "scatter3d"
           }
          ],
          "scattercarpet": [
           {
            "marker": {
             "colorbar": {
              "outlinewidth": 0,
              "ticks": ""
             }
            },
            "type": "scattercarpet"
           }
          ],
          "scattergeo": [
           {
            "marker": {
             "colorbar": {
              "outlinewidth": 0,
              "ticks": ""
             }
            },
            "type": "scattergeo"
           }
          ],
          "scattergl": [
           {
            "marker": {
             "colorbar": {
              "outlinewidth": 0,
              "ticks": ""
             }
            },
            "type": "scattergl"
           }
          ],
          "scattermapbox": [
           {
            "marker": {
             "colorbar": {
              "outlinewidth": 0,
              "ticks": ""
             }
            },
            "type": "scattermapbox"
           }
          ],
          "scatterpolar": [
           {
            "marker": {
             "colorbar": {
              "outlinewidth": 0,
              "ticks": ""
             }
            },
            "type": "scatterpolar"
           }
          ],
          "scatterpolargl": [
           {
            "marker": {
             "colorbar": {
              "outlinewidth": 0,
              "ticks": ""
             }
            },
            "type": "scatterpolargl"
           }
          ],
          "scatterternary": [
           {
            "marker": {
             "colorbar": {
              "outlinewidth": 0,
              "ticks": ""
             }
            },
            "type": "scatterternary"
           }
          ],
          "surface": [
           {
            "colorbar": {
             "outlinewidth": 0,
             "ticks": ""
            },
            "colorscale": [
             [
              0,
              "#0d0887"
             ],
             [
              0.1111111111111111,
              "#46039f"
             ],
             [
              0.2222222222222222,
              "#7201a8"
             ],
             [
              0.3333333333333333,
              "#9c179e"
             ],
             [
              0.4444444444444444,
              "#bd3786"
             ],
             [
              0.5555555555555556,
              "#d8576b"
             ],
             [
              0.6666666666666666,
              "#ed7953"
             ],
             [
              0.7777777777777778,
              "#fb9f3a"
             ],
             [
              0.8888888888888888,
              "#fdca26"
             ],
             [
              1,
              "#f0f921"
             ]
            ],
            "type": "surface"
           }
          ],
          "table": [
           {
            "cells": {
             "fill": {
              "color": "#EBF0F8"
             },
             "line": {
              "color": "white"
             }
            },
            "header": {
             "fill": {
              "color": "#C8D4E3"
             },
             "line": {
              "color": "white"
             }
            },
            "type": "table"
           }
          ]
         },
         "layout": {
          "annotationdefaults": {
           "arrowcolor": "#2a3f5f",
           "arrowhead": 0,
           "arrowwidth": 1
          },
          "autotypenumbers": "strict",
          "coloraxis": {
           "colorbar": {
            "outlinewidth": 0,
            "ticks": ""
           }
          },
          "colorscale": {
           "diverging": [
            [
             0,
             "#8e0152"
            ],
            [
             0.1,
             "#c51b7d"
            ],
            [
             0.2,
             "#de77ae"
            ],
            [
             0.3,
             "#f1b6da"
            ],
            [
             0.4,
             "#fde0ef"
            ],
            [
             0.5,
             "#f7f7f7"
            ],
            [
             0.6,
             "#e6f5d0"
            ],
            [
             0.7,
             "#b8e186"
            ],
            [
             0.8,
             "#7fbc41"
            ],
            [
             0.9,
             "#4d9221"
            ],
            [
             1,
             "#276419"
            ]
           ],
           "sequential": [
            [
             0,
             "#0d0887"
            ],
            [
             0.1111111111111111,
             "#46039f"
            ],
            [
             0.2222222222222222,
             "#7201a8"
            ],
            [
             0.3333333333333333,
             "#9c179e"
            ],
            [
             0.4444444444444444,
             "#bd3786"
            ],
            [
             0.5555555555555556,
             "#d8576b"
            ],
            [
             0.6666666666666666,
             "#ed7953"
            ],
            [
             0.7777777777777778,
             "#fb9f3a"
            ],
            [
             0.8888888888888888,
             "#fdca26"
            ],
            [
             1,
             "#f0f921"
            ]
           ],
           "sequentialminus": [
            [
             0,
             "#0d0887"
            ],
            [
             0.1111111111111111,
             "#46039f"
            ],
            [
             0.2222222222222222,
             "#7201a8"
            ],
            [
             0.3333333333333333,
             "#9c179e"
            ],
            [
             0.4444444444444444,
             "#bd3786"
            ],
            [
             0.5555555555555556,
             "#d8576b"
            ],
            [
             0.6666666666666666,
             "#ed7953"
            ],
            [
             0.7777777777777778,
             "#fb9f3a"
            ],
            [
             0.8888888888888888,
             "#fdca26"
            ],
            [
             1,
             "#f0f921"
            ]
           ]
          },
          "colorway": [
           "#636efa",
           "#EF553B",
           "#00cc96",
           "#ab63fa",
           "#FFA15A",
           "#19d3f3",
           "#FF6692",
           "#B6E880",
           "#FF97FF",
           "#FECB52"
          ],
          "font": {
           "color": "#2a3f5f"
          },
          "geo": {
           "bgcolor": "white",
           "lakecolor": "white",
           "landcolor": "#E5ECF6",
           "showlakes": true,
           "showland": true,
           "subunitcolor": "white"
          },
          "hoverlabel": {
           "align": "left"
          },
          "hovermode": "closest",
          "mapbox": {
           "style": "light"
          },
          "paper_bgcolor": "white",
          "plot_bgcolor": "#E5ECF6",
          "polar": {
           "angularaxis": {
            "gridcolor": "white",
            "linecolor": "white",
            "ticks": ""
           },
           "bgcolor": "#E5ECF6",
           "radialaxis": {
            "gridcolor": "white",
            "linecolor": "white",
            "ticks": ""
           }
          },
          "scene": {
           "xaxis": {
            "backgroundcolor": "#E5ECF6",
            "gridcolor": "white",
            "gridwidth": 2,
            "linecolor": "white",
            "showbackground": true,
            "ticks": "",
            "zerolinecolor": "white"
           },
           "yaxis": {
            "backgroundcolor": "#E5ECF6",
            "gridcolor": "white",
            "gridwidth": 2,
            "linecolor": "white",
            "showbackground": true,
            "ticks": "",
            "zerolinecolor": "white"
           },
           "zaxis": {
            "backgroundcolor": "#E5ECF6",
            "gridcolor": "white",
            "gridwidth": 2,
            "linecolor": "white",
            "showbackground": true,
            "ticks": "",
            "zerolinecolor": "white"
           }
          },
          "shapedefaults": {
           "line": {
            "color": "#2a3f5f"
           }
          },
          "ternary": {
           "aaxis": {
            "gridcolor": "white",
            "linecolor": "white",
            "ticks": ""
           },
           "baxis": {
            "gridcolor": "white",
            "linecolor": "white",
            "ticks": ""
           },
           "bgcolor": "#E5ECF6",
           "caxis": {
            "gridcolor": "white",
            "linecolor": "white",
            "ticks": ""
           }
          },
          "title": {
           "x": 0.05
          },
          "xaxis": {
           "automargin": true,
           "gridcolor": "white",
           "linecolor": "white",
           "ticks": "",
           "title": {
            "standoff": 15
           },
           "zerolinecolor": "white",
           "zerolinewidth": 2
          },
          "yaxis": {
           "automargin": true,
           "gridcolor": "white",
           "linecolor": "white",
           "ticks": "",
           "title": {
            "standoff": 15
           },
           "zerolinecolor": "white",
           "zerolinewidth": 2
          }
         }
        },
        "xaxis": {
         "anchor": "y",
         "domain": [
          0,
          1
         ],
         "title": {
          "text": "label"
         }
        },
        "yaxis": {
         "anchor": "x",
         "domain": [
          0,
          1
         ],
         "title": {
          "text": "value"
         }
        }
       }
      },
      "text/html": [
       "<div>                            <div id=\"7293b597-22e6-495c-9351-119cddcdd154\" class=\"plotly-graph-div\" style=\"height:525px; width:100%;\"></div>            <script type=\"text/javascript\">                require([\"plotly\"], function(Plotly) {                    window.PLOTLYENV=window.PLOTLYENV || {};                                    if (document.getElementById(\"7293b597-22e6-495c-9351-119cddcdd154\")) {                    Plotly.newPlot(                        \"7293b597-22e6-495c-9351-119cddcdd154\",                        [{\"alignmentgroup\": \"True\", \"hovertemplate\": \"gloss=0 nose, fruit, palat<br>label=%{x}<br>value=%{y}<extra></extra>\", \"legendgroup\": \"0 nose, fruit, palat\", \"marker\": {\"color\": \"#636efa\"}, \"name\": \"0 nose, fruit, palat\", \"offsetgroup\": \"0 nose, fruit, palat\", \"orientation\": \"v\", \"showlegend\": true, \"textposition\": \"auto\", \"type\": \"bar\", \"x\": [80, 81, 82, 83, 84, 85, 86, 87, 88, 89, 90, 91, 92, 93, 94, 95, 96, 97, 98, 99, 100], \"xaxis\": \"x\", \"y\": [0.04857694774352391, 0.03596222450715429, 0.04849188473973162, 0.02257131620393937, 0.02744597910959023, 0.03139399556155529, 0.034880342843789915, 0.030241077842584622, 0.03543143174376526, 0.036162183939800904, 0.03652821104428735, 0.04289117359105036, 0.04606009303349351, 0.05187006940428712, 0.04507230989089009, 0.03194511505019136, 0.039988001131916646, 0.007564923106069473, 0.04089152644021573, 0.0019128876657318748, 0.0012500000114312], \"yaxis\": \"y\"}, {\"alignmentgroup\": \"True\", \"hovertemplate\": \"gloss=1 fruit, wine, flavo<br>label=%{x}<br>value=%{y}<extra></extra>\", \"legendgroup\": \"1 fruit, wine, flavo\", \"marker\": {\"color\": \"#EF553B\"}, \"name\": \"1 fruit, wine, flavo\", \"offsetgroup\": \"1 fruit, wine, flavo\", \"orientation\": \"v\", \"showlegend\": true, \"textposition\": \"auto\", \"type\": \"bar\", \"x\": [80, 81, 82, 83, 84, 85, 86, 87, 88, 89, 90, 91, 92, 93, 94, 95, 96, 97, 98, 99, 100], \"xaxis\": \"x\", \"y\": [0.010663013414115198, 0.024716589287549336, 0.025338724380362235, 0.022249443048615418, 0.030373708923544993, 0.03826141011580381, 0.03875585697394769, 0.03261843192618107, 0.027419577783763402, 0.019890405195438374, 0.02289610093544969, 0.017603987451984136, 0.01905959776754231, 0.013611463836815513, 0.01172726321884472, 0.022305482378550713, 0.021258458397314443, 0.0014170124182954578, 0.00132670292220345, 0.0019128876676002, 0.0012500000290471], \"yaxis\": \"y\"}, {\"alignmentgroup\": \"True\", \"hovertemplate\": \"gloss=2 ripe, acidity, fru<br>label=%{x}<br>value=%{y}<extra></extra>\", \"legendgroup\": \"2 ripe, acidity, fru\", \"marker\": {\"color\": \"#00cc96\"}, \"name\": \"2 ripe, acidity, fru\", \"offsetgroup\": \"2 ripe, acidity, fru\", \"orientation\": \"v\", \"showlegend\": true, \"textposition\": \"auto\", \"type\": \"bar\", \"x\": [80, 81, 82, 83, 84, 85, 86, 87, 88, 89, 90, 91, 92, 93, 94, 95, 96, 97, 98, 99, 100], \"xaxis\": \"x\", \"y\": [0.05045166340724883, 0.02536654570168998, 0.014639623528708833, 0.008703515359701552, 0.013962613768182718, 0.010689694472961085, 0.011374387454786021, 0.017578353917760626, 0.017056246055607495, 0.021708520287376937, 0.024544417468683678, 0.023920057567906924, 0.036067293133898705, 0.037617969745090095, 0.03853971837885803, 0.039831616483198856, 0.03453518883422201, 0.055295358552390074, 0.0013267029304386, 0.00191288768046195, 0.0012500000074946], \"yaxis\": \"y\"}, {\"alignmentgroup\": \"True\", \"hovertemplate\": \"gloss=3 wine, drink, acidi<br>label=%{x}<br>value=%{y}<extra></extra>\", \"legendgroup\": \"3 wine, drink, acidi\", \"marker\": {\"color\": \"#ab63fa\"}, \"name\": \"3 wine, drink, acidi\", \"offsetgroup\": \"3 wine, drink, acidi\", \"orientation\": \"v\", \"showlegend\": true, \"textposition\": \"auto\", \"type\": \"bar\", \"x\": [80, 81, 82, 83, 84, 85, 86, 87, 88, 89, 90, 91, 92, 93, 94, 95, 96, 97, 98, 99, 100], \"xaxis\": \"x\", \"y\": [0.011531377965720442, 0.009424842652572867, 0.027773548181047943, 0.09412005953655764, 0.12329330469962664, 0.14557627223649636, 0.12844381879566394, 0.13206368654416364, 0.1313506461543741, 0.13269013340316807, 0.13545251299276515, 0.14025001050492, 0.13937284504063427, 0.13665736488835897, 0.15665717703844734, 0.16123619641327983, 0.2354198267691762, 0.20016557189114162, 0.10032471195768661, 0.2560559269049069, 0.8734102389998618], \"yaxis\": \"y\"}, {\"alignmentgroup\": \"True\", \"hovertemplate\": \"gloss=4 flavors, acidity, <br>label=%{x}<br>value=%{y}<extra></extra>\", \"legendgroup\": \"4 flavors, acidity, \", \"marker\": {\"color\": \"#FFA15A\"}, \"name\": \"4 flavors, acidity, \", \"offsetgroup\": \"4 flavors, acidity, \", \"orientation\": \"v\", \"showlegend\": true, \"textposition\": \"auto\", \"type\": \"bar\", \"x\": [80, 81, 82, 83, 84, 85, 86, 87, 88, 89, 90, 91, 92, 93, 94, 95, 96, 97, 98, 99, 100], \"xaxis\": \"x\", \"y\": [0.049356649019037274, 0.0731909736727138, 0.06663750897385488, 0.07909601252613153, 0.11216388463900136, 0.11310918076452181, 0.12386707103464376, 0.11203650960023451, 0.10601930625955211, 0.11262209589266706, 0.11582364554060029, 0.1099898376722604, 0.10658380872157323, 0.0949253060309766, 0.08660536826302653, 0.12926471437905457, 0.11968881088782458, 0.058928434492239334, 0.0013267029187293, 0.0019128876754353247, 0.0012500000327937], \"yaxis\": \"y\"}, {\"alignmentgroup\": \"True\", \"hovertemplate\": \"gloss=5 wine, fruit, acidi<br>label=%{x}<br>value=%{y}<extra></extra>\", \"legendgroup\": \"5 wine, fruit, acidi\", \"marker\": {\"color\": \"#19d3f3\"}, \"name\": \"5 wine, fruit, acidi\", \"offsetgroup\": \"5 wine, fruit, acidi\", \"orientation\": \"v\", \"showlegend\": true, \"textposition\": \"auto\", \"type\": \"bar\", \"x\": [80, 81, 82, 83, 84, 85, 86, 87, 88, 89, 90, 91, 92, 93, 94, 95, 96, 97, 98, 99, 100], \"xaxis\": \"x\", \"y\": [0.03349516447926898, 0.06453203793804618, 0.040394177656971855, 0.0370522524439849, 0.029670802210060892, 0.03435440896731765, 0.032876443745982226, 0.03302897049210203, 0.03378053288078214, 0.03434451465144296, 0.04060208600716529, 0.04452032915290638, 0.050372171808966006, 0.050870211587057346, 0.04774253309015996, 0.06399052653712536, 0.05488971937903822, 0.012357294687090084, 0.061910231116855875, 0.22995113096487274, 0.0012500000291067], \"yaxis\": \"y\"}, {\"alignmentgroup\": \"True\", \"hovertemplate\": \"gloss=6 palate, cherry, ta<br>label=%{x}<br>value=%{y}<extra></extra>\", \"legendgroup\": \"6 palate, cherry, ta\", \"marker\": {\"color\": \"#FF6692\"}, \"name\": \"6 palate, cherry, ta\", \"offsetgroup\": \"6 palate, cherry, ta\", \"orientation\": \"v\", \"showlegend\": true, \"textposition\": \"auto\", \"type\": \"bar\", \"x\": [80, 81, 82, 83, 84, 85, 86, 87, 88, 89, 90, 91, 92, 93, 94, 95, 96, 97, 98, 99, 100], \"xaxis\": \"x\", \"y\": [0.003639524240007789, 0.008020229231784411, 0.0038003951645898338, 0.007297637795446731, 0.014782772477834327, 0.02377981950136273, 0.03372896825460176, 0.0574485229476734, 0.06881481202978766, 0.07494046297551314, 0.06507912750707139, 0.052859660450950155, 0.059970324143785975, 0.05865606119020951, 0.07707738319357266, 0.09843505587349588, 0.04060579785918076, 0.16611493910804984, 0.001326702928429975, 0.001912887663584975, 0.0012500000019534], \"yaxis\": \"y\"}, {\"alignmentgroup\": \"True\", \"hovertemplate\": \"gloss=7 fruit, flavors, fi<br>label=%{x}<br>value=%{y}<extra></extra>\", \"legendgroup\": \"7 fruit, flavors, fi\", \"marker\": {\"color\": \"#B6E880\"}, \"name\": \"7 fruit, flavors, fi\", \"offsetgroup\": \"7 fruit, flavors, fi\", \"orientation\": \"v\", \"showlegend\": true, \"textposition\": \"auto\", \"type\": \"bar\", \"x\": [80, 81, 82, 83, 84, 85, 86, 87, 88, 89, 90, 91, 92, 93, 94, 95, 96, 97, 98, 99, 100], \"xaxis\": \"x\", \"y\": [0.025940941839555316, 0.02862223092934893, 0.018256433744448106, 0.022685973730884948, 0.023380276489202646, 0.025149125366895595, 0.02240030137646947, 0.028355857724228453, 0.03471890659953866, 0.03955995516026261, 0.04532189727736243, 0.053440614339933246, 0.05400617072595243, 0.0676329075486016, 0.05408035195025143, 0.05791833732839744, 0.05509729367585945, 0.007735285719819168, 0.10673161623523653, 0.001912887700123325, 0.0012500000243352], \"yaxis\": \"y\"}, {\"alignmentgroup\": \"True\", \"hovertemplate\": \"gloss=8 wine, tannins, bla<br>label=%{x}<br>value=%{y}<extra></extra>\", \"legendgroup\": \"8 wine, tannins, bla\", \"marker\": {\"color\": \"#FF97FF\"}, \"name\": \"8 wine, tannins, bla\", \"offsetgroup\": \"8 wine, tannins, bla\", \"orientation\": \"v\", \"showlegend\": true, \"textposition\": \"auto\", \"type\": \"bar\", \"x\": [80, 81, 82, 83, 84, 85, 86, 87, 88, 89, 90, 91, 92, 93, 94, 95, 96, 97, 98, 99, 100], \"xaxis\": \"x\", \"y\": [0.031437089374542, 0.029725368699167577, 0.03174062782305135, 0.02741585320704938, 0.022295850816914497, 0.02615003027060397, 0.026314354629659226, 0.03422804995061341, 0.04495400219609277, 0.048181284767837354, 0.04571452429598863, 0.051873061904200754, 0.05435515140309414, 0.06909439154273336, 0.06117195887647994, 0.05975068393689735, 0.06616605778302177, 0.1072635190135863, 0.1611613727752328, 0.1331255405947043, 0.0012500000073287], \"yaxis\": \"y\"}, {\"alignmentgroup\": \"True\", \"hovertemplate\": \"gloss=9 fruit, aromas, pal<br>label=%{x}<br>value=%{y}<extra></extra>\", \"legendgroup\": \"9 fruit, aromas, pal\", \"marker\": {\"color\": \"#FECB52\"}, \"name\": \"9 fruit, aromas, pal\", \"offsetgroup\": \"9 fruit, aromas, pal\", \"orientation\": \"v\", \"showlegend\": true, \"textposition\": \"auto\", \"type\": \"bar\", \"x\": [80, 81, 82, 83, 84, 85, 86, 87, 88, 89, 90, 91, 92, 93, 94, 95, 96, 97, 98, 99, 100], \"xaxis\": \"x\", \"y\": [0.042871370787612856, 0.0841458455241623, 0.06588821501531966, 0.05458967994685012, 0.06968975556031443, 0.06963914119038077, 0.07768637612309798, 0.056975485087426156, 0.037306916575650065, 0.03498341364887061, 0.033594509026044835, 0.020709443394190306, 0.024041538555507655, 0.020528990221175564, 0.01684239034445097, 0.012527877333898074, 0.005558302917750578, 0.022473724630688533, 0.0013267029181379998, 0.001912887667073625, 0.0012500000110677], \"yaxis\": \"y\"}, {\"alignmentgroup\": \"True\", \"hovertemplate\": \"gloss=10 black, flavors, a<br>label=%{x}<br>value=%{y}<extra></extra>\", \"legendgroup\": \"10 black, flavors, a\", \"marker\": {\"color\": \"#636efa\"}, \"name\": \"10 black, flavors, a\", \"offsetgroup\": \"10 black, flavors, a\", \"orientation\": \"v\", \"showlegend\": true, \"textposition\": \"auto\", \"type\": \"bar\", \"x\": [80, 81, 82, 83, 84, 85, 86, 87, 88, 89, 90, 91, 92, 93, 94, 95, 96, 97, 98, 99, 100], \"xaxis\": \"x\", \"y\": [0.04475651136690498, 0.03382480988271561, 0.056714208218051024, 0.04424681782922682, 0.04070294307516293, 0.031017759189782543, 0.025610094903802644, 0.034927400342152935, 0.02863148410514837, 0.029303727056722996, 0.029990832399442356, 0.03263588948773596, 0.041133896497512375, 0.034236818387731315, 0.030738149915377492, 0.032982425554870014, 0.01866933856258077, 0.015505973925992848, 0.0013267029295863, 0.041865969062569675, 0.0012500000129399], \"yaxis\": \"y\"}, {\"alignmentgroup\": \"True\", \"hovertemplate\": \"gloss=11 bodied, wine, med<br>label=%{x}<br>value=%{y}<extra></extra>\", \"legendgroup\": \"11 bodied, wine, med\", \"marker\": {\"color\": \"#EF553B\"}, \"name\": \"11 bodied, wine, med\", \"offsetgroup\": \"11 bodied, wine, med\", \"orientation\": \"v\", \"showlegend\": true, \"textposition\": \"auto\", \"type\": \"bar\", \"x\": [80, 81, 82, 83, 84, 85, 86, 87, 88, 89, 90, 91, 92, 93, 94, 95, 96, 97, 98, 99, 100], \"xaxis\": \"x\", \"y\": [0.05892895799533131, 0.04892164923589954, 0.06464530827662382, 0.058579394760113035, 0.04705207601641646, 0.03883162394108902, 0.04382286735755623, 0.03930979342869743, 0.040596704343120564, 0.03976480992089815, 0.0415189029683226, 0.040362483337829054, 0.03632715367177738, 0.028620215163244974, 0.028811709603740767, 0.01215261931401775, 0.026791010937420437, 0.017598524229687523, 0.0405007731668944, 0.0019128876750368002, 0.0012500000160507], \"yaxis\": \"y\"}, {\"alignmentgroup\": \"True\", \"hovertemplate\": \"gloss=12 cabernet, sauvign<br>label=%{x}<br>value=%{y}<extra></extra>\", \"legendgroup\": \"12 cabernet, sauvign\", \"marker\": {\"color\": \"#00cc96\"}, \"name\": \"12 cabernet, sauvign\", \"offsetgroup\": \"12 cabernet, sauvign\", \"orientation\": \"v\", \"showlegend\": true, \"textposition\": \"auto\", \"type\": \"bar\", \"x\": [80, 81, 82, 83, 84, 85, 86, 87, 88, 89, 90, 91, 92, 93, 94, 95, 96, 97, 98, 99, 100], \"xaxis\": \"x\", \"y\": [0.008771133737394063, 0.014362511838538752, 0.020477959308168037, 0.015476890493795381, 0.016374544405780497, 0.01700473777046291, 0.013245452631489267, 0.023471646025118736, 0.02216587197438993, 0.01949480193159743, 0.028188996469969172, 0.03513916699183734, 0.02316061877591349, 0.018101723337786473, 0.02403821577974369, 0.01901494623528344, 0.00897415176955716, 0.033567929829995125, 0.12557835807616824, 0.0227129108201292, 0.0012500000421807], \"yaxis\": \"y\"}, {\"alignmentgroup\": \"True\", \"hovertemplate\": \"gloss=13 wine, fruit, oak,<br>label=%{x}<br>value=%{y}<extra></extra>\", \"legendgroup\": \"13 wine, fruit, oak,\", \"marker\": {\"color\": \"#ab63fa\"}, \"name\": \"13 wine, fruit, oak,\", \"offsetgroup\": \"13 wine, fruit, oak,\", \"orientation\": \"v\", \"showlegend\": true, \"textposition\": \"auto\", \"type\": \"bar\", \"x\": [80, 81, 82, 83, 84, 85, 86, 87, 88, 89, 90, 91, 92, 93, 94, 95, 96, 97, 98, 99, 100], \"xaxis\": \"x\", \"y\": [0.07991131831559123, 0.029928074783048222, 0.04494848874700388, 0.035617336447644, 0.049317018765727, 0.04359985508847183, 0.04321787646304901, 0.046240933324320145, 0.05602660002597017, 0.057184526565917826, 0.0623409960024556, 0.06528893053975554, 0.07317847002488166, 0.0596931065532809, 0.0743210522960764, 0.0652836576921902, 0.09215678793998278, 0.007909202872608875, 0.05428938353113862, 0.14967257878250972, 0.0012500000501886], \"yaxis\": \"y\"}, {\"alignmentgroup\": \"True\", \"hovertemplate\": \"gloss=14 cherry, flavors, <br>label=%{x}<br>value=%{y}<extra></extra>\", \"legendgroup\": \"14 cherry, flavors, \", \"marker\": {\"color\": \"#FFA15A\"}, \"name\": \"14 cherry, flavors, \", \"offsetgroup\": \"14 cherry, flavors, \", \"orientation\": \"v\", \"showlegend\": true, \"textposition\": \"auto\", \"type\": \"bar\", \"x\": [80, 81, 82, 83, 84, 85, 86, 87, 88, 89, 90, 91, 92, 93, 94, 95, 96, 97, 98, 99, 100], \"xaxis\": \"x\", \"y\": [0.007950935635523909, 0.10065745967763463, 0.08542021989748205, 0.07178638262734686, 0.0694604605062411, 0.06455042300541575, 0.05714192050037545, 0.06040258739210836, 0.06519409616539683, 0.0643549403342619, 0.059452752097215886, 0.05439117442400866, 0.05751252113041542, 0.05762544073057015, 0.061685589226879355, 0.019690978428847157, 0.0136851824199147, 0.03618509913084644, 0.10534872880060686, 0.0019128876738159749, 0.1040897606487978], \"yaxis\": \"y\"}, {\"alignmentgroup\": \"True\", \"hovertemplate\": \"gloss=15 apple, palate, fi<br>label=%{x}<br>value=%{y}<extra></extra>\", \"legendgroup\": \"15 apple, palate, fi\", \"marker\": {\"color\": \"#19d3f3\"}, \"name\": \"15 apple, palate, fi\", \"offsetgroup\": \"15 apple, palate, fi\", \"orientation\": \"v\", \"showlegend\": true, \"textposition\": \"auto\", \"type\": \"bar\", \"x\": [80, 81, 82, 83, 84, 85, 86, 87, 88, 89, 90, 91, 92, 93, 94, 95, 96, 97, 98, 99, 100], \"xaxis\": \"x\", \"y\": [0.03113034405961378, 0.03369817857953502, 0.04135298436279791, 0.07543951040037103, 0.06544255485808514, 0.06708687975118187, 0.07487517543180572, 0.061081075488894326, 0.07244798004828729, 0.06532060059759029, 0.05248545214689058, 0.04351593552759561, 0.03012417932705393, 0.025748607250710202, 0.030024470640956508, 0.013909621590427194, 0.04150310600954951, 0.001417012413644095, 0.00132670291221675, 0.00191288766148185, 0.0012500000433216], \"yaxis\": \"y\"}, {\"alignmentgroup\": \"True\", \"hovertemplate\": \"gloss=16 fruit, aromas, fl<br>label=%{x}<br>value=%{y}<extra></extra>\", \"legendgroup\": \"16 fruit, aromas, fl\", \"marker\": {\"color\": \"#FF6692\"}, \"name\": \"16 fruit, aromas, fl\", \"offsetgroup\": \"16 fruit, aromas, fl\", \"orientation\": \"v\", \"showlegend\": true, \"textposition\": \"auto\", \"type\": \"bar\", \"x\": [80, 81, 82, 83, 84, 85, 86, 87, 88, 89, 90, 91, 92, 93, 94, 95, 96, 97, 98, 99, 100], \"xaxis\": \"x\", \"y\": [0.027267376049339518, 0.017695657547326188, 0.027085957534384753, 0.026642667147955924, 0.03394334071190192, 0.03526368411185855, 0.036556937669542836, 0.03835205777423616, 0.04062496247564521, 0.029137115210283653, 0.02209825402378193, 0.024387216133223664, 0.021173301123064224, 0.020888968560800858, 0.01923896633925804, 0.011560782223134006, 0.0015124007153659467, 0.0014170124149136681, 0.0013267029266881, 0.001912887671184575, 0.0012500000015731], \"yaxis\": \"y\"}, {\"alignmentgroup\": \"True\", \"hovertemplate\": \"gloss=17 palate, nose, win<br>label=%{x}<br>value=%{y}<extra></extra>\", \"legendgroup\": \"17 palate, nose, win\", \"marker\": {\"color\": \"#B6E880\"}, \"name\": \"17 palate, nose, win\", \"offsetgroup\": \"17 palate, nose, win\", \"orientation\": \"v\", \"showlegend\": true, \"textposition\": \"auto\", \"type\": \"bar\", \"x\": [80, 81, 82, 83, 84, 85, 86, 87, 88, 89, 90, 91, 92, 93, 94, 95, 96, 97, 98, 99, 100], \"xaxis\": \"x\", \"y\": [0.07335921646695856, 0.020213207612221055, 0.025805202328220995, 0.03429637597357424, 0.021514598536591833, 0.01906919209226657, 0.0327889635652524, 0.028859680460742883, 0.028622996133481418, 0.036407565707620805, 0.03703932086499299, 0.03851390452790469, 0.028142374959549767, 0.03999965524787882, 0.027587204475401816, 0.03594122512171282, 0.015264913788131888, 0.0014170124166580686, 0.0013267029136122, 0.001912887671093025, 0.0012500000140984], \"yaxis\": \"y\"}, {\"alignmentgroup\": \"True\", \"hovertemplate\": \"gloss=18 wine, flavors, ri<br>label=%{x}<br>value=%{y}<extra></extra>\", \"legendgroup\": \"18 wine, flavors, ri\", \"marker\": {\"color\": \"#FF97FF\"}, \"name\": \"18 wine, flavors, ri\", \"offsetgroup\": \"18 wine, flavors, ri\", \"orientation\": \"v\", \"showlegend\": true, \"textposition\": \"auto\", \"type\": \"bar\", \"x\": [80, 81, 82, 83, 84, 85, 86, 87, 88, 89, 90, 91, 92, 93, 94, 95, 96, 97, 98, 99, 100], \"xaxis\": \"x\", \"y\": [0.04913903072086402, 0.04888361768815905, 0.0847441256533331, 0.047864901092228886, 0.06595739756572583, 0.043736914944418455, 0.04733658816364331, 0.05349302440389105, 0.0460679955935251, 0.04853182679435107, 0.054392521679579905, 0.06052155234384595, 0.07007314879697078, 0.09029108399893304, 0.09030889844277473, 0.10051791616535888, 0.09279875644803894, 0.24424915673416842, 0.18999626866014957, 0.14174840313233333, 0.001250000010332], \"yaxis\": \"y\"}, {\"alignmentgroup\": \"True\", \"hovertemplate\": \"gloss=19 flavors, finish, <br>label=%{x}<br>value=%{y}<extra></extra>\", \"legendgroup\": \"19 flavors, finish, \", \"marker\": {\"color\": \"#FECB52\"}, \"name\": \"19 flavors, finish, \", \"offsetgroup\": \"19 flavors, finish, \", \"orientation\": \"v\", \"showlegend\": true, \"textposition\": \"auto\", \"type\": \"bar\", \"x\": [80, 81, 82, 83, 84, 85, 86, 87, 88, 89, 90, 91, 92, 93, 94, 95, 96, 97, 98, 99, 100], \"xaxis\": \"x\", \"y\": [0.3108214333818451, 0.2681079450107313, 0.20584440646584728, 0.21426797942858136, 0.12317611686409369, 0.12173585165715249, 0.09507620208084039, 0.07928685532686915, 0.06276893085612051, 0.0554171159583772, 0.04693493925192959, 0.047185570655960206, 0.029285341358411435, 0.023329644773756854, 0.017729289034808953, 0.011740221960068303, 0.01543689377415234, 0.0014170124121140632, 0.0013267029397711501, 0.001912887665349675, 0.0012500000060963], \"yaxis\": \"y\"}],                        {\"barmode\": \"relative\", \"legend\": {\"title\": {\"text\": \"gloss\"}, \"tracegroupgap\": 0}, \"margin\": {\"t\": 60}, \"template\": {\"data\": {\"bar\": [{\"error_x\": {\"color\": \"#2a3f5f\"}, \"error_y\": {\"color\": \"#2a3f5f\"}, \"marker\": {\"line\": {\"color\": \"#E5ECF6\", \"width\": 0.5}}, \"type\": \"bar\"}], \"barpolar\": [{\"marker\": {\"line\": {\"color\": \"#E5ECF6\", \"width\": 0.5}}, \"type\": \"barpolar\"}], \"carpet\": [{\"aaxis\": {\"endlinecolor\": \"#2a3f5f\", \"gridcolor\": \"white\", \"linecolor\": \"white\", \"minorgridcolor\": \"white\", \"startlinecolor\": \"#2a3f5f\"}, \"baxis\": {\"endlinecolor\": \"#2a3f5f\", \"gridcolor\": \"white\", \"linecolor\": \"white\", \"minorgridcolor\": \"white\", \"startlinecolor\": \"#2a3f5f\"}, \"type\": \"carpet\"}], \"choropleth\": [{\"colorbar\": {\"outlinewidth\": 0, \"ticks\": \"\"}, \"type\": \"choropleth\"}], \"contour\": [{\"colorbar\": {\"outlinewidth\": 0, \"ticks\": \"\"}, \"colorscale\": [[0.0, \"#0d0887\"], [0.1111111111111111, \"#46039f\"], [0.2222222222222222, \"#7201a8\"], [0.3333333333333333, \"#9c179e\"], [0.4444444444444444, \"#bd3786\"], [0.5555555555555556, \"#d8576b\"], [0.6666666666666666, \"#ed7953\"], [0.7777777777777778, \"#fb9f3a\"], [0.8888888888888888, \"#fdca26\"], [1.0, \"#f0f921\"]], \"type\": \"contour\"}], \"contourcarpet\": [{\"colorbar\": {\"outlinewidth\": 0, \"ticks\": \"\"}, \"type\": \"contourcarpet\"}], \"heatmap\": [{\"colorbar\": {\"outlinewidth\": 0, \"ticks\": \"\"}, \"colorscale\": [[0.0, \"#0d0887\"], [0.1111111111111111, \"#46039f\"], [0.2222222222222222, \"#7201a8\"], [0.3333333333333333, \"#9c179e\"], [0.4444444444444444, \"#bd3786\"], [0.5555555555555556, \"#d8576b\"], [0.6666666666666666, \"#ed7953\"], [0.7777777777777778, \"#fb9f3a\"], [0.8888888888888888, \"#fdca26\"], [1.0, \"#f0f921\"]], \"type\": \"heatmap\"}], \"heatmapgl\": [{\"colorbar\": {\"outlinewidth\": 0, \"ticks\": \"\"}, \"colorscale\": [[0.0, \"#0d0887\"], [0.1111111111111111, \"#46039f\"], [0.2222222222222222, \"#7201a8\"], [0.3333333333333333, \"#9c179e\"], [0.4444444444444444, \"#bd3786\"], [0.5555555555555556, \"#d8576b\"], [0.6666666666666666, \"#ed7953\"], [0.7777777777777778, \"#fb9f3a\"], [0.8888888888888888, \"#fdca26\"], [1.0, \"#f0f921\"]], \"type\": \"heatmapgl\"}], \"histogram\": [{\"marker\": {\"colorbar\": {\"outlinewidth\": 0, \"ticks\": \"\"}}, \"type\": \"histogram\"}], \"histogram2d\": [{\"colorbar\": {\"outlinewidth\": 0, \"ticks\": \"\"}, \"colorscale\": [[0.0, \"#0d0887\"], [0.1111111111111111, \"#46039f\"], [0.2222222222222222, \"#7201a8\"], [0.3333333333333333, \"#9c179e\"], [0.4444444444444444, \"#bd3786\"], [0.5555555555555556, \"#d8576b\"], [0.6666666666666666, \"#ed7953\"], [0.7777777777777778, \"#fb9f3a\"], [0.8888888888888888, \"#fdca26\"], [1.0, \"#f0f921\"]], \"type\": \"histogram2d\"}], \"histogram2dcontour\": [{\"colorbar\": {\"outlinewidth\": 0, \"ticks\": \"\"}, \"colorscale\": [[0.0, \"#0d0887\"], [0.1111111111111111, \"#46039f\"], [0.2222222222222222, \"#7201a8\"], [0.3333333333333333, \"#9c179e\"], [0.4444444444444444, \"#bd3786\"], [0.5555555555555556, \"#d8576b\"], [0.6666666666666666, \"#ed7953\"], [0.7777777777777778, \"#fb9f3a\"], [0.8888888888888888, \"#fdca26\"], [1.0, \"#f0f921\"]], \"type\": \"histogram2dcontour\"}], \"mesh3d\": [{\"colorbar\": {\"outlinewidth\": 0, \"ticks\": \"\"}, \"type\": \"mesh3d\"}], \"parcoords\": [{\"line\": {\"colorbar\": {\"outlinewidth\": 0, \"ticks\": \"\"}}, \"type\": \"parcoords\"}], \"pie\": [{\"automargin\": true, \"type\": \"pie\"}], \"scatter\": [{\"marker\": {\"colorbar\": {\"outlinewidth\": 0, \"ticks\": \"\"}}, \"type\": \"scatter\"}], \"scatter3d\": [{\"line\": {\"colorbar\": {\"outlinewidth\": 0, \"ticks\": \"\"}}, \"marker\": {\"colorbar\": {\"outlinewidth\": 0, \"ticks\": \"\"}}, \"type\": \"scatter3d\"}], \"scattercarpet\": [{\"marker\": {\"colorbar\": {\"outlinewidth\": 0, \"ticks\": \"\"}}, \"type\": \"scattercarpet\"}], \"scattergeo\": [{\"marker\": {\"colorbar\": {\"outlinewidth\": 0, \"ticks\": \"\"}}, \"type\": \"scattergeo\"}], \"scattergl\": [{\"marker\": {\"colorbar\": {\"outlinewidth\": 0, \"ticks\": \"\"}}, \"type\": \"scattergl\"}], \"scattermapbox\": [{\"marker\": {\"colorbar\": {\"outlinewidth\": 0, \"ticks\": \"\"}}, \"type\": \"scattermapbox\"}], \"scatterpolar\": [{\"marker\": {\"colorbar\": {\"outlinewidth\": 0, \"ticks\": \"\"}}, \"type\": \"scatterpolar\"}], \"scatterpolargl\": [{\"marker\": {\"colorbar\": {\"outlinewidth\": 0, \"ticks\": \"\"}}, \"type\": \"scatterpolargl\"}], \"scatterternary\": [{\"marker\": {\"colorbar\": {\"outlinewidth\": 0, \"ticks\": \"\"}}, \"type\": \"scatterternary\"}], \"surface\": [{\"colorbar\": {\"outlinewidth\": 0, \"ticks\": \"\"}, \"colorscale\": [[0.0, \"#0d0887\"], [0.1111111111111111, \"#46039f\"], [0.2222222222222222, \"#7201a8\"], [0.3333333333333333, \"#9c179e\"], [0.4444444444444444, \"#bd3786\"], [0.5555555555555556, \"#d8576b\"], [0.6666666666666666, \"#ed7953\"], [0.7777777777777778, \"#fb9f3a\"], [0.8888888888888888, \"#fdca26\"], [1.0, \"#f0f921\"]], \"type\": \"surface\"}], \"table\": [{\"cells\": {\"fill\": {\"color\": \"#EBF0F8\"}, \"line\": {\"color\": \"white\"}}, \"header\": {\"fill\": {\"color\": \"#C8D4E3\"}, \"line\": {\"color\": \"white\"}}, \"type\": \"table\"}]}, \"layout\": {\"annotationdefaults\": {\"arrowcolor\": \"#2a3f5f\", \"arrowhead\": 0, \"arrowwidth\": 1}, \"autotypenumbers\": \"strict\", \"coloraxis\": {\"colorbar\": {\"outlinewidth\": 0, \"ticks\": \"\"}}, \"colorscale\": {\"diverging\": [[0, \"#8e0152\"], [0.1, \"#c51b7d\"], [0.2, \"#de77ae\"], [0.3, \"#f1b6da\"], [0.4, \"#fde0ef\"], [0.5, \"#f7f7f7\"], [0.6, \"#e6f5d0\"], [0.7, \"#b8e186\"], [0.8, \"#7fbc41\"], [0.9, \"#4d9221\"], [1, \"#276419\"]], \"sequential\": [[0.0, \"#0d0887\"], [0.1111111111111111, \"#46039f\"], [0.2222222222222222, \"#7201a8\"], [0.3333333333333333, \"#9c179e\"], [0.4444444444444444, \"#bd3786\"], [0.5555555555555556, \"#d8576b\"], [0.6666666666666666, \"#ed7953\"], [0.7777777777777778, \"#fb9f3a\"], [0.8888888888888888, \"#fdca26\"], [1.0, \"#f0f921\"]], \"sequentialminus\": [[0.0, \"#0d0887\"], [0.1111111111111111, \"#46039f\"], [0.2222222222222222, \"#7201a8\"], [0.3333333333333333, \"#9c179e\"], [0.4444444444444444, \"#bd3786\"], [0.5555555555555556, \"#d8576b\"], [0.6666666666666666, \"#ed7953\"], [0.7777777777777778, \"#fb9f3a\"], [0.8888888888888888, \"#fdca26\"], [1.0, \"#f0f921\"]]}, \"colorway\": [\"#636efa\", \"#EF553B\", \"#00cc96\", \"#ab63fa\", \"#FFA15A\", \"#19d3f3\", \"#FF6692\", \"#B6E880\", \"#FF97FF\", \"#FECB52\"], \"font\": {\"color\": \"#2a3f5f\"}, \"geo\": {\"bgcolor\": \"white\", \"lakecolor\": \"white\", \"landcolor\": \"#E5ECF6\", \"showlakes\": true, \"showland\": true, \"subunitcolor\": \"white\"}, \"hoverlabel\": {\"align\": \"left\"}, \"hovermode\": \"closest\", \"mapbox\": {\"style\": \"light\"}, \"paper_bgcolor\": \"white\", \"plot_bgcolor\": \"#E5ECF6\", \"polar\": {\"angularaxis\": {\"gridcolor\": \"white\", \"linecolor\": \"white\", \"ticks\": \"\"}, \"bgcolor\": \"#E5ECF6\", \"radialaxis\": {\"gridcolor\": \"white\", \"linecolor\": \"white\", \"ticks\": \"\"}}, \"scene\": {\"xaxis\": {\"backgroundcolor\": \"#E5ECF6\", \"gridcolor\": \"white\", \"gridwidth\": 2, \"linecolor\": \"white\", \"showbackground\": true, \"ticks\": \"\", \"zerolinecolor\": \"white\"}, \"yaxis\": {\"backgroundcolor\": \"#E5ECF6\", \"gridcolor\": \"white\", \"gridwidth\": 2, \"linecolor\": \"white\", \"showbackground\": true, \"ticks\": \"\", \"zerolinecolor\": \"white\"}, \"zaxis\": {\"backgroundcolor\": \"#E5ECF6\", \"gridcolor\": \"white\", \"gridwidth\": 2, \"linecolor\": \"white\", \"showbackground\": true, \"ticks\": \"\", \"zerolinecolor\": \"white\"}}, \"shapedefaults\": {\"line\": {\"color\": \"#2a3f5f\"}}, \"ternary\": {\"aaxis\": {\"gridcolor\": \"white\", \"linecolor\": \"white\", \"ticks\": \"\"}, \"baxis\": {\"gridcolor\": \"white\", \"linecolor\": \"white\", \"ticks\": \"\"}, \"bgcolor\": \"#E5ECF6\", \"caxis\": {\"gridcolor\": \"white\", \"linecolor\": \"white\", \"ticks\": \"\"}}, \"title\": {\"x\": 0.05}, \"xaxis\": {\"automargin\": true, \"gridcolor\": \"white\", \"linecolor\": \"white\", \"ticks\": \"\", \"title\": {\"standoff\": 15}, \"zerolinecolor\": \"white\", \"zerolinewidth\": 2}, \"yaxis\": {\"automargin\": true, \"gridcolor\": \"white\", \"linecolor\": \"white\", \"ticks\": \"\", \"title\": {\"standoff\": 15}, \"zerolinecolor\": \"white\", \"zerolinewidth\": 2}}}, \"xaxis\": {\"anchor\": \"y\", \"domain\": [0.0, 1.0], \"title\": {\"text\": \"label\"}}, \"yaxis\": {\"anchor\": \"x\", \"domain\": [0.0, 1.0], \"title\": {\"text\": \"value\"}}},                        {\"responsive\": true}                    ).then(function(){\n",
       "                            \n",
       "var gd = document.getElementById('7293b597-22e6-495c-9351-119cddcdd154');\n",
       "var x = new MutationObserver(function (mutations, observer) {{\n",
       "        var display = window.getComputedStyle(gd).display;\n",
       "        if (!display || display === 'none') {{\n",
       "            console.log([gd, 'removed!']);\n",
       "            Plotly.purge(gd);\n",
       "            observer.disconnect();\n",
       "        }}\n",
       "}});\n",
       "\n",
       "// Listen for the removal of the full notebook cells\n",
       "var notebookContainer = gd.closest('#notebook-container');\n",
       "if (notebookContainer) {{\n",
       "    x.observe(notebookContainer, {childList: true});\n",
       "}}\n",
       "\n",
       "// Listen for the clearing of the current output cell\n",
       "var outputEl = gd.closest('.output');\n",
       "if (outputEl) {{\n",
       "    x.observe(outputEl, {childList: true});\n",
       "}}\n",
       "\n",
       "                        })                };                });            </script>        </div>"
      ]
     },
     "metadata": {},
     "output_type": "display_data"
    }
   ],
   "source": [
    "px.bar(TRENDS)"
   ]
  },
  {
   "cell_type": "code",
   "execution_count": null,
   "metadata": {},
   "outputs": [],
   "source": []
  }
 ],
 "metadata": {
  "interpreter": {
   "hash": "f109295820601b370c230c664a21a266be9eb5d7c3877a2cc38f035c84353f35"
  },
  "kernelspec": {
   "display_name": "Python 3",
   "language": "python",
   "name": "python3"
  },
  "language_info": {
   "codemirror_mode": {
    "name": "ipython",
    "version": 3
   },
   "file_extension": ".py",
   "mimetype": "text/x-python",
   "name": "python",
   "nbconvert_exporter": "python",
   "pygments_lexer": "ipython3",
   "version": "3.8.8"
  },
  "latex_envs": {
   "LaTeX_envs_menu_present": true,
   "autoclose": false,
   "autocomplete": true,
   "bibliofile": "biblio.bib",
   "cite_by": "apalike",
   "current_citInitial": 1,
   "eqLabelWithNumbers": true,
   "eqNumInitial": 1,
   "hotkeys": {
    "equation": "Ctrl-E",
    "itemize": "Ctrl-I"
   },
   "labels_anchors": false,
   "latex_user_defs": false,
   "report_style_numbering": false,
   "user_envs_cfg": false
  },
  "toc": {
   "base_numbering": 1,
   "nav_menu": {},
   "number_sections": true,
   "sideBar": true,
   "skip_h1_title": false,
   "title_cell": "Table of Contents",
   "title_sidebar": "Contents",
   "toc_cell": false,
   "toc_position": {},
   "toc_section_display": true,
   "toc_window_display": false
  },
  "varInspector": {
   "cols": {
    "lenName": 16,
    "lenType": 16,
    "lenVar": 40
   },
   "kernels_config": {
    "python": {
     "delete_cmd_postfix": "",
     "delete_cmd_prefix": "del ",
     "library": "var_list.py",
     "varRefreshCmd": "print(var_dic_list())"
    },
    "r": {
     "delete_cmd_postfix": ") ",
     "delete_cmd_prefix": "rm(",
     "library": "var_list.r",
     "varRefreshCmd": "cat(var_dic_list()) "
    }
   },
   "types_to_exclude": [
    "module",
    "function",
    "builtin_function_or_method",
    "instance",
    "_Feature"
   ],
   "window_display": false
  },
  "widgets": {
   "application/vnd.jupyter.widget-state+json": {
    "state": {},
    "version_major": 2,
    "version_minor": 0
   }
  }
 },
 "nbformat": 4,
 "nbformat_minor": 4
}
