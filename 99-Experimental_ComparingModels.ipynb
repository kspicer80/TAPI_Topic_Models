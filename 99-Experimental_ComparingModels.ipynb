{
 "cells": [
  {
   "cell_type": "markdown",
   "metadata": {},
   "source": [
    "<div style=\"font-size:200%; font-weight:bold; font-variant:small-caps;\">Topic Modeling Clustering</div>\n",
    "\n",
    "In this notebook we visualize a previously generated topic model."
   ]
  },
  {
   "cell_type": "markdown",
   "metadata": {},
   "source": [
    "# Set Up"
   ]
  },
  {
   "cell_type": "markdown",
   "metadata": {},
   "source": [
    "## Imports"
   ]
  },
  {
   "cell_type": "code",
   "execution_count": 1,
   "metadata": {},
   "outputs": [],
   "source": [
    "import pandas as pd\n",
    "import numpy as np\n",
    "from lib import tapi"
   ]
  },
  {
   "cell_type": "markdown",
   "metadata": {},
   "source": [
    "## Configuration"
   ]
  },
  {
   "cell_type": "code",
   "execution_count": 2,
   "metadata": {},
   "outputs": [
    {
     "name": "stdout",
     "output_type": "stream",
     "text": [
      "/Users/rca2t1/Dropbox/Courses/NEH/TAPI_Topic_Models\n"
     ]
    },
    {
     "data": {
      "text/plain": [
       "['jstor_hyperparameter_demo', 'tamilnet', 'winereviews']"
      ]
     },
     "execution_count": 2,
     "metadata": {},
     "output_type": "execute_result"
    }
   ],
   "source": [
    "tapi.list_dbs()"
   ]
  },
  {
   "cell_type": "code",
   "execution_count": 3,
   "metadata": {},
   "outputs": [],
   "source": [
    "data_prefix = 'winereviews'\n",
    "# data_prefix = 'jstor_hyperparameter_demo'\n",
    "# data_prefix = 'tamilnet'"
   ]
  },
  {
   "cell_type": "code",
   "execution_count": 4,
   "metadata": {},
   "outputs": [],
   "source": [
    "group_col = 'doc_points' # winereviews\n",
    "# group_col = 'doc_year' # jstor_hyperparameter\n",
    "# group_col = 'doc_label' # tamilnet"
   ]
  },
  {
   "cell_type": "code",
   "execution_count": 5,
   "metadata": {},
   "outputs": [],
   "source": [
    "db = tapi.Edition(data_prefix)"
   ]
  },
  {
   "cell_type": "markdown",
   "metadata": {},
   "source": [
    "## Import Topic Data\n",
    "\n",
    "We import our previously generated model."
   ]
  },
  {
   "cell_type": "code",
   "execution_count": 6,
   "metadata": {
    "scrolled": true
   },
   "outputs": [
    {
     "name": "stdout",
     "output_type": "stream",
     "text": [
      "LABELS\n",
      "VOCAB\n",
      "BOW\n",
      "TOPICS\n",
      "DTM\n",
      "THETA\n",
      "PHI\n",
      "TOPICS_NMF\n",
      "THETA_NMF\n",
      "PHI_NMF\n"
     ]
    },
    {
     "data": {
      "text/plain": [
       "<lib.tapi.Edition at 0x7fe8380ce730>"
      ]
     },
     "execution_count": 6,
     "metadata": {},
     "output_type": "execute_result"
    }
   ],
   "source": [
    "db.get_tables()"
   ]
  },
  {
   "cell_type": "markdown",
   "metadata": {},
   "source": [
    "## Group Topics by Label"
   ]
  },
  {
   "cell_type": "code",
   "execution_count": 7,
   "metadata": {},
   "outputs": [
    {
     "data": {
      "text/plain": [
       "Index(['doc_variety', 'doc_place', 'doc_label', 'doc_province', 'doc_title',\n",
       "       'doc_price', 'doc_points', 'doc_taster'],\n",
       "      dtype='object')"
      ]
     },
     "execution_count": 7,
     "metadata": {},
     "output_type": "execute_result"
    }
   ],
   "source": [
    "db.LABELS.columns"
   ]
  },
  {
   "cell_type": "code",
   "execution_count": 8,
   "metadata": {},
   "outputs": [],
   "source": [
    "group_vals = db.LABELS[group_col].value_counts().to_frame('n')\n",
    "group_vals.index.name = 'group_id'"
   ]
  },
  {
   "cell_type": "markdown",
   "metadata": {},
   "source": [
    "### Frequency by Group"
   ]
  },
  {
   "cell_type": "code",
   "execution_count": 9,
   "metadata": {
    "scrolled": true
   },
   "outputs": [
    {
     "data": {
      "image/png": "[encoded data removed]",
      "text/plain": [
       "<Figure size 1080x360 with 1 Axes>"
      ]
     },
     "metadata": {
      "needs_background": "light"
     },
     "output_type": "display_data"
    }
   ],
   "source": [
    "group_vals.sort_index().plot.bar(rot=45, figsize=(15,5));"
   ]
  },
  {
   "cell_type": "markdown",
   "metadata": {},
   "source": [
    "### Collapse THETA Tables"
   ]
  },
  {
   "cell_type": "code",
   "execution_count": 10,
   "metadata": {},
   "outputs": [],
   "source": [
    "G = db.THETA.join(db.LABELS).groupby(group_col)[db.topic_cols].mean()\n",
    "G.index.name = 'group_id'\n",
    "G.columns = db.TOPICS.topwords"
   ]
  },
  {
   "cell_type": "code",
   "execution_count": 11,
   "metadata": {},
   "outputs": [],
   "source": [
    "G2 = db.THETA_NMF.join(db.LABELS).groupby(group_col)[db.topic_cols].mean()\n",
    "G2.index.name = 'group_id'\n",
    "G2.columns = db.TOPICS_NMF.topwords"
   ]
  },
  {
   "cell_type": "markdown",
   "metadata": {},
   "source": [
    "### Heatmap of Labels and Topics"
   ]
  },
  {
   "cell_type": "code",
   "execution_count": 12,
   "metadata": {
    "scrolled": false
   },
   "outputs": [],
   "source": [
    "# G.style.background_gradient(cmap='YlGnBu', axis=0)"
   ]
  },
  {
   "cell_type": "code",
   "execution_count": 13,
   "metadata": {
    "scrolled": false
   },
   "outputs": [],
   "source": [
    "# G.style.background_gradient(cmap='YlGnBu', axis=1)"
   ]
  },
  {
   "cell_type": "code",
   "execution_count": 14,
   "metadata": {
    "scrolled": false
   },
   "outputs": [],
   "source": [
    "# G2.style.background_gradient(cmap='YlGnBu', axis=0)"
   ]
  },
  {
   "cell_type": "code",
   "execution_count": 15,
   "metadata": {
    "scrolled": false
   },
   "outputs": [],
   "source": [
    "# G2.style.background_gradient(cmap='YlGnBu', axis=1)"
   ]
  },
  {
   "cell_type": "markdown",
   "metadata": {},
   "source": [
    "### Top Topic per Label Group"
   ]
  },
  {
   "cell_type": "code",
   "execution_count": 16,
   "metadata": {},
   "outputs": [],
   "source": [
    "group_vals['top_topic'] = G.T[group_vals.index].idxmax()\n",
    "group_vals['top_topic2'] = G2.T[group_vals.index].idxmax()"
   ]
  },
  {
   "cell_type": "code",
   "execution_count": 17,
   "metadata": {
    "scrolled": false
   },
   "outputs": [],
   "source": [
    "# group_vals.sort_values('top_topic')"
   ]
  },
  {
   "cell_type": "markdown",
   "metadata": {},
   "source": [
    "### Top Label Group per Topic"
   ]
  },
  {
   "cell_type": "code",
   "execution_count": 18,
   "metadata": {},
   "outputs": [],
   "source": [
    "# G.idxmax().to_frame('label').sort_values('label')"
   ]
  },
  {
   "cell_type": "code",
   "execution_count": 19,
   "metadata": {},
   "outputs": [],
   "source": [
    "# G2.idxmax().to_frame('label').sort_values('label')"
   ]
  },
  {
   "cell_type": "markdown",
   "metadata": {},
   "source": [
    "## How Similar are the Topics to Each Other?\n",
    "\n",
    "Get the dot product of the two topic series over documents."
   ]
  },
  {
   "cell_type": "markdown",
   "metadata": {},
   "source": [
    "### Dot Product"
   ]
  },
  {
   "cell_type": "code",
   "execution_count": 20,
   "metadata": {},
   "outputs": [],
   "source": [
    "X = db.THETA.T.dot(db.THETA_NMF)\n",
    "X.columns = db.TOPICS_NMF.topwords\n",
    "X.index = db.TOPICS.topwords\n",
    "X.columns.name = 'NMF'\n",
    "X.index.name = 'LDA'"
   ]
  },
  {
   "cell_type": "code",
   "execution_count": 21,
   "metadata": {},
   "outputs": [],
   "source": [
    "Y = db.PHI.dot(db.PHI_NMF.T)\n",
    "Y.columns = db.TOPICS_NMF.topwords\n",
    "Y.index = db.TOPICS.topwords\n",
    "Y.columns.name = 'NMF'\n",
    "Y.index.name = 'LDA'"
   ]
  },
  {
   "cell_type": "code",
   "execution_count": 22,
   "metadata": {},
   "outputs": [],
   "source": [
    "# X"
   ]
  },
  {
   "cell_type": "code",
   "execution_count": 23,
   "metadata": {},
   "outputs": [],
   "source": [
    "X2 = X.stack().to_frame('w').sort_values('w', ascending=False)"
   ]
  },
  {
   "cell_type": "code",
   "execution_count": 24,
   "metadata": {},
   "outputs": [],
   "source": [
    "Y2 = Y.stack().to_frame('w').sort_values('w', ascending=False)"
   ]
  },
  {
   "cell_type": "code",
   "execution_count": 25,
   "metadata": {
    "scrolled": false
   },
   "outputs": [
    {
     "data": {
      "text/html": [
       "<style  type=\"text/css\" >\n",
       "#T_4465a_row0_col0{\n",
       "            width:  10em;\n",
       "             height:  80%;\n",
       "            background:  linear-gradient(90deg,#d65f5f 100.0%, transparent 100.0%);\n",
       "        }#T_4465a_row1_col0{\n",
       "            width:  10em;\n",
       "             height:  80%;\n",
       "            background:  linear-gradient(90deg,#d65f5f 59.7%, transparent 59.7%);\n",
       "        }#T_4465a_row2_col0{\n",
       "            width:  10em;\n",
       "             height:  80%;\n",
       "            background:  linear-gradient(90deg,#d65f5f 42.4%, transparent 42.4%);\n",
       "        }#T_4465a_row3_col0{\n",
       "            width:  10em;\n",
       "             height:  80%;\n",
       "            background:  linear-gradient(90deg,#d65f5f 25.7%, transparent 25.7%);\n",
       "        }#T_4465a_row4_col0{\n",
       "            width:  10em;\n",
       "             height:  80%;\n",
       "            background:  linear-gradient(90deg,#d65f5f 22.1%, transparent 22.1%);\n",
       "        }#T_4465a_row5_col0{\n",
       "            width:  10em;\n",
       "             height:  80%;\n",
       "            background:  linear-gradient(90deg,#d65f5f 20.1%, transparent 20.1%);\n",
       "        }#T_4465a_row6_col0{\n",
       "            width:  10em;\n",
       "             height:  80%;\n",
       "            background:  linear-gradient(90deg,#d65f5f 7.7%, transparent 7.7%);\n",
       "        }#T_4465a_row7_col0{\n",
       "            width:  10em;\n",
       "             height:  80%;\n",
       "            background:  linear-gradient(90deg,#d65f5f 1.6%, transparent 1.6%);\n",
       "        }#T_4465a_row8_col0{\n",
       "            width:  10em;\n",
       "             height:  80%;\n",
       "            background:  linear-gradient(90deg,#d65f5f 1.2%, transparent 1.2%);\n",
       "        }#T_4465a_row9_col0{\n",
       "            width:  10em;\n",
       "             height:  80%;\n",
       "        }</style><table id=\"T_4465a_\" ><thead>    <tr>        <th class=\"blank\" ></th>        <th class=\"blank level0\" ></th>        <th class=\"col_heading level0 col0\" >w</th>    </tr>    <tr>        <th class=\"index_name level0\" >LDA</th>        <th class=\"index_name level1\" >NMF</th>        <th class=\"blank\" ></th>    </tr></thead><tbody>\n",
       "                <tr>\n",
       "                        <th id=\"T_4465a_level0_row0\" class=\"row_heading level0 row0\" >3 wine, drink, acidity, fruits, ripe, tannins, fruit</th>\n",
       "                        <th id=\"T_4465a_level1_row0\" class=\"row_heading level1 row0\" >0 wine, fruits, ripe, rich, drink, tannins, wood</th>\n",
       "                        <td id=\"T_4465a_row0_col0\" class=\"data row0 col0\" >38.573347</td>\n",
       "            </tr>\n",
       "            <tr>\n",
       "                        <th id=\"T_4465a_level0_row1\" class=\"row_heading level0 row1\" >6 palate, cherry, tannins, black, aromas, alongside, offers</th>\n",
       "                        <th id=\"T_4465a_level1_row1\" class=\"row_heading level1 row1\" >3 tannins, alongside, palate, aromas, cherry, offers, palate offers</th>\n",
       "                        <td id=\"T_4465a_row1_col0\" class=\"data row1 col0\" >27.892149</td>\n",
       "            </tr>\n",
       "            <tr>\n",
       "                        <th id=\"T_4465a_level0_row2\" class=\"row_heading level0 row2\" >19 flavors, finish, aromas, berry, palate, plum, oak</th>\n",
       "                        <th id=\"T_4465a_level1_row2\" class=\"row_heading level1 row2\" >6 berry, finish, plum, flavors, aromas, herbal, feels</th>\n",
       "                        <td id=\"T_4465a_row2_col0\" class=\"data row2 col0\" >23.284240</td>\n",
       "            </tr>\n",
       "            <tr>\n",
       "                        <th id=\"T_4465a_level0_row3\" class=\"row_heading level0 row3\" rowspan=\"2\">3 wine, drink, acidity, fruits, ripe, tannins, fruit</th>\n",
       "                        <th id=\"T_4465a_level1_row3\" class=\"row_heading level1 row3\" >1 crisp, light, acidity, fresh, bright, wine, fruity</th>\n",
       "                        <td id=\"T_4465a_row3_col0\" class=\"data row3 col0\" >18.868995</td>\n",
       "            </tr>\n",
       "            <tr>\n",
       "                                <th id=\"T_4465a_level1_row4\" class=\"row_heading level1 row4\" >18 ready, ready drink, drink, wine ready, wine ready drink, soft, fruity</th>\n",
       "                        <td id=\"T_4465a_row4_col0\" class=\"data row4 col0\" >17.895993</td>\n",
       "            </tr>\n",
       "            <tr>\n",
       "                        <th id=\"T_4465a_level0_row5\" class=\"row_heading level0 row5\" rowspan=\"2\">4 flavors, acidity, wine, finish, peach, lemon, palate</th>\n",
       "                        <th id=\"T_4465a_level1_row5\" class=\"row_heading level1 row5\" >9 sweet, flavors, vanilla, like, pineapple, honey, soft</th>\n",
       "                        <td id=\"T_4465a_row5_col0\" class=\"data row5 col0\" >17.376843</td>\n",
       "            </tr>\n",
       "            <tr>\n",
       "                                <th id=\"T_4465a_level1_row6\" class=\"row_heading level1 row6\" >2 lemon, lime, lemon lime, grapefruit, zest, riesling, orange</th>\n",
       "                        <td id=\"T_4465a_row6_col0\" class=\"data row6 col0\" >14.073438</td>\n",
       "            </tr>\n",
       "            <tr>\n",
       "                        <th id=\"T_4465a_level0_row7\" class=\"row_heading level0 row7\" >18 wine, flavors, ripe, tannins, rich, fruit, drink</th>\n",
       "                        <th id=\"T_4465a_level1_row7\" class=\"row_heading level1 row7\" >16 cherries, blackberries, currants, years, raspberries, cola, blackberries cherries</th>\n",
       "                        <td id=\"T_4465a_row7_col0\" class=\"data row7 col0\" >12.460503</td>\n",
       "            </tr>\n",
       "            <tr>\n",
       "                        <th id=\"T_4465a_level0_row8\" class=\"row_heading level0 row8\" >4 flavors, acidity, wine, finish, peach, lemon, palate</th>\n",
       "                        <th id=\"T_4465a_level1_row8\" class=\"row_heading level1 row8\" >15 white, peach, white peach, stone, flower, citrus, stone fruit</th>\n",
       "                        <td id=\"T_4465a_row8_col0\" class=\"data row8 col0\" >12.349120</td>\n",
       "            </tr>\n",
       "            <tr>\n",
       "                        <th id=\"T_4465a_level0_row9\" class=\"row_heading level0 row9\" >15 apple, palate, finish, citrus, aromas, green, fresh</th>\n",
       "                        <th id=\"T_4465a_level1_row9\" class=\"row_heading level1 row9\" >17 apple, green, pear, green apple, apple pear, apple flavors, flavors</th>\n",
       "                        <td id=\"T_4465a_row9_col0\" class=\"data row9 col0\" >12.040231</td>\n",
       "            </tr>\n",
       "    </tbody></table>"
      ],
      "text/plain": [
       "<pandas.io.formats.style.Styler at 0x7fe81e309d60>"
      ]
     },
     "execution_count": 25,
     "metadata": {},
     "output_type": "execute_result"
    }
   ],
   "source": [
    "X2.head(10).style.bar()"
   ]
  },
  {
   "cell_type": "code",
   "execution_count": 26,
   "metadata": {
    "scrolled": false
   },
   "outputs": [
    {
     "data": {
      "text/html": [
       "<style  type=\"text/css\" >\n",
       "#T_d2b76_row0_col0{\n",
       "            width:  10em;\n",
       "             height:  80%;\n",
       "            background:  linear-gradient(90deg,#d65f5f 100.0%, transparent 100.0%);\n",
       "        }#T_d2b76_row1_col0{\n",
       "            width:  10em;\n",
       "             height:  80%;\n",
       "            background:  linear-gradient(90deg,#d65f5f 53.0%, transparent 53.0%);\n",
       "        }#T_d2b76_row2_col0{\n",
       "            width:  10em;\n",
       "             height:  80%;\n",
       "            background:  linear-gradient(90deg,#d65f5f 27.7%, transparent 27.7%);\n",
       "        }#T_d2b76_row3_col0{\n",
       "            width:  10em;\n",
       "             height:  80%;\n",
       "            background:  linear-gradient(90deg,#d65f5f 19.8%, transparent 19.8%);\n",
       "        }#T_d2b76_row4_col0{\n",
       "            width:  10em;\n",
       "             height:  80%;\n",
       "            background:  linear-gradient(90deg,#d65f5f 16.1%, transparent 16.1%);\n",
       "        }#T_d2b76_row5_col0{\n",
       "            width:  10em;\n",
       "             height:  80%;\n",
       "            background:  linear-gradient(90deg,#d65f5f 15.3%, transparent 15.3%);\n",
       "        }#T_d2b76_row6_col0{\n",
       "            width:  10em;\n",
       "             height:  80%;\n",
       "            background:  linear-gradient(90deg,#d65f5f 5.4%, transparent 5.4%);\n",
       "        }#T_d2b76_row7_col0{\n",
       "            width:  10em;\n",
       "             height:  80%;\n",
       "            background:  linear-gradient(90deg,#d65f5f 3.8%, transparent 3.8%);\n",
       "        }#T_d2b76_row8_col0{\n",
       "            width:  10em;\n",
       "             height:  80%;\n",
       "            background:  linear-gradient(90deg,#d65f5f 0.8%, transparent 0.8%);\n",
       "        }#T_d2b76_row9_col0{\n",
       "            width:  10em;\n",
       "             height:  80%;\n",
       "        }</style><table id=\"T_d2b76_\" ><thead>    <tr>        <th class=\"blank\" ></th>        <th class=\"blank level0\" ></th>        <th class=\"col_heading level0 col0\" >w</th>    </tr>    <tr>        <th class=\"index_name level0\" >LDA</th>        <th class=\"index_name level1\" >NMF</th>        <th class=\"blank\" ></th>    </tr></thead><tbody>\n",
       "                <tr>\n",
       "                        <th id=\"T_d2b76_level0_row0\" class=\"row_heading level0 row0\" rowspan=\"2\">3 wine, drink, acidity, fruits, ripe, tannins, fruit</th>\n",
       "                        <th id=\"T_d2b76_level1_row0\" class=\"row_heading level1 row0\" >0 wine, fruits, ripe, rich, drink, tannins, wood</th>\n",
       "                        <td id=\"T_d2b76_row0_col0\" class=\"data row0 col0\" >13177.569552</td>\n",
       "            </tr>\n",
       "            <tr>\n",
       "                                <th id=\"T_d2b76_level1_row1\" class=\"row_heading level1 row1\" >1 crisp, light, acidity, fresh, bright, wine, fruity</th>\n",
       "                        <td id=\"T_d2b76_row1_col0\" class=\"data row1 col0\" >8547.719908</td>\n",
       "            </tr>\n",
       "            <tr>\n",
       "                        <th id=\"T_d2b76_level0_row2\" class=\"row_heading level0 row2\" >19 flavors, finish, aromas, berry, palate, plum, oak</th>\n",
       "                        <th id=\"T_d2b76_level1_row2\" class=\"row_heading level1 row2\" >6 berry, finish, plum, flavors, aromas, herbal, feels</th>\n",
       "                        <td id=\"T_d2b76_row2_col0\" class=\"data row2 col0\" >6060.047086</td>\n",
       "            </tr>\n",
       "            <tr>\n",
       "                        <th id=\"T_d2b76_level0_row3\" class=\"row_heading level0 row3\" >3 wine, drink, acidity, fruits, ripe, tannins, fruit</th>\n",
       "                        <th id=\"T_d2b76_level1_row3\" class=\"row_heading level1 row3\" >18 ready, ready drink, drink, wine ready, wine ready drink, soft, fruity</th>\n",
       "                        <td id=\"T_d2b76_row3_col0\" class=\"data row3 col0\" >5281.920498</td>\n",
       "            </tr>\n",
       "            <tr>\n",
       "                        <th id=\"T_d2b76_level0_row4\" class=\"row_heading level0 row4\" >4 flavors, acidity, wine, finish, peach, lemon, palate</th>\n",
       "                        <th id=\"T_d2b76_level1_row4\" class=\"row_heading level1 row4\" >9 sweet, flavors, vanilla, like, pineapple, honey, soft</th>\n",
       "                        <td id=\"T_d2b76_row4_col0\" class=\"data row4 col0\" >4913.759504</td>\n",
       "            </tr>\n",
       "            <tr>\n",
       "                        <th id=\"T_d2b76_level0_row5\" class=\"row_heading level0 row5\" >6 palate, cherry, tannins, black, aromas, alongside, offers</th>\n",
       "                        <th id=\"T_d2b76_level1_row5\" class=\"row_heading level1 row5\" >3 tannins, alongside, palate, aromas, cherry, offers, palate offers</th>\n",
       "                        <td id=\"T_d2b76_row5_col0\" class=\"data row5 col0\" >4842.191830</td>\n",
       "            </tr>\n",
       "            <tr>\n",
       "                        <th id=\"T_d2b76_level0_row6\" class=\"row_heading level0 row6\" >4 flavors, acidity, wine, finish, peach, lemon, palate</th>\n",
       "                        <th id=\"T_d2b76_level1_row6\" class=\"row_heading level1 row6\" >1 crisp, light, acidity, fresh, bright, wine, fruity</th>\n",
       "                        <td id=\"T_d2b76_row6_col0\" class=\"data row6 col0\" >3862.186932</td>\n",
       "            </tr>\n",
       "            <tr>\n",
       "                        <th id=\"T_d2b76_level0_row7\" class=\"row_heading level0 row7\" >6 palate, cherry, tannins, black, aromas, alongside, offers</th>\n",
       "                        <th id=\"T_d2b76_level1_row7\" class=\"row_heading level1 row7\" >7 black, black cherry, cherry, pepper, black pepper, blackberry, currant</th>\n",
       "                        <td id=\"T_d2b76_row7_col0\" class=\"data row7 col0\" >3705.886859</td>\n",
       "            </tr>\n",
       "            <tr>\n",
       "                        <th id=\"T_d2b76_level0_row8\" class=\"row_heading level0 row8\" >15 apple, palate, finish, citrus, aromas, green, fresh</th>\n",
       "                        <th id=\"T_d2b76_level1_row8\" class=\"row_heading level1 row8\" >17 apple, green, pear, green apple, apple pear, apple flavors, flavors</th>\n",
       "                        <td id=\"T_d2b76_row8_col0\" class=\"data row8 col0\" >3415.147006</td>\n",
       "            </tr>\n",
       "            <tr>\n",
       "                        <th id=\"T_d2b76_level0_row9\" class=\"row_heading level0 row9\" >12 cabernet, sauvignon, cabernet sauvignon, blend, merlot, franc, cabernet franc</th>\n",
       "                        <th id=\"T_d2b76_level1_row9\" class=\"row_heading level1 row9\" >4 cabernet, sauvignon, cabernet sauvignon, blend, merlot, franc, cabernet franc</th>\n",
       "                        <td id=\"T_d2b76_row9_col0\" class=\"data row9 col0\" >3331.574346</td>\n",
       "            </tr>\n",
       "    </tbody></table>"
      ],
      "text/plain": [
       "<pandas.io.formats.style.Styler at 0x7fe81e7a9850>"
      ]
     },
     "execution_count": 26,
     "metadata": {},
     "output_type": "execute_result"
    }
   ],
   "source": [
    "Y2.head(10).style.bar()"
   ]
  },
  {
   "cell_type": "code",
   "execution_count": 27,
   "metadata": {},
   "outputs": [
    {
     "data": {
      "text/plain": [
       "<AxesSubplot:>"
      ]
     },
     "execution_count": 27,
     "metadata": {},
     "output_type": "execute_result"
    },
    {
     "data": {
      "image/png": "[encoded data removed]",
      "text/plain": [
       "<Figure size 432x288 with 1 Axes>"
      ]
     },
     "metadata": {
      "needs_background": "light"
     },
     "output_type": "display_data"
    }
   ],
   "source": [
    "X2['w'].reset_index()['w'].plot()"
   ]
  },
  {
   "cell_type": "code",
   "execution_count": 28,
   "metadata": {},
   "outputs": [
    {
     "data": {
      "text/plain": [
       "<AxesSubplot:>"
      ]
     },
     "execution_count": 28,
     "metadata": {},
     "output_type": "execute_result"
    },
    {
     "data": {
      "image/png": "[encoded data removed]",
      "text/plain": [
       "<Figure size 432x288 with 1 Axes>"
      ]
     },
     "metadata": {
      "needs_background": "light"
     },
     "output_type": "display_data"
    }
   ],
   "source": [
    "Y2['w'].reset_index()['w'].plot()"
   ]
  },
  {
   "cell_type": "markdown",
   "metadata": {},
   "source": [
    "## Bigraph Visualization \n",
    "\n",
    "Createa a bigraph of the LDA and NMF topics based on their co-occurrence as top topics for a given group. "
   ]
  },
  {
   "cell_type": "code",
   "execution_count": 29,
   "metadata": {},
   "outputs": [],
   "source": [
    "import pydot\n",
    "from IPython.display import SVG, display"
   ]
  },
  {
   "cell_type": "markdown",
   "metadata": {},
   "source": [
    "### By Group Co-occurrence"
   ]
  },
  {
   "cell_type": "code",
   "execution_count": 30,
   "metadata": {},
   "outputs": [],
   "source": [
    "group_vals['t1'] = group_vals.top_topic.str.extract(r\"^(\\d+):?\\s\").astype('int')\n",
    "group_vals['t2'] = group_vals.top_topic2.str.extract(r\"^(\\d+):?\\s\").astype('int')"
   ]
  },
  {
   "cell_type": "code",
   "execution_count": 31,
   "metadata": {},
   "outputs": [],
   "source": [
    "db.TOPICS['type'] = 'LDA'\n",
    "db.TOPICS_NMF['type'] = 'NMF'"
   ]
  },
  {
   "cell_type": "code",
   "execution_count": 32,
   "metadata": {},
   "outputs": [],
   "source": [
    "E = group_vals.groupby(['t1', 't2']).n.sum().to_frame()"
   ]
  },
  {
   "cell_type": "code",
   "execution_count": 33,
   "metadata": {},
   "outputs": [],
   "source": [
    "used_nodes = {'LDA': set(E.reset_index().t1), \n",
    "              'NMF': set(E.reset_index().t2)}"
   ]
  },
  {
   "cell_type": "code",
   "execution_count": 34,
   "metadata": {},
   "outputs": [
    {
     "data": {
      "text/plain": [
       "{'LDA': {3, 18, 19}, 'NMF': {0, 1, 3, 4, 6, 9, 13}}"
      ]
     },
     "execution_count": 34,
     "metadata": {},
     "output_type": "execute_result"
    }
   ],
   "source": [
    "used_nodes"
   ]
  },
  {
   "cell_type": "code",
   "execution_count": 35,
   "metadata": {},
   "outputs": [],
   "source": [
    "graph = pydot.Dot('topic_graph', graph_type='graph', rankdir=\"LR\")\n",
    "\n",
    "def add_edge(x):\n",
    "    global graph    \n",
    "    t1_id = 'LDA' + str(x.t1)\n",
    "    t2_id = 'NMF' + str(x.t2)\n",
    "    graph.add_edge(pydot.Edge(t1_id, t2_id,\n",
    "        label=x.n, \n",
    "        color='lightgray', \n",
    "        fontsize=10, \n",
    "        penwidth=np.log2(x.n),\n",
    "        fontcolor='green',\n",
    "        fontname='Arial')) \n",
    "\n",
    "_ = E.reset_index().apply(add_edge, 1)\n",
    "\n",
    "def add_node(x):\n",
    "    global graph\n",
    "    node_id = x.type + str(x.name)\n",
    "    node_label = x.type + \" \" + x.topwords.replace(\", \", \"\\n\")\n",
    "    graph.add_node(pydot.Node(node_id, \n",
    "        label=node_label,\n",
    "        shape='plain',\n",
    "        fontname='Arial'))\n",
    "\n",
    "_ = db.TOPICS.loc[used_nodes['LDA']].apply(add_node, 1)\n",
    "_ = db.TOPICS_NMF.loc[used_nodes['NMF']].apply(add_node, 1)"
   ]
  },
  {
   "cell_type": "code",
   "execution_count": 36,
   "metadata": {},
   "outputs": [
    {
     "data": {
      "image/svg+xml": [
       "<svg xmlns=\"http://www.w3.org/2000/svg\" xmlns:xlink=\"http://www.w3.org/1999/xlink\" width=\"272pt\" height=\"851pt\" viewBox=\"0.00 0.00 272.00 851.00\">\n",
       "<g id=\"graph0\" class=\"graph\" transform=\"scale(1 1) rotate(0) translate(4 847)\">\n",
       "<title>topic_graph</title>\n",
       "<polygon fill=\"white\" stroke=\"transparent\" points=\"-4,4 -4,-847 268,-847 268,4 -4,4\"/>\n",
       "<!-- LDA3 -->\n",
       "<g id=\"node1\" class=\"node\">\n",
       "<title>LDA3</title>\n",
       "<text text-anchor=\"middle\" x=\"44\" y=\"-462.8\" font-family=\"Arial\" font-size=\"14.00\">LDA 3 wine</text>\n",
       "<text text-anchor=\"middle\" x=\"44\" y=\"-447.8\" font-family=\"Arial\" font-size=\"14.00\">drink</text>\n",
       "<text text-anchor=\"middle\" x=\"44\" y=\"-432.8\" font-family=\"Arial\" font-size=\"14.00\">acidity</text>\n",
       "<text text-anchor=\"middle\" x=\"44\" y=\"-417.8\" font-family=\"Arial\" font-size=\"14.00\">fruits</text>\n",
       "<text text-anchor=\"middle\" x=\"44\" y=\"-402.8\" font-family=\"Arial\" font-size=\"14.00\">ripe</text>\n",
       "<text text-anchor=\"middle\" x=\"44\" y=\"-387.8\" font-family=\"Arial\" font-size=\"14.00\">tannins</text>\n",
       "<text text-anchor=\"middle\" x=\"44\" y=\"-372.8\" font-family=\"Arial\" font-size=\"14.00\">fruit</text>\n",
       "</g>\n",
       "<!-- NMF0 -->\n",
       "<g id=\"node2\" class=\"node\">\n",
       "<title>NMF0</title>\n",
       "<text text-anchor=\"middle\" x=\"205\" y=\"-708.8\" font-family=\"Arial\" font-size=\"14.00\">NMF 0 wine</text>\n",
       "<text text-anchor=\"middle\" x=\"205\" y=\"-693.8\" font-family=\"Arial\" font-size=\"14.00\">fruits</text>\n",
       "<text text-anchor=\"middle\" x=\"205\" y=\"-678.8\" font-family=\"Arial\" font-size=\"14.00\">ripe</text>\n",
       "<text text-anchor=\"middle\" x=\"205\" y=\"-663.8\" font-family=\"Arial\" font-size=\"14.00\">rich</text>\n",
       "<text text-anchor=\"middle\" x=\"205\" y=\"-648.8\" font-family=\"Arial\" font-size=\"14.00\">drink</text>\n",
       "<text text-anchor=\"middle\" x=\"205\" y=\"-633.8\" font-family=\"Arial\" font-size=\"14.00\">tannins</text>\n",
       "<text text-anchor=\"middle\" x=\"205\" y=\"-618.8\" font-family=\"Arial\" font-size=\"14.00\">wood</text>\n",
       "</g>\n",
       "<!-- LDA3&#45;&#45;NMF0 -->\n",
       "<g id=\"edge1\" class=\"edge\">\n",
       "<title>LDA3--NMF0</title>\n",
       "<path fill=\"none\" stroke=\"lightgray\" stroke-width=\"12.24\" d=\"M69.23,-474.31C87.86,-512.55 115.5,-564.66 146,-606.5 152.63,-615.59 160.52,-624.73 168.31,-633.07\"/>\n",
       "<text text-anchor=\"middle\" x=\"117\" y=\"-580.5\" font-family=\"Arial\" font-size=\"10.00\" fill=\"green\">4833</text>\n",
       "</g>\n",
       "<!-- NMF1 -->\n",
       "<g id=\"node3\" class=\"node\">\n",
       "<title>NMF1</title>\n",
       "<text text-anchor=\"middle\" x=\"205\" y=\"-216.8\" font-family=\"Arial\" font-size=\"14.00\">NMF 1 crisp</text>\n",
       "<text text-anchor=\"middle\" x=\"205\" y=\"-201.8\" font-family=\"Arial\" font-size=\"14.00\">light</text>\n",
       "<text text-anchor=\"middle\" x=\"205\" y=\"-186.8\" font-family=\"Arial\" font-size=\"14.00\">acidity</text>\n",
       "<text text-anchor=\"middle\" x=\"205\" y=\"-171.8\" font-family=\"Arial\" font-size=\"14.00\">fresh</text>\n",
       "<text text-anchor=\"middle\" x=\"205\" y=\"-156.8\" font-family=\"Arial\" font-size=\"14.00\">bright</text>\n",
       "<text text-anchor=\"middle\" x=\"205\" y=\"-141.8\" font-family=\"Arial\" font-size=\"14.00\">wine</text>\n",
       "<text text-anchor=\"middle\" x=\"205\" y=\"-126.8\" font-family=\"Arial\" font-size=\"14.00\">fruity</text>\n",
       "</g>\n",
       "<!-- LDA3&#45;&#45;NMF1 -->\n",
       "<g id=\"edge2\" class=\"edge\">\n",
       "<title>LDA3--NMF1</title>\n",
       "<path fill=\"none\" stroke=\"lightgray\" stroke-width=\"9.87\" d=\"M54.81,-368.74C65.83,-314.62 84.94,-235.24 106,-212.5 122.06,-195.15 147.08,-185.88 167.82,-180.96\"/>\n",
       "<text text-anchor=\"middle\" x=\"117\" y=\"-215.5\" font-family=\"Arial\" font-size=\"10.00\" fill=\"green\">939</text>\n",
       "</g>\n",
       "<!-- NMF3 -->\n",
       "<g id=\"node4\" class=\"node\">\n",
       "<title>NMF3</title>\n",
       "<text text-anchor=\"middle\" x=\"205\" y=\"-585.8\" font-family=\"Arial\" font-size=\"14.00\">NMF 3 tannins</text>\n",
       "<text text-anchor=\"middle\" x=\"205\" y=\"-570.8\" font-family=\"Arial\" font-size=\"14.00\">alongside</text>\n",
       "<text text-anchor=\"middle\" x=\"205\" y=\"-555.8\" font-family=\"Arial\" font-size=\"14.00\">palate</text>\n",
       "<text text-anchor=\"middle\" x=\"205\" y=\"-540.8\" font-family=\"Arial\" font-size=\"14.00\">aromas</text>\n",
       "<text text-anchor=\"middle\" x=\"205\" y=\"-525.8\" font-family=\"Arial\" font-size=\"14.00\">cherry</text>\n",
       "<text text-anchor=\"middle\" x=\"205\" y=\"-510.8\" font-family=\"Arial\" font-size=\"14.00\">offers</text>\n",
       "<text text-anchor=\"middle\" x=\"205\" y=\"-495.8\" font-family=\"Arial\" font-size=\"14.00\">palate offers</text>\n",
       "</g>\n",
       "<!-- LDA3&#45;&#45;NMF3 -->\n",
       "<g id=\"edge3\" class=\"edge\">\n",
       "<title>LDA3--NMF3</title>\n",
       "<path fill=\"none\" stroke=\"lightgray\" stroke-width=\"10.33\" d=\"M78.72,-447.59C102.51,-465.99 134.6,-490.82 160.35,-510.73\"/>\n",
       "<text text-anchor=\"middle\" x=\"117\" y=\"-485.5\" font-family=\"Arial\" font-size=\"10.00\" fill=\"green\">1288</text>\n",
       "</g>\n",
       "<!-- NMF6 -->\n",
       "<g id=\"node5\" class=\"node\">\n",
       "<title>NMF6</title>\n",
       "<text text-anchor=\"middle\" x=\"205\" y=\"-339.8\" font-family=\"Arial\" font-size=\"14.00\">NMF 6 berry</text>\n",
       "<text text-anchor=\"middle\" x=\"205\" y=\"-324.8\" font-family=\"Arial\" font-size=\"14.00\">finish</text>\n",
       "<text text-anchor=\"middle\" x=\"205\" y=\"-309.8\" font-family=\"Arial\" font-size=\"14.00\">plum</text>\n",
       "<text text-anchor=\"middle\" x=\"205\" y=\"-294.8\" font-family=\"Arial\" font-size=\"14.00\">flavors</text>\n",
       "<text text-anchor=\"middle\" x=\"205\" y=\"-279.8\" font-family=\"Arial\" font-size=\"14.00\">aromas</text>\n",
       "<text text-anchor=\"middle\" x=\"205\" y=\"-264.8\" font-family=\"Arial\" font-size=\"14.00\">herbal</text>\n",
       "<text text-anchor=\"middle\" x=\"205\" y=\"-249.8\" font-family=\"Arial\" font-size=\"14.00\">feels</text>\n",
       "</g>\n",
       "<!-- LDA3&#45;&#45;NMF6 -->\n",
       "<g id=\"edge4\" class=\"edge\">\n",
       "<title>LDA3--NMF6</title>\n",
       "<path fill=\"none\" stroke=\"lightgray\" stroke-width=\"10.99\" d=\"M78.72,-395.41C104.61,-375.39 140.32,-347.76 167,-327.12\"/>\n",
       "<text text-anchor=\"middle\" x=\"117\" y=\"-373.5\" font-family=\"Arial\" font-size=\"10.00\" fill=\"green\">2036</text>\n",
       "</g>\n",
       "<!-- NMF9 -->\n",
       "<g id=\"node6\" class=\"node\">\n",
       "<title>NMF9</title>\n",
       "<text text-anchor=\"middle\" x=\"205\" y=\"-93.8\" font-family=\"Arial\" font-size=\"14.00\">NMF 9 sweet</text>\n",
       "<text text-anchor=\"middle\" x=\"205\" y=\"-78.8\" font-family=\"Arial\" font-size=\"14.00\">flavors</text>\n",
       "<text text-anchor=\"middle\" x=\"205\" y=\"-63.8\" font-family=\"Arial\" font-size=\"14.00\">vanilla</text>\n",
       "<text text-anchor=\"middle\" x=\"205\" y=\"-48.8\" font-family=\"Arial\" font-size=\"14.00\">like</text>\n",
       "<text text-anchor=\"middle\" x=\"205\" y=\"-33.8\" font-family=\"Arial\" font-size=\"14.00\">pineapple</text>\n",
       "<text text-anchor=\"middle\" x=\"205\" y=\"-18.8\" font-family=\"Arial\" font-size=\"14.00\">honey</text>\n",
       "<text text-anchor=\"middle\" x=\"205\" y=\"-3.8\" font-family=\"Arial\" font-size=\"14.00\">soft</text>\n",
       "</g>\n",
       "<!-- LDA3&#45;&#45;NMF9 -->\n",
       "<g id=\"edge5\" class=\"edge\">\n",
       "<title>LDA3--NMF9</title>\n",
       "<path fill=\"none\" stroke=\"lightgray\" stroke-width=\"8.84\" d=\"M76.41,-368.92C94.37,-336.46 115.69,-293.34 128,-252.5 145.97,-192.85 119.21,-169.74 146,-113.5 150.59,-103.87 157.27,-94.77 164.49,-86.68\"/>\n",
       "<text text-anchor=\"middle\" x=\"117\" y=\"-308.5\" font-family=\"Arial\" font-size=\"10.00\" fill=\"green\">458</text>\n",
       "</g>\n",
       "<!-- NMF13 -->\n",
       "<g id=\"node7\" class=\"node\">\n",
       "<title>NMF13</title>\n",
       "<text text-anchor=\"middle\" x=\"205\" y=\"-462.8\" font-family=\"Arial\" font-size=\"14.00\">NMF 13 pinot</text>\n",
       "<text text-anchor=\"middle\" x=\"205\" y=\"-447.8\" font-family=\"Arial\" font-size=\"14.00\">noir</text>\n",
       "<text text-anchor=\"middle\" x=\"205\" y=\"-432.8\" font-family=\"Arial\" font-size=\"14.00\">pinot noir</text>\n",
       "<text text-anchor=\"middle\" x=\"205\" y=\"-417.8\" font-family=\"Arial\" font-size=\"14.00\">cherry</text>\n",
       "<text text-anchor=\"middle\" x=\"205\" y=\"-402.8\" font-family=\"Arial\" font-size=\"14.00\">silky</text>\n",
       "<text text-anchor=\"middle\" x=\"205\" y=\"-387.8\" font-family=\"Arial\" font-size=\"14.00\">raspberry</text>\n",
       "<text text-anchor=\"middle\" x=\"205\" y=\"-372.8\" font-family=\"Arial\" font-size=\"14.00\">cola</text>\n",
       "</g>\n",
       "<!-- LDA3&#45;&#45;NMF13 -->\n",
       "<g id=\"edge6\" class=\"edge\">\n",
       "<title>LDA3--NMF13</title>\n",
       "<path fill=\"none\" stroke=\"lightgray\" stroke-width=\"0\" d=\"M78.72,-421.5C103.61,-421.5 137.57,-421.5 163.86,-421.5\"/>\n",
       "<text text-anchor=\"middle\" x=\"117\" y=\"-424.5\" font-family=\"Arial\" font-size=\"10.00\" fill=\"green\">1</text>\n",
       "</g>\n",
       "<!-- LDA18 -->\n",
       "<g id=\"node8\" class=\"node\">\n",
       "<title>LDA18</title>\n",
       "<text text-anchor=\"middle\" x=\"44\" y=\"-770.8\" font-family=\"Arial\" font-size=\"14.00\">LDA 18 wine</text>\n",
       "<text text-anchor=\"middle\" x=\"44\" y=\"-755.8\" font-family=\"Arial\" font-size=\"14.00\">flavors</text>\n",
       "<text text-anchor=\"middle\" x=\"44\" y=\"-740.8\" font-family=\"Arial\" font-size=\"14.00\">ripe</text>\n",
       "<text text-anchor=\"middle\" x=\"44\" y=\"-725.8\" font-family=\"Arial\" font-size=\"14.00\">tannins</text>\n",
       "<text text-anchor=\"middle\" x=\"44\" y=\"-710.8\" font-family=\"Arial\" font-size=\"14.00\">rich</text>\n",
       "<text text-anchor=\"middle\" x=\"44\" y=\"-695.8\" font-family=\"Arial\" font-size=\"14.00\">fruit</text>\n",
       "<text text-anchor=\"middle\" x=\"44\" y=\"-680.8\" font-family=\"Arial\" font-size=\"14.00\">drink</text>\n",
       "</g>\n",
       "<!-- LDA18&#45;&#45;NMF0 -->\n",
       "<g id=\"edge7\" class=\"edge\">\n",
       "<title>LDA18--NMF0</title>\n",
       "<path fill=\"none\" stroke=\"lightgray\" stroke-width=\"4.25\" d=\"M82.28,-714.96C108.25,-704.83 142.7,-691.4 168.32,-681.41\"/>\n",
       "<text text-anchor=\"middle\" x=\"117\" y=\"-706.5\" font-family=\"Arial\" font-size=\"10.00\" fill=\"green\">19</text>\n",
       "</g>\n",
       "<!-- NMF4 -->\n",
       "<g id=\"node9\" class=\"node\">\n",
       "<title>NMF4</title>\n",
       "<text text-anchor=\"middle\" x=\"205\" y=\"-831.8\" font-family=\"Arial\" font-size=\"14.00\">NMF 4 cabernet</text>\n",
       "<text text-anchor=\"middle\" x=\"205\" y=\"-816.8\" font-family=\"Arial\" font-size=\"14.00\">sauvignon</text>\n",
       "<text text-anchor=\"middle\" x=\"205\" y=\"-801.8\" font-family=\"Arial\" font-size=\"14.00\">cabernet sauvignon</text>\n",
       "<text text-anchor=\"middle\" x=\"205\" y=\"-786.8\" font-family=\"Arial\" font-size=\"14.00\">blend</text>\n",
       "<text text-anchor=\"middle\" x=\"205\" y=\"-771.8\" font-family=\"Arial\" font-size=\"14.00\">merlot</text>\n",
       "<text text-anchor=\"middle\" x=\"205\" y=\"-756.8\" font-family=\"Arial\" font-size=\"14.00\">franc</text>\n",
       "<text text-anchor=\"middle\" x=\"205\" y=\"-741.8\" font-family=\"Arial\" font-size=\"14.00\">cabernet franc</text>\n",
       "</g>\n",
       "<!-- LDA18&#45;&#45;NMF4 -->\n",
       "<g id=\"edge8\" class=\"edge\">\n",
       "<title>LDA18--NMF4</title>\n",
       "<path fill=\"none\" stroke=\"lightgray\" stroke-width=\"2\" d=\"M82.28,-743.8C101.19,-751.06 124.58,-760.03 145.8,-768.17\"/>\n",
       "<text text-anchor=\"middle\" x=\"117\" y=\"-762.5\" font-family=\"Arial\" font-size=\"10.00\" fill=\"green\">4</text>\n",
       "</g>\n",
       "<!-- LDA19 -->\n",
       "<g id=\"node10\" class=\"node\">\n",
       "<title>LDA19</title>\n",
       "<text text-anchor=\"middle\" x=\"44\" y=\"-217.8\" font-family=\"Arial\" font-size=\"14.00\">LDA 19 flavors</text>\n",
       "<text text-anchor=\"middle\" x=\"44\" y=\"-202.8\" font-family=\"Arial\" font-size=\"14.00\">finish</text>\n",
       "<text text-anchor=\"middle\" x=\"44\" y=\"-187.8\" font-family=\"Arial\" font-size=\"14.00\">aromas</text>\n",
       "<text text-anchor=\"middle\" x=\"44\" y=\"-172.8\" font-family=\"Arial\" font-size=\"14.00\">berry</text>\n",
       "<text text-anchor=\"middle\" x=\"44\" y=\"-157.8\" font-family=\"Arial\" font-size=\"14.00\">palate</text>\n",
       "<text text-anchor=\"middle\" x=\"44\" y=\"-142.8\" font-family=\"Arial\" font-size=\"14.00\">plum</text>\n",
       "<text text-anchor=\"middle\" x=\"44\" y=\"-127.8\" font-family=\"Arial\" font-size=\"14.00\">oak</text>\n",
       "</g>\n",
       "<!-- LDA19&#45;&#45;NMF6 -->\n",
       "<g id=\"edge9\" class=\"edge\">\n",
       "<title>LDA19--NMF6</title>\n",
       "<path fill=\"none\" stroke=\"lightgray\" stroke-width=\"8.42\" d=\"M88.03,-209.51C112.68,-228.43 143.3,-251.92 166.88,-270.02\"/>\n",
       "<text text-anchor=\"middle\" x=\"117\" y=\"-240.5\" font-family=\"Arial\" font-size=\"10.00\" fill=\"green\">343</text>\n",
       "</g>\n",
       "<!-- LDA19&#45;&#45;NMF9 -->\n",
       "<g id=\"edge10\" class=\"edge\">\n",
       "<title>LDA19--NMF9</title>\n",
       "<path fill=\"none\" stroke=\"lightgray\" stroke-width=\"6.3\" d=\"M88.03,-142.94C111.85,-124.37 141.25,-101.44 164.48,-83.32\"/>\n",
       "<text text-anchor=\"middle\" x=\"117\" y=\"-129.5\" font-family=\"Arial\" font-size=\"10.00\" fill=\"green\">79</text>\n",
       "</g>\n",
       "</g>\n",
       "</svg>"
      ],
      "text/plain": [
       "<IPython.core.display.SVG object>"
      ]
     },
     "metadata": {},
     "output_type": "display_data"
    }
   ],
   "source": [
    "display(SVG(graph.create_svg()))"
   ]
  },
  {
   "cell_type": "code",
   "execution_count": 37,
   "metadata": {},
   "outputs": [
    {
     "data": {
      "text/plain": [
       "<AxesSubplot:xlabel='t1,t2'>"
      ]
     },
     "execution_count": 37,
     "metadata": {},
     "output_type": "execute_result"
    },
    {
     "data": {
      "image/png": "[encoded data removed]",
      "text/plain": [
       "<Figure size 432x288 with 1 Axes>"
      ]
     },
     "metadata": {
      "needs_background": "light"
     },
     "output_type": "display_data"
    }
   ],
   "source": [
    "E.sort_values('n', ascending=False).plot.bar(rot=45)"
   ]
  },
  {
   "cell_type": "markdown",
   "metadata": {},
   "source": [
    "### By Dot Product"
   ]
  },
  {
   "cell_type": "code",
   "execution_count": 38,
   "metadata": {},
   "outputs": [],
   "source": [
    "X3 = X2.reset_index()\n",
    "X3['t1'] = X3.LDA.str.extract(\"^(\\d+)\")\n",
    "X3['t2'] = X3.NMF.str.extract(\"^(\\d+)\")\n",
    "X3 = X3.groupby(['t1','t2']).w.sum().to_frame('w_sum').reset_index()"
   ]
  },
  {
   "cell_type": "code",
   "execution_count": 39,
   "metadata": {},
   "outputs": [
    {
     "data": {
      "text/html": [
       "<div>\n",
       "<style scoped>\n",
       "    .dataframe tbody tr th:only-of-type {\n",
       "        vertical-align: middle;\n",
       "    }\n",
       "\n",
       "    .dataframe tbody tr th {\n",
       "        vertical-align: top;\n",
       "    }\n",
       "\n",
       "    .dataframe thead th {\n",
       "        text-align: right;\n",
       "    }\n",
       "</style>\n",
       "<table border=\"1\" class=\"dataframe\">\n",
       "  <thead>\n",
       "    <tr style=\"text-align: right;\">\n",
       "      <th></th>\n",
       "      <th>t1</th>\n",
       "      <th>t2</th>\n",
       "      <th>w_sum</th>\n",
       "    </tr>\n",
       "  </thead>\n",
       "  <tbody>\n",
       "    <tr>\n",
       "      <th>260</th>\n",
       "      <td>3</td>\n",
       "      <td>0</td>\n",
       "      <td>38.573347</td>\n",
       "    </tr>\n",
       "    <tr>\n",
       "      <th>333</th>\n",
       "      <td>6</td>\n",
       "      <td>3</td>\n",
       "      <td>27.892149</td>\n",
       "    </tr>\n",
       "    <tr>\n",
       "      <th>236</th>\n",
       "      <td>19</td>\n",
       "      <td>6</td>\n",
       "      <td>23.284240</td>\n",
       "    </tr>\n",
       "    <tr>\n",
       "      <th>261</th>\n",
       "      <td>3</td>\n",
       "      <td>1</td>\n",
       "      <td>18.868995</td>\n",
       "    </tr>\n",
       "    <tr>\n",
       "      <th>270</th>\n",
       "      <td>3</td>\n",
       "      <td>18</td>\n",
       "      <td>17.895993</td>\n",
       "    </tr>\n",
       "    <tr>\n",
       "      <th>...</th>\n",
       "      <td>...</td>\n",
       "      <td>...</td>\n",
       "      <td>...</td>\n",
       "    </tr>\n",
       "    <tr>\n",
       "      <th>250</th>\n",
       "      <td>2</td>\n",
       "      <td>18</td>\n",
       "      <td>0.296998</td>\n",
       "    </tr>\n",
       "    <tr>\n",
       "      <th>86</th>\n",
       "      <td>12</td>\n",
       "      <td>14</td>\n",
       "      <td>0.291066</td>\n",
       "    </tr>\n",
       "    <tr>\n",
       "      <th>85</th>\n",
       "      <td>12</td>\n",
       "      <td>13</td>\n",
       "      <td>0.260145</td>\n",
       "    </tr>\n",
       "    <tr>\n",
       "      <th>92</th>\n",
       "      <td>12</td>\n",
       "      <td>2</td>\n",
       "      <td>0.241800</td>\n",
       "    </tr>\n",
       "    <tr>\n",
       "      <th>372</th>\n",
       "      <td>8</td>\n",
       "      <td>2</td>\n",
       "      <td>0.203116</td>\n",
       "    </tr>\n",
       "  </tbody>\n",
       "</table>\n",
       "<p>400 rows × 3 columns</p>\n",
       "</div>"
      ],
      "text/plain": [
       "     t1  t2      w_sum\n",
       "260   3   0  38.573347\n",
       "333   6   3  27.892149\n",
       "236  19   6  23.284240\n",
       "261   3   1  18.868995\n",
       "270   3  18  17.895993\n",
       "..   ..  ..        ...\n",
       "250   2  18   0.296998\n",
       "86   12  14   0.291066\n",
       "85   12  13   0.260145\n",
       "92   12   2   0.241800\n",
       "372   8   2   0.203116\n",
       "\n",
       "[400 rows x 3 columns]"
      ]
     },
     "execution_count": 39,
     "metadata": {},
     "output_type": "execute_result"
    }
   ],
   "source": [
    "X3.sort_values('w_sum', ascending=False)"
   ]
  },
  {
   "cell_type": "code",
   "execution_count": 40,
   "metadata": {},
   "outputs": [
    {
     "data": {
      "text/plain": [
       "<AxesSubplot:>"
      ]
     },
     "execution_count": 40,
     "metadata": {},
     "output_type": "execute_result"
    },
    {
     "data": {
      "image/png": "[encoded data removed]",
      "text/plain": [
       "<Figure size 432x288 with 1 Axes>"
      ]
     },
     "metadata": {
      "needs_background": "light"
     },
     "output_type": "display_data"
    }
   ],
   "source": [
    "X3.w_sum.round().value_counts().sort_index().plot.bar()"
   ]
  },
  {
   "cell_type": "markdown",
   "metadata": {},
   "source": [
    "# Create network based on dot products"
   ]
  },
  {
   "cell_type": "code",
   "execution_count": null,
   "metadata": {},
   "outputs": [],
   "source": []
  }
 ],
 "metadata": {
  "interpreter": {
   "hash": "f109295820601b370c230c664a21a266be9eb5d7c3877a2cc38f035c84353f35"
  },
  "kernelspec": {
   "display_name": "Python 3",
   "language": "python",
   "name": "python3"
  },
  "language_info": {
   "codemirror_mode": {
    "name": "ipython",
    "version": 3
   },
   "file_extension": ".py",
   "mimetype": "text/x-python",
   "name": "python",
   "nbconvert_exporter": "python",
   "pygments_lexer": "ipython3",
   "version": "3.8.8"
  },
  "latex_envs": {
   "LaTeX_envs_menu_present": true,
   "autoclose": false,
   "autocomplete": true,
   "bibliofile": "biblio.bib",
   "cite_by": "apalike",
   "current_citInitial": 1,
   "eqLabelWithNumbers": true,
   "eqNumInitial": 1,
   "hotkeys": {
    "equation": "Ctrl-E",
    "itemize": "Ctrl-I"
   },
   "labels_anchors": false,
   "latex_user_defs": false,
   "report_style_numbering": false,
   "user_envs_cfg": false
  },
  "toc": {
   "base_numbering": 1,
   "nav_menu": {},
   "number_sections": true,
   "sideBar": true,
   "skip_h1_title": false,
   "title_cell": "Table of Contents",
   "title_sidebar": "Contents",
   "toc_cell": false,
   "toc_position": {
    "height": "calc(100% - 180px)",
    "left": "10px",
    "top": "150px",
    "width": "267.9px"
   },
   "toc_section_display": true,
   "toc_window_display": true
  },
  "varInspector": {
   "cols": {
    "lenName": 16,
    "lenType": 16,
    "lenVar": 40
   },
   "kernels_config": {
    "python": {
     "delete_cmd_postfix": "",
     "delete_cmd_prefix": "del ",
     "library": "var_list.py",
     "varRefreshCmd": "print(var_dic_list())"
    },
    "r": {
     "delete_cmd_postfix": ") ",
     "delete_cmd_prefix": "rm(",
     "library": "var_list.r",
     "varRefreshCmd": "cat(var_dic_list()) "
    }
   },
   "oldHeight": 354.54999999999995,
   "position": {
    "height": "40px",
    "left": "877.5px",
    "right": "20px",
    "top": "130px",
    "width": "554.7px"
   },
   "types_to_exclude": [
    "module",
    "function",
    "builtin_function_or_method",
    "instance",
    "_Feature"
   ],
   "varInspector_section_display": "none",
   "window_display": false
  },
  "widgets": {
   "application/vnd.jupyter.widget-state+json": {
    "state": {},
    "version_major": 2,
    "version_minor": 0
   }
  }
 },
 "nbformat": 4,
 "nbformat_minor": 4
}
